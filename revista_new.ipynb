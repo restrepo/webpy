{
 "cells": [
  {
   "cell_type": "code",
   "execution_count": 1,
   "metadata": {},
   "outputs": [],
   "source": [
    "from revista_new import *"
   ]
  },
  {
   "cell_type": "markdown",
   "metadata": {},
   "source": [
    "Extract date parts"
   ]
  },
  {
   "cell_type": "code",
   "execution_count": 6,
   "metadata": {},
   "outputs": [],
   "source": [
    "doi='10.1103/PhysRevD.98.055016'"
   ]
  },
  {
   "cell_type": "code",
   "execution_count": 7,
   "metadata": {},
   "outputs": [],
   "source": [
    "cvsout=pd.DataFrame()\n",
    "Colciencias=True; verbose=False\n",
    "output='udea'\n",
    "if sys.argv[1] !='-f':\n",
    "    doi=sys.argv[1]\n",
    "    \n",
    "    \n",
    "rjson=get_doi(doi)\n",
    "if rjson:\n",
    "    art=pd.Series(rjson)"
   ]
  },
  {
   "cell_type": "code",
   "execution_count": 95,
   "metadata": {},
   "outputs": [],
   "source": [
    "#if True:\n",
    "def date_parts(art):\n",
    "    if 'created' in art.keys():\n",
    "        if art['created']: #assume that 'date-parts' is defined\n",
    "            kd='created'\n",
    "        if 'issued' in art.keys():\n",
    "            if art['issued']:\n",
    "                kd='issued' # overwrite previous kade\n",
    "            if art['created'] and art['issued']: #requires both!\n",
    "                if   len(art['created']['date-parts'][0])>=3 and len(art['issued']['date-parts'][0])< 3:\n",
    "                    kd='created'\n",
    "                elif len(art['created']['date-parts'][0])< 3 and len(art['issued']['date-parts'][0])>=3:\n",
    "                    kd='issued'\n",
    "                elif len(art['created']['date-parts'][0])>=3 and len(art['issued']['date-parts'][0])>=3:\n",
    "                    if datetimelist( art['created']['date-parts'][0] ) <=\\\n",
    "                       datetimelist( art['issued']['date-parts'][0] ):\n",
    "                        kd='created'\n",
    "                    else:\n",
    "                        kd='issued'\n",
    "                else:\n",
    "                    kd='created'\n",
    "\n",
    "    else:\n",
    "        kd='unknown'\n",
    "        art[kd]={'date-parts':[[6666,12,31]]}\n",
    "                \n",
    "    if len(art[kd]['date-parts'][0])>=1:\n",
    "        art['year']=art[kd]['date-parts'][0][0]\n",
    "    if len(art[kd]['date-parts'][0])>=2:\n",
    "        art['month']=art[kd]['date-parts'][0][1]\n",
    "    if len(art[kd]['date-parts'][0])>=3:\n",
    "        art['day']=art[kd]['date-parts'][0][2]\n",
    "\n",
    "    return art"
   ]
  },
  {
   "cell_type": "code",
   "execution_count": 97,
   "metadata": {},
   "outputs": [
    {
     "data": {
      "text/plain": [
       "2018"
      ]
     },
     "execution_count": 97,
     "metadata": {},
     "output_type": "execute_result"
    }
   ],
   "source": [
    "art.year"
   ]
  },
  {
   "cell_type": "code",
   "execution_count": 40,
   "metadata": {},
   "outputs": [],
   "source": [
    "from IPython.display import HTML"
   ]
  },
  {
   "cell_type": "code",
   "execution_count": 72,
   "metadata": {},
   "outputs": [
    {
     "ename": "AttributeError",
     "evalue": "'Series' object has no attribute 'authors'",
     "output_type": "error",
     "traceback": [
      "\u001b[0;31m---------------------------------------------------------------------------\u001b[0m",
      "\u001b[0;31mAttributeError\u001b[0m                            Traceback (most recent call last)",
      "\u001b[0;32m<ipython-input-72-8035c81b164b>\u001b[0m in \u001b[0;36m<module>\u001b[0;34m()\u001b[0m\n\u001b[0;32m----> 1\u001b[0;31m \u001b[0mkk\u001b[0m\u001b[0;34m=\u001b[0m\u001b[0mart\u001b[0m\u001b[0;34m.\u001b[0m\u001b[0mauthors\u001b[0m\u001b[0;34m\u001b[0m\u001b[0m\n\u001b[0m",
      "\u001b[0;32m/usr/local/lib/python3.5/dist-packages/pandas/core/generic.py\u001b[0m in \u001b[0;36m__getattr__\u001b[0;34m(self, name)\u001b[0m\n\u001b[1;32m   4374\u001b[0m             \u001b[0;32mif\u001b[0m \u001b[0mself\u001b[0m\u001b[0;34m.\u001b[0m\u001b[0m_info_axis\u001b[0m\u001b[0;34m.\u001b[0m\u001b[0m_can_hold_identifiers_and_holds_name\u001b[0m\u001b[0;34m(\u001b[0m\u001b[0mname\u001b[0m\u001b[0;34m)\u001b[0m\u001b[0;34m:\u001b[0m\u001b[0;34m\u001b[0m\u001b[0m\n\u001b[1;32m   4375\u001b[0m                 \u001b[0;32mreturn\u001b[0m \u001b[0mself\u001b[0m\u001b[0;34m[\u001b[0m\u001b[0mname\u001b[0m\u001b[0;34m]\u001b[0m\u001b[0;34m\u001b[0m\u001b[0m\n\u001b[0;32m-> 4376\u001b[0;31m             \u001b[0;32mreturn\u001b[0m \u001b[0mobject\u001b[0m\u001b[0;34m.\u001b[0m\u001b[0m__getattribute__\u001b[0m\u001b[0;34m(\u001b[0m\u001b[0mself\u001b[0m\u001b[0;34m,\u001b[0m \u001b[0mname\u001b[0m\u001b[0;34m)\u001b[0m\u001b[0;34m\u001b[0m\u001b[0m\n\u001b[0m\u001b[1;32m   4377\u001b[0m \u001b[0;34m\u001b[0m\u001b[0m\n\u001b[1;32m   4378\u001b[0m     \u001b[0;32mdef\u001b[0m \u001b[0m__setattr__\u001b[0m\u001b[0;34m(\u001b[0m\u001b[0mself\u001b[0m\u001b[0;34m,\u001b[0m \u001b[0mname\u001b[0m\u001b[0;34m,\u001b[0m \u001b[0mvalue\u001b[0m\u001b[0;34m)\u001b[0m\u001b[0;34m:\u001b[0m\u001b[0;34m\u001b[0m\u001b[0m\n",
      "\u001b[0;31mAttributeError\u001b[0m: 'Series' object has no attribute 'authors'"
     ]
    }
   ],
   "source": [
    "kk=art.authors"
   ]
  },
  {
   "cell_type": "code",
   "execution_count": 118,
   "metadata": {},
   "outputs": [],
   "source": [
    "if True:\n",
    "    rhtml='''<!DOCTYPE html>\n",
    "    <html lang=\"en\"> \n",
    "    <head>\n",
    "    <meta charset=\"utf-8\"/>\n",
    "    </head>\n",
    "    <body>\n",
    "    <h3>Datos generales de la producci&oacute;n</h3>'''\n",
    "    try:\n",
    "        rhtml=rhtml+'''\n",
    "        T&iacute;tulo de la publiaci&oacute;n<br/>\n",
    "        <input type=\"text\" value=\"{}\" size=\"100\"><br/>'''.format(art['title'].replace('\\n',''))\n",
    "    except AttributeError:\n",
    "        pass\n",
    "\n",
    "    rhtml=rhtml+'<table border=\"0\" index=\"0\">'\n",
    "    try:\n",
    "        rhtml=rhtml+'<tr><td>N&uacute;mero total de autores</td><td> Idioma original </td></tr>\\n'\n",
    "        rhtml=rhtml+'<tr><td><input type=\"text\" value=\"{}\"> </td><td> <input type=\"text\" value=\"{}\">  </td></tr>\\n'.format(\n",
    "            len(art.author) ,art['language'])\n",
    "\n",
    "    except AttributeError:\n",
    "        pass\n",
    "    \n",
    "    try:\n",
    "        rhtml=rhtml+'<tr><td>Mes/Año de la publicación</td><td> País de la Publicación </td></tr>\\n'\n",
    "        rhtml=rhtml+'<tr><td><input type=\"text\" value=\"{}/{}\"> </td><td> <input type=\"text\" value=\"\">  </td></tr>\\n'.format(\n",
    "            str(art.month),str(art.year))    \n",
    "    except AttributeError:\n",
    "        pass\n",
    "    \n",
    "    rhtml=rhtml+'<tr><td>Departamento/Estado de la publicación</td><td> Ciudad de Publicación </td></tr>\\n'\n",
    "    rhtml=rhtml+'<tr><td><input type=\"text\" value=\"\"> </td><td> <input type=\"text\" value=\"\">  </td></tr>\\n'\n",
    "    rhtml=rhtml+'</table>'\n",
    "    \n",
    "    #Creditos\n",
    "    rhtml=rhtml+'<h3>Datos específicos de la producción</h3>'\n",
    "    rhtml=rhtml+'<table border=\"0\" index=\"0\">'\n",
    "    try:\n",
    "        rhtml=rhtml+'<tr><td>Nombre de la revista</td><td> ISSN </td></tr>\\n'\n",
    "        rhtml=rhtml+'<tr><td><input type=\"text\" value=\"{}\"> </td><td> <input type=\"text\" value=\"{}\">  </td></tr>\\n'.format(\n",
    "            len(art.author) ,art['language'])\n",
    "    except AttributeError:\n",
    "        pass    \n",
    "    \n",
    "    rhtml=rhtml+'<tr><td>Es de acceso abierto</td><td> Documento adjunto(Si es de acceso abierto) </td></tr>\\n'\n",
    "    rhtml=rhtml+'<tr><td><input type=\"text\" value=\"\"> </td><td> <input type=\"text\" value=\"\">  </td></tr>\\n'\n",
    "\n",
    "    try:\n",
    "        rhtml=rhtml+'<tr><td>Registro DOI</td><td> URL del artículo </td></tr>\\n'\n",
    "        rhtml=rhtml+'<tr><td><input type=\"text\" value=\"{}\"> </td><td> <input type=\"text\" value=\"{}\">  </td></tr>\\n'.format(\n",
    "            len(art.author) ,art['language'])\n",
    "    except AttributeError:\n",
    "        pass    \n",
    "    \n",
    "    try:\n",
    "        rhtml=rhtml+'<tr><td>Número</td><td> Volumen de la revista </td></tr>\\n'\n",
    "        rhtml=rhtml+'<tr><td><input type=\"text\" value=\"{}\"> </td><td> <input type=\"text\" value=\"{}\">  </td></tr>\\n'.format(\n",
    "            len(art.author) ,art['language'])\n",
    "    except AttributeError:\n",
    "        pass    \n",
    "\n",
    "    try:\n",
    "        rhtml=rhtml+'<tr><td>Institución que publica</td><td>  </td></tr>\\n'\n",
    "        rhtml=rhtml+'<tr><td><input type=\"text\" value=\"{}\"> </td><td>   </td></tr>\\n'.format(\n",
    "            len(art.author) )\n",
    "    except AttributeError:\n",
    "        pass    \n",
    "    \n",
    "    rhtml=rhtml+'</table>'\n",
    "    rhtml=rhtml+'''\n",
    "    </body>\n",
    "    </html>'''"
   ]
  },
  {
   "cell_type": "code",
   "execution_count": 119,
   "metadata": {},
   "outputs": [
    {
     "data": {
      "text/html": [
       "<!DOCTYPE html>\n",
       "    <html lang=\"en\"> \n",
       "    <head>\n",
       "    <meta charset=\"utf-8\"/>\n",
       "    </head>\n",
       "    <body>\n",
       "    <h3>Datos generales de la producci&oacute;n</h3>\n",
       "        T&iacute;tulo de la publiaci&oacute;n<br/>\n",
       "        <input type=\"text\" value=\"Probing a simplified W′ model of R(D(*)) anomalies using b tags, τ leptons, and missing energy\" size=\"100\"><br/><table border=\"0\" index=\"0\"><tr><td>N&uacute;mero total de autores</td><td> Idioma original </td></tr>\n",
       "<tr><td><input type=\"text\" value=\"5\"> </td><td> <input type=\"text\" value=\"en\">  </td></tr>\n",
       "<tr><td>Mes/Año de la publicación</td><td> País de la Publicación </td></tr>\n",
       "<tr><td><input type=\"text\" value=\"9/2018\"> </td><td> <input type=\"text\" value=\"\">  </td></tr>\n",
       "<tr><td>Departamento/Estado de la publicación</td><td> Ciudad de Publicación </td></tr>\n",
       "<tr><td><input type=\"text\" value=\"\"> </td><td> <input type=\"text\" value=\"\">  </td></tr>\n",
       "</table><h3>Datos específicos de la producción</h3><table border=\"0\" index=\"0\"><tr><td>Nombre de la revista</td><td> ISSN </td></tr>\n",
       "<tr><td><input type=\"text\" value=\"5\"> </td><td> <input type=\"text\" value=\"en\">  </td></tr>\n",
       "<tr><td>Es de acceso abierto</td><td> Documento adjunto(Si es de acceso abierto) </td></tr>\n",
       "<tr><td><input type=\"text\" value=\"\"> </td><td> <input type=\"text\" value=\"\">  </td></tr>\n",
       "<tr><td>Registro DOI</td><td> URL del artículo </td></tr>\n",
       "<tr><td><input type=\"text\" value=\"5\"> </td><td> <input type=\"text\" value=\"en\">  </td></tr>\n",
       "<tr><td>Número</td><td> Volumen de la revista </td></tr>\n",
       "<tr><td><input type=\"text\" value=\"5\"> </td><td> <input type=\"text\" value=\"en\">  </td></tr>\n",
       "<tr><td>Institución que publica</td><td>  </td></tr>\n",
       "<tr><td><input type=\"text\" value=\"5\"> </td><td>   </td></tr>\n",
       "</table>\n",
       "    </body>\n",
       "    </html>"
      ],
      "text/plain": [
       "<IPython.core.display.HTML object>"
      ]
     },
     "execution_count": 119,
     "metadata": {},
     "output_type": "execute_result"
    }
   ],
   "source": [
    "HTML(rhtml)"
   ]
  },
  {
   "cell_type": "code",
   "execution_count": 108,
   "metadata": {},
   "outputs": [
    {
     "data": {
      "text/html": [
       "<div>\n",
       "<style scoped>\n",
       "    .dataframe tbody tr th:only-of-type {\n",
       "        vertical-align: middle;\n",
       "    }\n",
       "\n",
       "    .dataframe tbody tr th {\n",
       "        vertical-align: top;\n",
       "    }\n",
       "\n",
       "    .dataframe thead th {\n",
       "        text-align: right;\n",
       "    }\n",
       "</style>\n",
       "<table border=\"1\" class=\"dataframe\">\n",
       "  <thead>\n",
       "    <tr style=\"text-align: right;\">\n",
       "      <th></th>\n",
       "      <th>DOI</th>\n",
       "      <th>ISSN</th>\n",
       "      <th>URL</th>\n",
       "      <th>article-number</th>\n",
       "      <th>author</th>\n",
       "      <th>container-title</th>\n",
       "      <th>container-title-short</th>\n",
       "      <th>content-domain</th>\n",
       "      <th>created</th>\n",
       "      <th>deposited</th>\n",
       "      <th>funder</th>\n",
       "      <th>indexed</th>\n",
       "      <th>is-referenced-by-count</th>\n",
       "      <th>issue</th>\n",
       "      <th>issued</th>\n",
       "      <th>journal-issue</th>\n",
       "      <th>language</th>\n",
       "      <th>license</th>\n",
       "      <th>link</th>\n",
       "      <th>member</th>\n",
       "      <th>original-title</th>\n",
       "      <th>prefix</th>\n",
       "      <th>published-online</th>\n",
       "      <th>publisher</th>\n",
       "      <th>reference</th>\n",
       "      <th>reference-count</th>\n",
       "      <th>references-count</th>\n",
       "      <th>relation</th>\n",
       "      <th>score</th>\n",
       "      <th>short-title</th>\n",
       "      <th>source</th>\n",
       "      <th>subject</th>\n",
       "      <th>subtitle</th>\n",
       "      <th>title</th>\n",
       "      <th>type</th>\n",
       "      <th>update-policy</th>\n",
       "      <th>volume</th>\n",
       "    </tr>\n",
       "  </thead>\n",
       "  <tbody>\n",
       "    <tr>\n",
       "      <th>0</th>\n",
       "      <td>10.1103/physrevd.98.055016</td>\n",
       "      <td>[2470-0010, 2470-0029]</td>\n",
       "      <td>http://dx.doi.org/10.1103/PhysRevD.98.055016</td>\n",
       "      <td>055016</td>\n",
       "      <td>[{'given': 'Mohammad', 'affiliation': [], 'sequence': 'first', 'family': 'Abdullah'}, {'given': 'Julián', 'affiliation': [], 'sequence': 'additional', 'family': 'Calle'}, {'given': 'Bhaskar', 'affiliation': [], 'sequence': 'additional', 'family': 'Dutta'}, {'given': 'Andrés', 'affiliation': [], 'sequence': 'additional', 'family': 'Flórez'}, {'given': 'Diego', 'affiliation': [], 'sequence': 'additional', 'family': 'Restrepo'}]</td>\n",
       "      <td>Physical Review D</td>\n",
       "      <td>Phys. Rev. D</td>\n",
       "      <td>{'domain': ['journals.aps.org'], 'crossmark-restriction': True}</td>\n",
       "      <td>{'date-time': '2018-09-13T14:27:42Z', 'date-parts': [[2018, 9, 13]], 'timestamp': 1536848862000}</td>\n",
       "      <td>{'date-time': '2018-09-13T14:27:45Z', 'date-parts': [[2018, 9, 13]], 'timestamp': 1536848865000}</td>\n",
       "      <td>[{'DOI': '10.13039/100000015', 'award': ['DE-SC0010813'], 'doi-asserted-by': 'publisher', 'name': 'U.S. Department of Energy'}, {'DOI': '10.13039/501100006070', 'award': [], 'doi-asserted-by': 'publisher', 'name': 'Universidad de los Andes'}, {'DOI': '10.13039/100007637', 'award': ['111577657253'], 'doi-asserted-by': 'publisher', 'name': 'Departamento Administrativo de Ciencia, Tecnología e Innovación'}]</td>\n",
       "      <td>{'date-time': '2019-01-04T13:22:41Z', 'date-parts': [[2019, 1, 4]], 'timestamp': 1546608161487}</td>\n",
       "      <td>3</td>\n",
       "      <td>5</td>\n",
       "      <td>{'date-parts': [[2018, 9, 13]]}</td>\n",
       "      <td>{'published-print': {'date-parts': [[2018, 9]]}, 'issue': '5'}</td>\n",
       "      <td>en</td>\n",
       "      <td>[{'content-version': 'vor', 'start': {'date-time': '2018-09-13T00:00:00Z', 'date-parts': [[2018, 9, 13]], 'timestamp': 1536796800000}, 'delay-in-days': 0, 'URL': 'https://creativecommons.org/licenses/by/4.0/'}]</td>\n",
       "      <td>[{'content-version': 'vor', 'URL': 'https://link.aps.org/article/10.1103/PhysRevD.98.055016', 'content-type': 'unspecified', 'intended-application': 'syndication'}, {'content-version': 'vor', 'URL': 'http://harvest.aps.org/v2/journals/articles/10.1103/PhysRevD.98.055016/fulltext', 'content-type': 'unspecified', 'intended-application': 'similarity-checking'}]</td>\n",
       "      <td>16</td>\n",
       "      <td>[]</td>\n",
       "      <td>10.1103</td>\n",
       "      <td>{'date-parts': [[2018, 9, 13]]}</td>\n",
       "      <td>American Physical Society (APS)</td>\n",
       "      <td>[{'key': 'PhysRevD.98.055016Cc1R1', 'DOI': '10.1103/PhysRevD.88.072012', 'doi-asserted-by': 'publisher'}, {'key': 'PhysRevD.98.055016Cc2R1', 'DOI': '10.1103/PhysRevLett.109.101802', 'doi-asserted-by': 'publisher'}, {'key': 'PhysRevD.98.055016Cc3R1', 'DOI': '10.1103/PhysRevD.92.072014', 'doi-asserted-by': 'publisher'}, {'key': 'PhysRevD.98.055016Cc4R1', 'year': '2016', 'volume-title': 'Proceedings, 51st Rencontres de Moriond on Electroweak Interactions and Unified Theories, La Thuile, Italy, ...</td>\n",
       "      <td>82</td>\n",
       "      <td>82</td>\n",
       "      <td>{'cites': []}</td>\n",
       "      <td>1.0</td>\n",
       "      <td>[]</td>\n",
       "      <td>Crossref</td>\n",
       "      <td>[Physics and Astronomy (miscellaneous)]</td>\n",
       "      <td>[]</td>\n",
       "      <td>Probing a simplified \\nW′\\n model of \\nR(D(*))\\n anomalies using \\nb\\n tags, \\nτ\\n leptons, and missing energy</td>\n",
       "      <td>article-journal</td>\n",
       "      <td>http://dx.doi.org/10.1103/crossmark-policy</td>\n",
       "      <td>98</td>\n",
       "    </tr>\n",
       "  </tbody>\n",
       "</table>\n",
       "</div>"
      ],
      "text/plain": [
       "                          DOI                    ISSN  \\\n",
       "0  10.1103/physrevd.98.055016  [2470-0010, 2470-0029]   \n",
       "\n",
       "                                            URL article-number  \\\n",
       "0  http://dx.doi.org/10.1103/PhysRevD.98.055016         055016   \n",
       "\n",
       "                                                                                                                                                                                                                                                                                                                                                                                                                                          author  \\\n",
       "0  [{'given': 'Mohammad', 'affiliation': [], 'sequence': 'first', 'family': 'Abdullah'}, {'given': 'Julián', 'affiliation': [], 'sequence': 'additional', 'family': 'Calle'}, {'given': 'Bhaskar', 'affiliation': [], 'sequence': 'additional', 'family': 'Dutta'}, {'given': 'Andrés', 'affiliation': [], 'sequence': 'additional', 'family': 'Flórez'}, {'given': 'Diego', 'affiliation': [], 'sequence': 'additional', 'family': 'Restrepo'}]   \n",
       "\n",
       "     container-title container-title-short  \\\n",
       "0  Physical Review D          Phys. Rev. D   \n",
       "\n",
       "                                                    content-domain  \\\n",
       "0  {'domain': ['journals.aps.org'], 'crossmark-restriction': True}   \n",
       "\n",
       "                                                                                            created  \\\n",
       "0  {'date-time': '2018-09-13T14:27:42Z', 'date-parts': [[2018, 9, 13]], 'timestamp': 1536848862000}   \n",
       "\n",
       "                                                                                          deposited  \\\n",
       "0  {'date-time': '2018-09-13T14:27:45Z', 'date-parts': [[2018, 9, 13]], 'timestamp': 1536848865000}   \n",
       "\n",
       "                                                                                                                                                                                                                                                                                                                                                                                                                    funder  \\\n",
       "0  [{'DOI': '10.13039/100000015', 'award': ['DE-SC0010813'], 'doi-asserted-by': 'publisher', 'name': 'U.S. Department of Energy'}, {'DOI': '10.13039/501100006070', 'award': [], 'doi-asserted-by': 'publisher', 'name': 'Universidad de los Andes'}, {'DOI': '10.13039/100007637', 'award': ['111577657253'], 'doi-asserted-by': 'publisher', 'name': 'Departamento Administrativo de Ciencia, Tecnología e Innovación'}]   \n",
       "\n",
       "                                                                                           indexed  \\\n",
       "0  {'date-time': '2019-01-04T13:22:41Z', 'date-parts': [[2019, 1, 4]], 'timestamp': 1546608161487}   \n",
       "\n",
       "   is-referenced-by-count issue                           issued  \\\n",
       "0                       3     5  {'date-parts': [[2018, 9, 13]]}   \n",
       "\n",
       "                                                    journal-issue language  \\\n",
       "0  {'published-print': {'date-parts': [[2018, 9]]}, 'issue': '5'}       en   \n",
       "\n",
       "                                                                                                                                                                                                              license  \\\n",
       "0  [{'content-version': 'vor', 'start': {'date-time': '2018-09-13T00:00:00Z', 'date-parts': [[2018, 9, 13]], 'timestamp': 1536796800000}, 'delay-in-days': 0, 'URL': 'https://creativecommons.org/licenses/by/4.0/'}]   \n",
       "\n",
       "                                                                                                                                                                                                                                                                                                                                                                       link  \\\n",
       "0  [{'content-version': 'vor', 'URL': 'https://link.aps.org/article/10.1103/PhysRevD.98.055016', 'content-type': 'unspecified', 'intended-application': 'syndication'}, {'content-version': 'vor', 'URL': 'http://harvest.aps.org/v2/journals/articles/10.1103/PhysRevD.98.055016/fulltext', 'content-type': 'unspecified', 'intended-application': 'similarity-checking'}]   \n",
       "\n",
       "  member original-title   prefix                 published-online  \\\n",
       "0     16             []  10.1103  {'date-parts': [[2018, 9, 13]]}   \n",
       "\n",
       "                         publisher  \\\n",
       "0  American Physical Society (APS)   \n",
       "\n",
       "                                                                                                                                                                                                                                                                                                                                                                                                                                                                                                             reference  \\\n",
       "0  [{'key': 'PhysRevD.98.055016Cc1R1', 'DOI': '10.1103/PhysRevD.88.072012', 'doi-asserted-by': 'publisher'}, {'key': 'PhysRevD.98.055016Cc2R1', 'DOI': '10.1103/PhysRevLett.109.101802', 'doi-asserted-by': 'publisher'}, {'key': 'PhysRevD.98.055016Cc3R1', 'DOI': '10.1103/PhysRevD.92.072014', 'doi-asserted-by': 'publisher'}, {'key': 'PhysRevD.98.055016Cc4R1', 'year': '2016', 'volume-title': 'Proceedings, 51st Rencontres de Moriond on Electroweak Interactions and Unified Theories, La Thuile, Italy, ...   \n",
       "\n",
       "   reference-count  references-count       relation  score short-title  \\\n",
       "0               82                82  {'cites': []}    1.0          []   \n",
       "\n",
       "     source                                  subject subtitle  \\\n",
       "0  Crossref  [Physics and Astronomy (miscellaneous)]       []   \n",
       "\n",
       "                                                                                                            title  \\\n",
       "0  Probing a simplified \\nW′\\n model of \\nR(D(*))\\n anomalies using \\nb\\n tags, \\nτ\\n leptons, and missing energy   \n",
       "\n",
       "              type                               update-policy volume  \n",
       "0  article-journal  http://dx.doi.org/10.1103/crossmark-policy     98  "
      ]
     },
     "execution_count": 108,
     "metadata": {},
     "output_type": "execute_result"
    }
   ],
   "source": [
    "df"
   ]
  },
  {
   "cell_type": "code",
   "execution_count": 86,
   "metadata": {},
   "outputs": [
    {
     "data": {
      "text/plain": [
       "Index(['DOI', 'ISSN', 'URL', 'article-number', 'author', 'container-title',\n",
       "       'container-title-short', 'content-domain', 'created', 'deposited',\n",
       "       'funder', 'indexed', 'is-referenced-by-count', 'issue', 'issued',\n",
       "       'journal-issue', 'language', 'license', 'link', 'member',\n",
       "       'original-title', 'prefix', 'published-online', 'publisher',\n",
       "       'reference', 'reference-count', 'references-count', 'relation', 'score',\n",
       "       'short-title', 'source', 'subject', 'subtitle', 'title', 'type',\n",
       "       'update-policy', 'volume'],\n",
       "      dtype='object')"
      ]
     },
     "execution_count": 86,
     "metadata": {},
     "output_type": "execute_result"
    }
   ],
   "source": [
    "df.columns"
   ]
  },
  {
   "cell_type": "code",
   "execution_count": 89,
   "metadata": {},
   "outputs": [
    {
     "data": {
      "text/plain": [
       "Index(['DOI', 'ISSN', 'URL', 'article-number', 'author', 'container-title',\n",
       "       'container-title-short', 'content-domain', 'created', 'deposited',\n",
       "       'funder', 'indexed', 'is-referenced-by-count', 'issue', 'issued',\n",
       "       'journal-issue', 'language', 'license', 'link', 'member',\n",
       "       'original-title', 'prefix', 'published-online', 'publisher',\n",
       "       'reference', 'reference-count', 'references-count', 'relation', 'score',\n",
       "       'short-title', 'source', 'subject', 'subtitle', 'title', 'type',\n",
       "       'update-policy', 'volume'],\n",
       "      dtype='object')"
      ]
     },
     "execution_count": 89,
     "metadata": {},
     "output_type": "execute_result"
    }
   ],
   "source": [
    "art.keys()"
   ]
  },
  {
   "cell_type": "code",
   "execution_count": 68,
   "metadata": {},
   "outputs": [
    {
     "ename": "KeyError",
     "evalue": "'autores'",
     "output_type": "error",
     "traceback": [
      "\u001b[0;31m---------------------------------------------------------------------------\u001b[0m",
      "\u001b[0;31mTypeError\u001b[0m                                 Traceback (most recent call last)",
      "\u001b[0;32m/usr/local/lib/python3.5/dist-packages/pandas/core/indexes/base.py\u001b[0m in \u001b[0;36mget_value\u001b[0;34m(self, series, key)\u001b[0m\n\u001b[1;32m   3123\u001b[0m             \u001b[0;32mtry\u001b[0m\u001b[0;34m:\u001b[0m\u001b[0;34m\u001b[0m\u001b[0m\n\u001b[0;32m-> 3124\u001b[0;31m                 \u001b[0;32mreturn\u001b[0m \u001b[0mlibindex\u001b[0m\u001b[0;34m.\u001b[0m\u001b[0mget_value_box\u001b[0m\u001b[0;34m(\u001b[0m\u001b[0ms\u001b[0m\u001b[0;34m,\u001b[0m \u001b[0mkey\u001b[0m\u001b[0;34m)\u001b[0m\u001b[0;34m\u001b[0m\u001b[0m\n\u001b[0m\u001b[1;32m   3125\u001b[0m             \u001b[0;32mexcept\u001b[0m \u001b[0mIndexError\u001b[0m\u001b[0;34m:\u001b[0m\u001b[0;34m\u001b[0m\u001b[0m\n",
      "\u001b[0;32mpandas/_libs/index.pyx\u001b[0m in \u001b[0;36mpandas._libs.index.get_value_box\u001b[0;34m()\u001b[0m\n",
      "\u001b[0;32mpandas/_libs/index.pyx\u001b[0m in \u001b[0;36mpandas._libs.index.get_value_box\u001b[0;34m()\u001b[0m\n",
      "\u001b[0;31mTypeError\u001b[0m: 'str' object cannot be interpreted as an integer",
      "\nDuring handling of the above exception, another exception occurred:\n",
      "\u001b[0;31mKeyError\u001b[0m                                  Traceback (most recent call last)",
      "\u001b[0;32m<ipython-input-68-14d600d93280>\u001b[0m in \u001b[0;36m<module>\u001b[0;34m()\u001b[0m\n\u001b[0;32m----> 1\u001b[0;31m \u001b[0mart\u001b[0m\u001b[0;34m[\u001b[0m\u001b[0;34m'autores'\u001b[0m\u001b[0;34m]\u001b[0m\u001b[0;34m\u001b[0m\u001b[0m\n\u001b[0m",
      "\u001b[0;32m/usr/local/lib/python3.5/dist-packages/pandas/core/series.py\u001b[0m in \u001b[0;36m__getitem__\u001b[0;34m(self, key)\u001b[0m\n\u001b[1;32m    765\u001b[0m         \u001b[0mkey\u001b[0m \u001b[0;34m=\u001b[0m \u001b[0mcom\u001b[0m\u001b[0;34m.\u001b[0m\u001b[0m_apply_if_callable\u001b[0m\u001b[0;34m(\u001b[0m\u001b[0mkey\u001b[0m\u001b[0;34m,\u001b[0m \u001b[0mself\u001b[0m\u001b[0;34m)\u001b[0m\u001b[0;34m\u001b[0m\u001b[0m\n\u001b[1;32m    766\u001b[0m         \u001b[0;32mtry\u001b[0m\u001b[0;34m:\u001b[0m\u001b[0;34m\u001b[0m\u001b[0m\n\u001b[0;32m--> 767\u001b[0;31m             \u001b[0mresult\u001b[0m \u001b[0;34m=\u001b[0m \u001b[0mself\u001b[0m\u001b[0;34m.\u001b[0m\u001b[0mindex\u001b[0m\u001b[0;34m.\u001b[0m\u001b[0mget_value\u001b[0m\u001b[0;34m(\u001b[0m\u001b[0mself\u001b[0m\u001b[0;34m,\u001b[0m \u001b[0mkey\u001b[0m\u001b[0;34m)\u001b[0m\u001b[0;34m\u001b[0m\u001b[0m\n\u001b[0m\u001b[1;32m    768\u001b[0m \u001b[0;34m\u001b[0m\u001b[0m\n\u001b[1;32m    769\u001b[0m             \u001b[0;32mif\u001b[0m \u001b[0;32mnot\u001b[0m \u001b[0mis_scalar\u001b[0m\u001b[0;34m(\u001b[0m\u001b[0mresult\u001b[0m\u001b[0;34m)\u001b[0m\u001b[0;34m:\u001b[0m\u001b[0;34m\u001b[0m\u001b[0m\n",
      "\u001b[0;32m/usr/local/lib/python3.5/dist-packages/pandas/core/indexes/base.py\u001b[0m in \u001b[0;36mget_value\u001b[0;34m(self, series, key)\u001b[0m\n\u001b[1;32m   3130\u001b[0m                     \u001b[0;32mraise\u001b[0m \u001b[0mInvalidIndexError\u001b[0m\u001b[0;34m(\u001b[0m\u001b[0mkey\u001b[0m\u001b[0;34m)\u001b[0m\u001b[0;34m\u001b[0m\u001b[0m\n\u001b[1;32m   3131\u001b[0m                 \u001b[0;32melse\u001b[0m\u001b[0;34m:\u001b[0m\u001b[0;34m\u001b[0m\u001b[0m\n\u001b[0;32m-> 3132\u001b[0;31m                     \u001b[0;32mraise\u001b[0m \u001b[0me1\u001b[0m\u001b[0;34m\u001b[0m\u001b[0m\n\u001b[0m\u001b[1;32m   3133\u001b[0m             \u001b[0;32mexcept\u001b[0m \u001b[0mException\u001b[0m\u001b[0;34m:\u001b[0m  \u001b[0;31m# pragma: no cover\u001b[0m\u001b[0;34m\u001b[0m\u001b[0m\n\u001b[1;32m   3134\u001b[0m                 \u001b[0;32mraise\u001b[0m \u001b[0me1\u001b[0m\u001b[0;34m\u001b[0m\u001b[0m\n",
      "\u001b[0;32m/usr/local/lib/python3.5/dist-packages/pandas/core/indexes/base.py\u001b[0m in \u001b[0;36mget_value\u001b[0;34m(self, series, key)\u001b[0m\n\u001b[1;32m   3116\u001b[0m         \u001b[0;32mtry\u001b[0m\u001b[0;34m:\u001b[0m\u001b[0;34m\u001b[0m\u001b[0m\n\u001b[1;32m   3117\u001b[0m             return self._engine.get_value(s, k,\n\u001b[0;32m-> 3118\u001b[0;31m                                           tz=getattr(series.dtype, 'tz', None))\n\u001b[0m\u001b[1;32m   3119\u001b[0m         \u001b[0;32mexcept\u001b[0m \u001b[0mKeyError\u001b[0m \u001b[0;32mas\u001b[0m \u001b[0me1\u001b[0m\u001b[0;34m:\u001b[0m\u001b[0;34m\u001b[0m\u001b[0m\n\u001b[1;32m   3120\u001b[0m             \u001b[0;32mif\u001b[0m \u001b[0mlen\u001b[0m\u001b[0;34m(\u001b[0m\u001b[0mself\u001b[0m\u001b[0;34m)\u001b[0m \u001b[0;34m>\u001b[0m \u001b[0;36m0\u001b[0m \u001b[0;32mand\u001b[0m \u001b[0mself\u001b[0m\u001b[0;34m.\u001b[0m\u001b[0minferred_type\u001b[0m \u001b[0;32min\u001b[0m \u001b[0;34m[\u001b[0m\u001b[0;34m'integer'\u001b[0m\u001b[0;34m,\u001b[0m \u001b[0;34m'boolean'\u001b[0m\u001b[0;34m]\u001b[0m\u001b[0;34m:\u001b[0m\u001b[0;34m\u001b[0m\u001b[0m\n",
      "\u001b[0;32mpandas/_libs/index.pyx\u001b[0m in \u001b[0;36mpandas._libs.index.IndexEngine.get_value\u001b[0;34m()\u001b[0m\n",
      "\u001b[0;32mpandas/_libs/index.pyx\u001b[0m in \u001b[0;36mpandas._libs.index.IndexEngine.get_value\u001b[0;34m()\u001b[0m\n",
      "\u001b[0;32mpandas/_libs/index.pyx\u001b[0m in \u001b[0;36mpandas._libs.index.IndexEngine.get_loc\u001b[0;34m()\u001b[0m\n",
      "\u001b[0;32mpandas/_libs/hashtable_class_helper.pxi\u001b[0m in \u001b[0;36mpandas._libs.hashtable.PyObjectHashTable.get_item\u001b[0;34m()\u001b[0m\n",
      "\u001b[0;32mpandas/_libs/hashtable_class_helper.pxi\u001b[0m in \u001b[0;36mpandas._libs.hashtable.PyObjectHashTable.get_item\u001b[0;34m()\u001b[0m\n",
      "\u001b[0;31mKeyError\u001b[0m: 'autores'"
     ]
    }
   ],
   "source": [
    "for d in art.author:\n",
    "            a=a+'%s %s <br/>\\n' %(d['given'],d['family'])\n",
    "    \n",
    "            art['autores']=a"
   ]
  },
  {
   "cell_type": "code",
   "execution_count": 56,
   "metadata": {},
   "outputs": [
    {
     "data": {
      "text/html": [
       "<!DOCTYPE html>\n",
       "<html lang=\"en\"> \n",
       "<head>\n",
       "<meta charset=\"utf-8\"/>\n",
       "</head>\n",
       "<body>\n",
       "<h3>Datos generales de la producci&oacute;n</h3>\n",
       "\n",
       "múndo\n",
       "\n",
       "</body>\n",
       "</html>"
      ],
      "text/plain": [
       "<IPython.core.display.HTML object>"
      ]
     },
     "execution_count": 56,
     "metadata": {},
     "output_type": "execute_result"
    }
   ],
   "source": [
    "HTML(rhtml)"
   ]
  },
  {
   "cell_type": "code",
   "execution_count": null,
   "metadata": {},
   "outputs": [],
   "source": [
    "if True:\n",
    "    rhtml=rhtml+'''\n",
    "                      T&iacute;tulo de la publiaci&oacute;n<br/>\n",
    "                      <input type=\"text\" value=\"{}\" size=\"100\"><br/>'''.format(art['title'])\n",
    "    if output=='udea':\n",
    "        rhtml=rhtml+'<table border=\"0\" index=\"0\">'\n",
    "\n",
    "    if output=='udea':\n",
    "        rxml=rxml+'<?xml version=\"1.0\" encoding=\"UTF-8\"?>\\n'\n",
    "        rxml=rxml+'<?xml-stylesheet type=\"text/xsl\" media=\"screen\" href=\"/~d/styles/atom10full.xsl\"?><?xml-stylesheet type=\"text/css\" media=\"screen\" href=\"http://feeds.feedburner.com/~d/styles/itemcontent.css\"?>\\n'\n",
    "        rxml=rxml+'<feed xmlns=\"http://www.w3.org/2005/Atom\" xmlns:openSearch=\"http://a9.com/-/spec/opensearchrss/1.0/\" xmlns:blogger=\"http://schemas.google.com/blogger/2008\" xmlns:georss=\"http://www.georss.org/georss\" xmlns:gd=\"http://schemas.google.com/g/2005\" xmlns:thr=\"http://purl.org/syndication/thread/1.0\" xmlns:feedburner=\"http://rssnamespace.org/feedburner/ext/1.0\">\\n'\n",
    "        "
   ]
  },
  {
   "cell_type": "code",
   "execution_count": 15,
   "metadata": {},
   "outputs": [],
   "source": [
    "df=pd.DataFrame( [rjson] )"
   ]
  },
  {
   "cell_type": "code",
   "execution_count": 17,
   "metadata": {},
   "outputs": [
    {
     "data": {
      "text/plain": [
       "'10.1103/physrevd.98.055016'"
      ]
     },
     "execution_count": 17,
     "metadata": {},
     "output_type": "execute_result"
    }
   ],
   "source": [
    "art.DOI"
   ]
  },
  {
   "cell_type": "code",
   "execution_count": 18,
   "metadata": {},
   "outputs": [
    {
     "data": {
      "text/plain": [
       "0    10.1103/physrevd.98.055016\n",
       "Name: DOI, dtype: object"
      ]
     },
     "execution_count": 18,
     "metadata": {},
     "output_type": "execute_result"
    }
   ],
   "source": [
    "df.DOI"
   ]
  },
  {
   "cell_type": "code",
   "execution_count": 26,
   "metadata": {},
   "outputs": [
    {
     "data": {
      "text/plain": [
       "'Probing a simplified W′ model of R(D(*)) anomalies using b tags, τ leptons, and missing energy'"
      ]
     },
     "execution_count": 26,
     "metadata": {},
     "output_type": "execute_result"
    }
   ],
   "source": [
    "art.title.replace('\\n','')"
   ]
  },
  {
   "cell_type": "code",
   "execution_count": 22,
   "metadata": {},
   "outputs": [
    {
     "data": {
      "text/plain": [
       "0    Probing a simplified \\nW′\\n model of \\nR(D(*))\\n anomalies using \\nb\\n tags, \\nτ\\n leptons, and missing energy\n",
       "Name: title, dtype: object"
      ]
     },
     "execution_count": 22,
     "metadata": {},
     "output_type": "execute_result"
    }
   ],
   "source": [
    "df.title"
   ]
  },
  {
   "cell_type": "code",
   "execution_count": 359,
   "metadata": {},
   "outputs": [
    {
     "data": {
      "text/html": [
       "Copy the next table and paste into the Copy sheet of:\n",
       "               <a href=\"https://goo.gl/WnSY7M\">\"Formato revista\"</a>,<br/>\n",
       "               and fill the empy fields in that Copy sheet.<br/>\n",
       "               Fill (or fix) for ISSN Colciencias, journal country, city and language at: \n",
       "               <a href=\"https://goo.gl/5nfX7c\">https://goo.gl/5nfX7c</a><br/><table border=\"1\"><tr><td><strong>Título del artículo</strong></td><td> Diboson anomaly: Heavy Higgs resonance and QCD vectorlike exotics </td></tr>\n",
       "<tr><td><strong>Nombre de la revista</strong></td><td> Physical Review D </td></tr>\n",
       "<tr><td><strong>DOI</strong></td><td> 10.1103/physrevd.93.015012 </td></tr>\n",
       "<tr><td><strong>Institución que publica</strong></td><td> American Physical Society (APS) </td></tr>\n",
       "<tr><td><strong>País</strong></td><td> Estados Unidos </td></tr>\n",
       "<tr><td><strong>Ciudad</strong></td><td> Nueva York </td></tr>\n",
       "<tr><td><strong>ISSN Colciencias</strong></td><td> 1550-7998 </td></tr>\n",
       "<tr><td><strong>Idioma</strong></td><td>  </td></tr>\n",
       "<tr><td><strong>Año</strong></td><td> 2,0,1,6 </td></tr>\n",
       "<tr><td><strong>Mes</strong></td><td> 1 </td></tr>\n",
       "<tr><td><strong>Día</strong></td><td> 2,1 </td></tr>\n",
       "<tr><td><strong>Volumen</strong></td><td> 9,3 </td></tr>\n",
       "<tr><td><strong>Número</strong></td><td> 0,1,5,0,1,2 </td></tr>\n",
       "<tr><td><strong>Nro páginas</strong></td><td>  </td></tr>\n",
       "<tr><td><strong>Tiraje</strong></td><td>  </td></tr>\n",
       "<tr><td><strong>Revista</strong></td><td>  </td></tr>\n",
       "<tr><td><strong>Fotocopia</strong></td><td>  </td></tr>\n",
       "<tr><td><strong>Otro</strong></td><td>  </td></tr>\n",
       "<tr><td><strong>Fecha presentación: Año</strong></td><td> 2,0,1,6 </td></tr>\n",
       "<tr><td><strong>Fecha presentación: Mes</strong></td><td> 0,2 </td></tr>\n",
       "<tr><td><strong>Fecha presentación: Día</strong></td><td> 0,6 </td></tr>\n",
       "<tr><td><strong>Autores</strong></td><td> D. Aristizabal Sierra <br/>\n",
       "J. Herrero-Garcia <br/>\n",
       "D. Restrepo <br/>\n",
       "A. Vicente <br/>\n",
       " </td></tr>\n",
       "<tr><td><strong>Clasificación Colciencias</strong></td><td> A1 </td></tr>\n",
       "<tr><td><strong>ISSN</strong></td><td> [u'2470-0010', u'2470-0029'] </td></tr>\n",
       "<tr><td><strong>URL</strong></td><td> <a href=\"http://link.aps.org/article/10.1103/PhysRevD.93.015012\">http://link.aps.org/article/10.1103/PhysRevD.93.015012</a> </td></tr>\n",
       "</table>\n",
       "<br/>xml output at http://gfif.udea.edu.co/python/revista.xml <br/>\n",
       "<br/>Jason output at http://gfif.udea.edu.co/python/revista.json <br/>\n",
       "<br/><br/>Code at <a href=\"https://github.com/restrepo/webpy\">Github</a></br>"
      ],
      "text/plain": [
       "<IPython.core.display.HTML object>"
      ]
     },
     "execution_count": 359,
     "metadata": {},
     "output_type": "execute_result"
    }
   ],
   "source": [
    "from IPython.core.display import HTML\n",
    "import commands\n",
    "html=commands.getoutput('./revista.py 10.1103/PhysRevD.93.015012')\n",
    "HTML(html)"
   ]
  },
  {
   "cell_type": "code",
   "execution_count": 22,
   "metadata": {},
   "outputs": [
    {
     "name": "stdout",
     "output_type": "stream",
     "text": [
      "Copy the next table and paste into the Copy sheet of:\n",
      "               <a href=\"https://goo.gl/WnSY7M\">\"Formato revista\"</a>,<br/>\n",
      "               and fill the empy fields in that Copy sheet.<br/>\n",
      "               Fill (or fix) for ISSN Colciencias, journal country, city and language at: \n",
      "               <a href=\"https://goo.gl/5nfX7c\">https://goo.gl/5nfX7c</a><br/><table border=\"1\" index=\"0\"><tr><td><strong>Título del artículo</strong></td><td> The Fermi-LAT gamma-ray excess at the Galactic Center in the singlet-doublet fermion dark matter model </td></tr>\n",
      "<tr><td><strong>Nombre de la revista</strong></td><td> J. Cosmol. Astropart. Phys. </td></tr>\n",
      "<tr><td><strong>DOI</strong></td><td> 10.1088/1475-7516/2016/03/048 </td></tr>\n",
      "<tr><td><strong>Institución que publica</strong></td><td> IOP Publishing </td></tr>\n",
      "<tr><td><strong>País</strong></td><td>  </td></tr>\n",
      "<tr><td><strong>Ciudad</strong></td><td>  </td></tr>\n",
      "<tr><td><strong>ISSN Colciencias</strong></td><td> 1475-7516 </td></tr>\n",
      "<tr><td><strong>Idioma</strong></td><td>  </td></tr>\n",
      "<tr><td><strong>Año</strong></td><td> 2,0,1,6 </td></tr>\n",
      "<tr><td><strong>Mes</strong></td><td> 3 </td></tr>\n",
      "<tr><td><strong>Día</strong></td><td> 2,9 </td></tr>\n",
      "<tr><td><strong>Volumen</strong></td><td> 2,0,1,6 </td></tr>\n",
      "<tr><td><strong>Número</strong></td><td> 0,4,8 </td></tr>\n",
      "<tr><td><strong>Nro páginas</strong></td><td> 1 </td></tr>\n",
      "<tr><td><strong>Tiraje</strong></td><td>  </td></tr>\n",
      "<tr><td><strong>Revista</strong></td><td>  </td></tr>\n",
      "<tr><td><strong>Fotocopia</strong></td><td>  </td></tr>\n",
      "<tr><td><strong>Otro</strong></td><td>  </td></tr>\n",
      "<tr><td><strong>Fecha presentación: Año</strong></td><td> 2,0,1,6 </td></tr>\n",
      "<tr><td><strong>Fecha presentación: Mes</strong></td><td> 0,3 </td></tr>\n",
      "<tr><td><strong>Fecha presentación: Día</strong></td><td> 2,9 </td></tr>\n",
      "<tr><td><strong>Autores</strong></td><td> Shunsaku Horiuchi <br/>\n",
      "Oscar Macias <br/>\n",
      "Diego Restrepo <br/>\n",
      "Andrés Rivera <br/>\n",
      "Oscar Zapata <br/>\n",
      "Hamish Silverwood <br/>\n",
      " </td></tr>\n",
      "<tr><td><strong>Clasificación Colciencias</strong></td><td> A1 </td></tr>\n",
      "<tr><td><strong>ISSN</strong></td><td> [u'1475-7516'] </td></tr>\n",
      "<tr><td><strong>URL</strong></td><td> <a href=\"http://stacks.iop.org/1475-7516/2016/i=03/a=048/pdf\">http://stacks.iop.org/1475-7516/2016/i=03/a=048/pdf</a> </td></tr>\n",
      "</table>\n",
      "<br/>xml output at http://gfif.udea.edu.co/python/revista.xml <br/>\n",
      "<br/>Jason output at http://gfif.udea.edu.co/python/revista.json <br/>\n",
      "<br/>csv output at http://gfif.udea.edu.co/python/revista.csv <br/>\n",
      "<br/><br/>Code at <a href=\"https://github.com/restrepo/webpy\">Github</a></br>\n"
     ]
    },
    {
     "name": "stderr",
     "output_type": "stream",
     "text": [
      "revista.py:174: FutureWarning: sort(columns=....) is deprecated, use sort_values(by=.....)\n",
      "  art['container-title'].lower())].sort('CATEGORIA')[:1]\n",
      "revista.py:185: FutureWarning: sort(columns=....) is deprecated, use sort_values(by=.....)\n",
      "  return colciencias.sort('CATEGORIA')[:1]\n"
     ]
    }
   ],
   "source": [
    "run revista.py '10.1088/1475-7516/2016/03/048'"
   ]
  },
  {
   "cell_type": "code",
   "execution_count": 21,
   "metadata": {},
   "outputs": [
    {
     "data": {
      "text/plain": [
       "'48-49'"
      ]
     },
     "execution_count": 21,
     "metadata": {},
     "output_type": "execute_result"
    }
   ],
   "source": [
    "import re\n",
    "re.sub(r'\\-0+([0-9])',r'-\\1',re.sub(r'^0+([0-9])',r'\\1','048-049'))"
   ]
  },
  {
   "cell_type": "code",
   "execution_count": 4,
   "metadata": {},
   "outputs": [
    {
     "ename": "SyntaxError",
     "evalue": "invalid token (<string>, line 1)",
     "output_type": "error",
     "traceback": [
      "\u001b[1;36m  File \u001b[1;32m\"<string>\"\u001b[1;36m, line \u001b[1;32m1\u001b[0m\n\u001b[1;33m    048-048\u001b[0m\n\u001b[1;37m      ^\u001b[0m\n\u001b[1;31mSyntaxError\u001b[0m\u001b[1;31m:\u001b[0m invalid token\n"
     ]
    }
   ],
   "source": [
    "eval('048-048')"
   ]
  },
  {
   "cell_type": "code",
   "execution_count": 91,
   "metadata": {},
   "outputs": [],
   "source": [
    "if art['created']: print 1"
   ]
  },
  {
   "cell_type": "code",
   "execution_count": 92,
   "metadata": {},
   "outputs": [
    {
     "name": "stdout",
     "output_type": "stream",
     "text": [
      "1\n"
     ]
    }
   ],
   "source": [
    "if art['issued']: print 1"
   ]
  },
  {
   "cell_type": "code",
   "execution_count": 100,
   "metadata": {
    "collapsed": true
   },
   "outputs": [],
   "source": [
    "pages=[]\n",
    "if pages: print 1"
   ]
  },
  {
   "cell_type": "code",
   "execution_count": 102,
   "metadata": {},
   "outputs": [
    {
     "data": {
      "text/plain": [
       "''"
      ]
     },
     "execution_count": 102,
     "metadata": {},
     "output_type": "execute_result"
    }
   ],
   "source": [
    "pages=['']\n",
    "','.join(list(str(pages[0])))"
   ]
  },
  {
   "cell_type": "code",
   "execution_count": 78,
   "metadata": {},
   "outputs": [
    {
     "data": {
      "text/plain": [
       "-1"
      ]
     },
     "execution_count": 78,
     "metadata": {},
     "output_type": "execute_result"
    }
   ],
   "source": [
    "a.find('Elsevier')"
   ]
  },
  {
   "cell_type": "code",
   "execution_count": 48,
   "metadata": {},
   "outputs": [
    {
     "name": "stdout",
     "output_type": "stream",
     "text": [
      "Copy the next table and paste into the Copy sheet of:\n",
      "               <a href=\"https://goo.gl/WnSY7M\">\"Formato revista\"</a>,<br/>\n",
      "               and fill the empy fields in that Copy sheet.<br/>\n",
      "               Fill (or fix) for ISSN Colciencias, journal country, city and language at: \n",
      "               <a href=\"https://goo.gl/5nfX7c\">https://goo.gl/5nfX7c</a><br/><table border=\"1\"><tr><td><strong>Título del artículo</strong></td><td> Diboson anomaly: Heavy Higgs resonance and QCD vectorlike exotics </td></tr>\n",
      "<tr><td><strong>Nombre de la revista</strong></td><td> Physical Review D </td></tr>\n",
      "<tr><td><strong>DOI</strong></td><td> 10.1103/physrevd.93.015012 </td></tr>\n",
      "<tr><td><strong>Institución que publica</strong></td><td> American Physical Society (APS) </td></tr>\n",
      "<tr><td><strong>País</strong></td><td> Estados Unidos </td></tr>\n",
      "<tr><td><strong>Ciudad</strong></td><td> Nueva York </td></tr>\n",
      "<tr><td><strong>ISSN Colciencias</strong></td><td> 1550-7998 </td></tr>\n",
      "<tr><td><strong>Idioma</strong></td><td>  </td></tr>\n",
      "<tr><td><strong>Año</strong></td><td> 2,0,1,6 </td></tr>\n",
      "<tr><td><strong>Mes</strong></td><td> 1 </td></tr>\n",
      "<tr><td><strong>Día</strong></td><td> 2,1 </td></tr>\n",
      "<tr><td><strong>Volumen</strong></td><td> 9,3 </td></tr>\n",
      "<tr><td><strong>Número</strong></td><td> 0,1,5,0,1,2 </td></tr>\n",
      "<tr><td><strong>Nro páginas</strong></td><td>  </td></tr>\n",
      "<tr><td><strong>Tiraje</strong></td><td>  </td></tr>\n",
      "<tr><td><strong>Revista</strong></td><td>  </td></tr>\n",
      "<tr><td><strong>Fotocopia</strong></td><td>  </td></tr>\n",
      "<tr><td><strong>Otro</strong></td><td>  </td></tr>\n",
      "<tr><td><strong>Fecha presentación: Año</strong></td><td> 2,0,1,6 </td></tr>\n",
      "<tr><td><strong>Fecha presentación: Mes</strong></td><td> 0,2 </td></tr>\n",
      "<tr><td><strong>Fecha presentación: Día</strong></td><td> 0,9 </td></tr>\n",
      "<tr><td><strong>Autores</strong></td><td> D. Aristizabal Sierra <br/>\n",
      "J. Herrero-Garcia <br/>\n",
      "D. Restrepo <br/>\n",
      "A. Vicente <br/>\n",
      " </td></tr>\n",
      "<tr><td><strong>Clasificación Colciencias</strong></td><td> A1 </td></tr>\n",
      "<tr><td><strong>ISSN</strong></td><td> [u'2470-0010', u'2470-0029'] </td></tr>\n",
      "<tr><td><strong>URL</strong></td><td> <a href=\"http://link.aps.org/article/10.1103/PhysRevD.93.015012\">http://link.aps.org/article/10.1103/PhysRevD.93.015012</a> </td></tr>\n",
      "</table>\n",
      "<br/>xml output at http://gfif.udea.edu.co/python/revista.xml <br/>\n",
      "<br/>Jason output at http://gfif.udea.edu.co/python/revista.json <br/>\n",
      "<br/><br/>Code at <a href=\"https://github.com/restrepo/webpy\">Github</a></br>\n"
     ]
    }
   ],
   "source": [
    "run revista.py '10.1103/PhysRevD.93.015012'"
   ]
  },
  {
   "cell_type": "code",
   "execution_count": 55,
   "metadata": {},
   "outputs": [],
   "source": [
    "a=ro['article']"
   ]
  },
  {
   "cell_type": "code",
   "execution_count": 54,
   "metadata": {
    "collapsed": true
   },
   "outputs": [],
   "source": [
    "a.to_csv?"
   ]
  },
  {
   "cell_type": "code",
   "execution_count": 56,
   "metadata": {},
   "outputs": [],
   "source": [
    "a.to_csv('revista.csv',index=False,encoding='utf-8')"
   ]
  },
  {
   "cell_type": "code",
   "execution_count": 70,
   "metadata": {},
   "outputs": [],
   "source": [
    "df=pd.DataFrame()\n",
    "df.append(ro['article'],ignore_index=True).to_csv('revista.csv',encoding='utf-8',index=False)"
   ]
  },
  {
   "cell_type": "code",
   "execution_count": 71,
   "metadata": {},
   "outputs": [
    {
     "name": "stdout",
     "output_type": "stream",
     "text": [
      "DOI,ISSN,ISSN_colciencias,ISSN_type,URL,alternative-id,article-number,assertion,author,autores,city,container-title,country,created,date-day,date-month,date-year,day,deposited,fotocopia,indexacion,indexed,issued,language,lenguage,license,link,member,month,otro,page,pages,prefix,published-print,publisher,redirect,reference-count,revista,score,source,subject,subtitle,tiraje,title,type,update-policy,volume,year\r\n",
      "10.1016/j.spmi.2015.05.039,[0749-6036],0749-6036,A2,http://dx.doi.org/10.1016/j.spmi.2015.05.039,[S0749603615300185],\"1,2,5\",\"[{u'name': u'publisher', u'value': u'Elsevier', u'label': u'This article is maintained by'}, {u'name': u'articletitle', u'value': u'Intersubband linear and nonlinear optical response of the delta-doped SiGe quantum well', u'label': u'Article Title'}, {u'name': u'journaltitle', u'value': u'Superlattices and Microstructures', u'label': u'Journal Title'}, {u'name': u'articlelink', u'value': u'http://dx.doi.org/10.1016/j.spmi.2015.05.039', u'label': u'CrossRef DOI link to publisher maintained version'}, {u'name': u'content_type', u'value': u'article', u'label': u'Content Type'}, {u'name': u'copyright', u'value': u'Copyright © 2015 Elsevier Ltd. All rights reserved.', u'label': u'Copyright'}]\",\"[{u'affiliation': [], u'given': u'C.A.', u'family': u'Duque'}, {u'affiliation': [], u'given': u'V.', u'family': u'Akimov'}, {u'affiliation': [], u'given': u'R.', u'family': u'Demediuk'}, {u'affiliation': [], u'given': u'V.', u'family': u'Belykh'}, {u'affiliation': [], u'given': u'A.', u'family': u'Tiutiunnyk'}, {u'affiliation': [], u'given': u'A.L.', u'family': u'Morales'}, {u'affiliation': [], u'given': u'R.L.', u'family': u'Restrepo'}, {u'affiliation': [], u'given': u'M.E.', u'family': u'Mora-Ramos'}, {u'affiliation': [], u'given': u'O.', u'family': u'Fomina'}, {u'affiliation': [], u'given': u'V.', u'family': u'Tulupenko'}]\",\"C.A. Duque <br/>\r\n",
      "V. Akimov <br/>\r\n",
      "R. Demediuk <br/>\r\n",
      "V. Belykh <br/>\r\n",
      "A. Tiutiunnyk <br/>\r\n",
      "A.L. Morales <br/>\r\n",
      "R.L. Restrepo <br/>\r\n",
      "M.E. Mora-Ramos <br/>\r\n",
      "O. Fomina <br/>\r\n",
      "V. Tulupenko <br/>\r\n",
      "\",Amsterdam,Superlattices and Microstructures,Holanda,\"{u'timestamp': 1433001728000, u'date-time': u'2015-05-30T16:02:08Z', u'date-parts': [[2015, 5, 30]]}\",\"0,9\",\"0,2\",\"2,0,1,6\",\"3,0\",\"{u'timestamp': 1448986326000, u'date-time': u'2015-12-01T16:12:06Z', u'date-parts': [[2015, 12, 1]]}\",,\"ISI, Scopus\",\"{u'timestamp': 1450805533691, u'date-time': u'2015-12-22T17:32:13Z', u'date-parts': [[2015, 12, 22]]}\",\"{u'date-parts': [[2015, 11]]}\",,Inglés,\"[{u'delay-in-days': 0, u'start': {u'timestamp': 1446336000000, u'date-time': u'2015-11-01T00:00:00Z', u'date-parts': [[2015, 11, 1]]}, u'content-version': u'tdm', u'URL': u'http://www.elsevier.com/tdm/userlicense/1.0/'}]\",\"[{u'intended-application': u'text-mining', u'URL': u'http://api.elsevier.com/content/article/PII:S0749603615300185?httpAccept=text/xml', u'content-version': u'vor', u'content-type': u'text/xml'}, {u'intended-application': u'text-mining', u'URL': u'http://api.elsevier.com/content/article/PII:S0749603615300185?httpAccept=text/plain', u'content-version': u'vor', u'content-type': u'text/plain'}]\",http://id.crossref.org/member/78,5,,125-130,6,http://id.crossref.org/prefix/10.1016,\"{u'date-parts': [[2015, 11]]}\",Elsevier BV,\"<a href=\"\"http://api.elsevier.com/content/article/PII:S0749603615300185?httpAccept=text/xml\"\">http://api.elsevier.com/content/article/PII:S0749603615300185?httpAccept=text/xml</a>\",13.0,,1.0,CrossRef,\"[Electrical and Electronic Engineering, Materials Science(all), Condensed Matter Physics]\",[],,Intersubband linear and nonlinear optical response of the delta-doped SiGe quantum well,journal-article,http://dx.doi.org/10.1016/elsevier_cm_policy,\"8,7\",\"2,0,1,5\"\r\n"
     ]
    }
   ],
   "source": [
    "%cat revista.csv"
   ]
  },
  {
   "cell_type": "code",
   "execution_count": 69,
   "metadata": {},
   "outputs": [
    {
     "name": "stdout",
     "output_type": "stream",
     "text": [
      "Copy the next table and paste into the Copy sheet of:\n",
      "               <a href=\"https://goo.gl/WnSY7M\">\"Formato revista\"</a>,<br/>\n",
      "               and fill the empy fields in that Copy sheet.<br/>\n",
      "               Fill (or fix) for ISSN Colciencias, journal country, city and language at: \n",
      "               <a href=\"https://goo.gl/5nfX7c\">https://goo.gl/5nfX7c</a><br/><table border=\"1\"><tr><td><strong>Título del artículo</strong></td><td> Intersubband linear and nonlinear optical response of the delta-doped SiGe quantum well </td></tr>\n",
      "<tr><td><strong>Nombre de la revista</strong></td><td> Superlattices and Microstructures </td></tr>\n",
      "<tr><td><strong>DOI</strong></td><td> 10.1016/j.spmi.2015.05.039 </td></tr>\n",
      "<tr><td><strong>Institución que publica</strong></td><td> Elsevier BV </td></tr>\n",
      "<tr><td><strong>País</strong></td><td> Holanda </td></tr>\n",
      "<tr><td><strong>Ciudad</strong></td><td> Amsterdam </td></tr>\n",
      "<tr><td><strong>ISSN Colciencias</strong></td><td> 0749-6036 </td></tr>\n",
      "<tr><td><strong>Idioma</strong></td><td>  </td></tr>\n",
      "<tr><td><strong>Año</strong></td><td> 2,0,1,5 </td></tr>\n",
      "<tr><td><strong>Mes</strong></td><td> 5 </td></tr>\n",
      "<tr><td><strong>Día</strong></td><td> 3,0 </td></tr>\n",
      "<tr><td><strong>Volumen</strong></td><td> 8,7 </td></tr>\n",
      "<tr><td><strong>Número</strong></td><td> 1,2,5 </td></tr>\n",
      "<tr><td><strong>Nro páginas</strong></td><td> 6 </td></tr>\n",
      "<tr><td><strong>Tiraje</strong></td><td>  </td></tr>\n",
      "<tr><td><strong>Revista</strong></td><td>  </td></tr>\n",
      "<tr><td><strong>Fotocopia</strong></td><td>  </td></tr>\n",
      "<tr><td><strong>Otro</strong></td><td>  </td></tr>\n",
      "<tr><td><strong>Fecha presentación: Año</strong></td><td> 2,0,1,6 </td></tr>\n",
      "<tr><td><strong>Fecha presentación: Mes</strong></td><td> 0,2 </td></tr>\n",
      "<tr><td><strong>Fecha presentación: Día</strong></td><td> 0,9 </td></tr>\n",
      "<tr><td><strong>Autores</strong></td><td> C.A. Duque <br/>\n",
      "V. Akimov <br/>\n",
      "R. Demediuk <br/>\n",
      "V. Belykh <br/>\n",
      "A. Tiutiunnyk <br/>\n",
      "A.L. Morales <br/>\n",
      "R.L. Restrepo <br/>\n",
      "M.E. Mora-Ramos <br/>\n",
      "O. Fomina <br/>\n",
      "V. Tulupenko <br/>\n",
      " </td></tr>\n",
      "<tr><td><strong>Clasificación Colciencias</strong></td><td> A2 </td></tr>\n",
      "<tr><td><strong>ISSN</strong></td><td> [u'0749-6036'] </td></tr>\n",
      "<tr><td><strong>URL</strong></td><td> <a href=\"http://api.elsevier.com/content/article/PII:S0749603615300185?httpAccept=text/xml\">http://api.elsevier.com/content/article/PII:S0749603615300185?httpAccept=text/xml</a> </td></tr>\n",
      "</table>\n",
      "<br/>xml output at http://gfif.udea.edu.co/python/revista.xml <br/>\n",
      "<br/>Jason output at http://gfif.udea.edu.co/python/revista.json <br/>\n",
      "<br/><br/>Code at <a href=\"https://github.com/restrepo/webpy\">Github</a></br>\n"
     ]
    }
   ],
   "source": [
    "run revista.py '10.1016/j.spmi.2015.05.039'"
   ]
  },
  {
   "cell_type": "code",
   "execution_count": 2,
   "metadata": {},
   "outputs": [
    {
     "data": {
      "text/plain": [
       "DOI                                                                                                                                                                                                                                                                                                                                                                                                                                                                                                          10.1016/j.spmi.2015.05.039\n",
       "ISSN                                                                                                                                                                                                                                                                                                                                                                                                                                                                                                                        [0749-6036]\n",
       "URL                                                                                                                                                                                                                                                                                                                                                                                                                                                                                        http://dx.doi.org/10.1016/j.spmi.2015.05.039\n",
       "alternative-id                                                                                                                                                                                                                                                                                                                                                                                                                                                                                                      [S0749603615300185]\n",
       "assertion           [{u'name': u'publisher', u'value': u'Elsevier', u'label': u'This article is maintained by'}, {u'name': u'articletitle', u'value': u'Intersubband linear and nonlinear optical response of the delta-doped SiGe quantum well', u'label': u'Article Title'}, {u'name': u'journaltitle', u'value': u'Superlattices and Microstructures', u'label': u'Journal Title'}, {u'name': u'articlelink', u'value': u'http://dx.doi.org/10.1016/j.spmi.2015.05.039', u'label': u'CrossRef DOI link to publisher maintained ve...\n",
       "author              [{u'affiliation': [], u'given': u'C.A.', u'family': u'Duque'}, {u'affiliation': [], u'given': u'V.', u'family': u'Akimov'}, {u'affiliation': [], u'given': u'R.', u'family': u'Demediuk'}, {u'affiliation': [], u'given': u'V.', u'family': u'Belykh'}, {u'affiliation': [], u'given': u'A.', u'family': u'Tiutiunnyk'}, {u'affiliation': [], u'given': u'A.L.', u'family': u'Morales'}, {u'affiliation': [], u'given': u'R.L.', u'family': u'Restrepo'}, {u'affiliation': [], u'given': u'M.E.', u'family': u'M...\n",
       "container-title                                                                                                                                                                                                                                                                                                                                                                                                                                                                                       Superlattices and Microstructures\n",
       "created                                                                                                                                                                                                                                                                                                                                                                                                                            {u'timestamp': 1433001728000, u'date-time': u'2015-05-30T16:02:08Z', u'date-parts': [[2015, 5, 30]]}\n",
       "deposited                                                                                                                                                                                                                                                                                                                                                                                                                          {u'timestamp': 1448986326000, u'date-time': u'2015-12-01T16:12:06Z', u'date-parts': [[2015, 12, 1]]}\n",
       "indexed                                                                                                                                                                                                                                                                                                                                                                                                                           {u'timestamp': 1450805533691, u'date-time': u'2015-12-22T17:32:13Z', u'date-parts': [[2015, 12, 22]]}\n",
       "issued                                                                                                                                                                                                                                                                                                                                                                                                                                                                                                    {u'date-parts': [[2015, 11]]}\n",
       "license                                                                                                                                                                                                                                                                                                    [{u'delay-in-days': 0, u'start': {u'timestamp': 1446336000000, u'date-time': u'2015-11-01T00:00:00Z', u'date-parts': [[2015, 11, 1]]}, u'content-version': u'tdm', u'URL': u'http://www.elsevier.com/tdm/userlicense/1.0/'}]\n",
       "link                                                                                                                         [{u'intended-application': u'text-mining', u'URL': u'http://api.elsevier.com/content/article/PII:S0749603615300185?httpAccept=text/xml', u'content-version': u'vor', u'content-type': u'text/xml'}, {u'intended-application': u'text-mining', u'URL': u'http://api.elsevier.com/content/article/PII:S0749603615300185?httpAccept=text/plain', u'content-version': u'vor', u'content-type': u'text/plain'}]\n",
       "member                                                                                                                                                                                                                                                                                                                                                                                                                                                                                                 http://id.crossref.org/member/78\n",
       "page                                                                                                                                                                                                                                                                                                                                                                                                                                                                                                                            125-130\n",
       "prefix                                                                                                                                                                                                                                                                                                                                                                                                                                                                                            http://id.crossref.org/prefix/10.1016\n",
       "published-print                                                                                                                                                                                                                                                                                                                                                                                                                                                                                           {u'date-parts': [[2015, 11]]}\n",
       "publisher                                                                                                                                                                                                                                                                                                                                                                                                                                                                                                                   Elsevier BV\n",
       "reference-count                                                                                                                                                                                                                                                                                                                                                                                                                                                                                                                      13\n",
       "score                                                                                                                                                                                                                                                                                                                                                                                                                                                                                                                                 1\n",
       "source                                                                                                                                                                                                                                                                                                                                                                                                                                                                                                                         CrossRef\n",
       "subject                                                                                                                                                                                                                                                                                                                                                                                                                                       [Electrical and Electronic Engineering, Materials Science(all), Condensed Matter Physics]\n",
       "subtitle                                                                                                                                                                                                                                                                                                                                                                                                                                                                                                                             []\n",
       "title                                                                                                                                                                                                                                                                                                                                                                                                                                           Intersubband linear and nonlinear optical response of the delta-doped SiGe quantum well\n",
       "type                                                                                                                                                                                                                                                                                                                                                                                                                                                                                                                    journal-article\n",
       "update-policy                                                                                                                                                                                                                                                                                                                                                                                                                                                                              http://dx.doi.org/10.1016/elsevier_cm_policy\n",
       "volume                                                                                                                                                                                                                                                                                                                                                                                                                                                                                                                              8,7\n",
       "ISSN_colciencias                                                                                                                                                                                                                                                                                                                                                                                                                                                                                                              0749-6036\n",
       "ISSN_type                                                                                                                                                                                                                                                                                                                                                                                                                                                                                                                            A2\n",
       "country                                                                                                                                                                                                                                                                                                                                                                                                                                                                                                                         Holanda\n",
       "city                                                                                                                                                                                                                                                                                                                                                                                                                                                                                                                          Amsterdam\n",
       "lenguage                                                                                                                                                                                                                                                                                                                                                                                                                                                                                                                         Inglés\n",
       "autores                                                                                                                                                                                                                                                                                                                               C.A. Duque <br/>\\nV. Akimov <br/>\\nR. Demediuk <br/>\\nV. Belykh <br/>\\nA. Tiutiunnyk <br/>\\nA.L. Morales <br/>\\nR.L. Restrepo <br/>\\nM.E. Mora-Ramos <br/>\\nO. Fomina <br/>\\nV. Tulupenko <br/>\\n\n",
       "indexacion                                                                                                                                                                                                                                                                                                                                                                                                                                                                                                                  ISI, Scopus\n",
       "redirect                                                                                                                                                                                                                                                                                                                                              <a href=\"http://api.elsevier.com/content/article/PII:S0749603615300185?httpAccept=text/xml\">http://api.elsevier.com/content/article/PII:S0749603615300185?httpAccept=text/xml</a>\n",
       "year                                                                                                                                                                                                                                                                                                                                                                                                                                                                                                                            2,0,1,5\n",
       "month                                                                                                                                                                                                                                                                                                                                                                                                                                                                                                                                 5\n",
       "day                                                                                                                                                                                                                                                                                                                                                                                                                                                                                                                                 3,0\n",
       "pages                                                                                                                                                                                                                                                                                                                                                                                                                                                                                                                                 5\n",
       "article-number                                                                                                                                                                                                                                                                                                                                                                                                                                                                                                                    1,2,5\n",
       "date-year                                                                                                                                                                                                                                                                                                                                                                                                                                                                                                                       2,0,1,6\n",
       "date-month                                                                                                                                                                                                                                                                                                                                                                                                                                                                                                                          0,2\n",
       "date-day                                                                                                                                                                                                                                                                                                                                                                                                                                                                                                                            0,6\n",
       "language                                                                                                                                                                                                                                                                                                                                                                                                                                                                                                                               \n",
       "tiraje                                                                                                                                                                                                                                                                                                                                                                                                                                                                                                                                 \n",
       "revista                                                                                                                                                                                                                                                                                                                                                                                                                                                                                                                                \n",
       "fotocopia                                                                                                                                                                                                                                                                                                                                                                                                                                                                                                                              \n",
       "otro                                                                                                                                                                                                                                                                                                                                                                                                                                                                                                                                   \n",
       "dtype: object"
      ]
     },
     "execution_count": 2,
     "metadata": {},
     "output_type": "execute_result"
    }
   ],
   "source": [
    "art"
   ]
  },
  {
   "cell_type": "code",
   "execution_count": 3,
   "metadata": {},
   "outputs": [
    {
     "name": "stdout",
     "output_type": "stream",
     "text": [
      "Copy the next table and paste into the Copy sheet of:\n",
      "               <a href=\"https://goo.gl/WnSY7M\">\"Formato revista\"</a>,<br/>\n",
      "               and fill the empy fields in that Copy sheet.<br/>\n",
      "               Fill (or fix) for ISSN Colciencias, journal country, city and language at: \n",
      "               <a href=\"https://goo.gl/5nfX7c\">https://goo.gl/5nfX7c</a><br/><table border=\"1\"><tr><td><strong>Título del artículo</strong></td><td> Nonlinear optical response in a zincblende GaN cylindrical quantum dot with donor impurity center </td></tr>\n",
      "<tr><td><strong>Nombre de la revista</strong></td><td> Physica B: Condensed Matter </td></tr>\n",
      "<tr><td><strong>DOI</strong></td><td> 10.1016/j.physb.2015.12.038 </td></tr>\n",
      "<tr><td><strong>Institución que publica</strong></td><td> Elsevier BV </td></tr>\n",
      "<tr><td><strong>País</strong></td><td> Holanda </td></tr>\n",
      "<tr><td><strong>Ciudad</strong></td><td> Amsterdam </td></tr>\n",
      "<tr><td><strong>ISSN Colciencias</strong></td><td> 0921-4526 </td></tr>\n",
      "<tr><td><strong>Idioma</strong></td><td>  </td></tr>\n",
      "<tr><td><strong>Año</strong></td><td> 2,0,1,5 </td></tr>\n",
      "<tr><td><strong>Mes</strong></td><td> 1,2 </td></tr>\n",
      "<tr><td><strong>Día</strong></td><td> 3,1 </td></tr>\n",
      "<tr><td><strong>Volumen</strong></td><td> 4,8,4 </td></tr>\n",
      "<tr><td><strong>Número</strong></td><td> 7,3 </td></tr>\n",
      "<tr><td><strong>Nro páginas</strong></td><td> 9 </td></tr>\n",
      "<tr><td><strong>Tiraje</strong></td><td>  </td></tr>\n",
      "<tr><td><strong>Revista</strong></td><td>  </td></tr>\n",
      "<tr><td><strong>Fotocopia</strong></td><td>  </td></tr>\n",
      "<tr><td><strong>Otro</strong></td><td>  </td></tr>\n",
      "<tr><td><strong>Fecha presentación: Año</strong></td><td> 2,0,1,6 </td></tr>\n",
      "<tr><td><strong>Fecha presentación: Mes</strong></td><td> 0,2 </td></tr>\n",
      "<tr><td><strong>Fecha presentación: Día</strong></td><td> 0,6 </td></tr>\n",
      "<tr><td><strong>Autores</strong></td><td> Jaime H. Hoyos <br/>\n",
      "J.D. Correa <br/>\n",
      "M.E. Mora-Ramos <br/>\n",
      "C.A. Duque <br/>\n",
      " </td></tr>\n",
      "<tr><td><strong>Clasificación Colciencias</strong></td><td> A1 </td></tr>\n",
      "<tr><td><strong>ISSN</strong></td><td> [u'0921-4526'] </td></tr>\n",
      "<tr><td><strong>URL</strong></td><td> <a href=\"http://api.elsevier.com/content/article/PII:S0921452615303707?httpAccept=text/xml\">http://api.elsevier.com/content/article/PII:S0921452615303707?httpAccept=text/xml</a> </td></tr>\n",
      "</table>\n",
      "<br/>xml output at http://gfif.udea.edu.co/python/revista.xml <br/>\n",
      "<br/>Jason output at http://gfif.udea.edu.co/python/revista.json <br/>\n",
      "<br/><br/>Code at <a href=\"https://github.com/restrepo/webpy\">Github</a></br>\n"
     ]
    }
   ],
   "source": [
    "run revista.py \"10.1016/j.physb.2015.12.038\""
   ]
  },
  {
   "cell_type": "code",
   "execution_count": 4,
   "metadata": {},
   "outputs": [
    {
     "name": "stdout",
     "output_type": "stream",
     "text": [
      "Copy the next table and paste into the Copy sheet of:\n",
      "               <a href=\"https://goo.gl/WnSY7M\">\"Formato revista\"</a>,<br/>\n",
      "               and fill the empy fields in that Copy sheet.<br/>\n",
      "               Fill (or fix) for ISSN Colciencias, journal country, city and language at: \n",
      "               <a href=\"https://goo.gl/5nfX7c\">https://goo.gl/5nfX7c</a><br/><table border=\"1\"><tr><td><strong>Título del artículo</strong></td><td> Antenatal Betamethasone for Women at Risk for Late Preterm Delivery </td></tr>\n",
      "<tr><td><strong>Nombre de la revista</strong></td><td> New England Journal of Medicine </td></tr>\n",
      "<tr><td><strong>DOI</strong></td><td> 10.1056/nejmoa1516783 </td></tr>\n",
      "<tr><td><strong>Institución que publica</strong></td><td> New England Journal of Medicine (NEJM/MMS) </td></tr>\n",
      "<tr><td><strong>País</strong></td><td>  </td></tr>\n",
      "<tr><td><strong>Ciudad</strong></td><td>  </td></tr>\n",
      "<tr><td><strong>ISSN Colciencias</strong></td><td> 0028-4793 </td></tr>\n",
      "<tr><td><strong>Idioma</strong></td><td>  </td></tr>\n",
      "<tr><td><strong>Año</strong></td><td> 2,0,1,6 </td></tr>\n",
      "<tr><td><strong>Mes</strong></td><td> 2 </td></tr>\n",
      "<tr><td><strong>Día</strong></td><td> 4 </td></tr>\n",
      "<tr><td><strong>Volumen</strong></td><td>  </td></tr>\n",
      "<tr><td><strong>Número</strong></td><td> 1,6,0,2,0,4,0,5,0,0,1,0,0,0,6 </td></tr>\n",
      "<tr><td><strong>Nro páginas</strong></td><td>  </td></tr>\n",
      "<tr><td><strong>Tiraje</strong></td><td>  </td></tr>\n",
      "<tr><td><strong>Revista</strong></td><td>  </td></tr>\n",
      "<tr><td><strong>Fotocopia</strong></td><td>  </td></tr>\n",
      "<tr><td><strong>Otro</strong></td><td>  </td></tr>\n",
      "<tr><td><strong>Fecha presentación: Año</strong></td><td> 2,0,1,6 </td></tr>\n",
      "<tr><td><strong>Fecha presentación: Mes</strong></td><td> 0,2 </td></tr>\n",
      "<tr><td><strong>Fecha presentación: Día</strong></td><td> 0,6 </td></tr>\n",
      "<tr><td><strong>Autores</strong></td><td> Cynthia Gyamfi-Bannerman <br/>\n",
      "Elizabeth A. Thom <br/>\n",
      "Sean C. Blackwell <br/>\n",
      "Alan T.N. Tita <br/>\n",
      "Uma M. Reddy <br/>\n",
      "George R. Saade <br/>\n",
      "Dwight J. Rouse <br/>\n",
      "David S. McKenna <br/>\n",
      "Erin A.S. Clark <br/>\n",
      "John M. Thorp <br/>\n",
      "Edward K. Chien <br/>\n",
      "Alan M. Peaceman <br/>\n",
      "Ronald S. Gibbs <br/>\n",
      "Geeta K. Swamy <br/>\n",
      "Mary E. Norton <br/>\n",
      "Brian M. Casey <br/>\n",
      "Steve N. Caritis <br/>\n",
      "Jorge E. Tolosa <br/>\n",
      "Yoram Sorokin <br/>\n",
      "J. Peter VanDorsten <br/>\n",
      "Lucky Jain <br/>\n",
      " </td></tr>\n",
      "<tr><td><strong>Clasificación Colciencias</strong></td><td> A1 </td></tr>\n",
      "<tr><td><strong>ISSN</strong></td><td> [u'0028-4793', u'1533-4406'] </td></tr>\n",
      "<tr><td><strong>URL</strong></td><td>  </td></tr>\n",
      "</table>\n",
      "<br/>xml output at http://gfif.udea.edu.co/python/revista.xml <br/>\n",
      "<br/>Jason output at http://gfif.udea.edu.co/python/revista.json <br/>\n",
      "<br/><br/>Code at <a href=\"https://github.com/restrepo/webpy\">Github</a></br>\n"
     ]
    }
   ],
   "source": [
    "run ./revista.py \"10.1056/NEJMoa1516783\""
   ]
  },
  {
   "cell_type": "code",
   "execution_count": 271,
   "metadata": {
    "collapsed": true
   },
   "outputs": [],
   "source": [
    "art['container-title']='hjkhkhfa'"
   ]
  },
  {
   "cell_type": "markdown",
   "metadata": {},
   "source": [
    "art must contains either container-title or ISSN. We can assume that container title is allwas there"
   ]
  },
  {
   "cell_type": "code",
   "execution_count": 221,
   "metadata": {
    "collapsed": true
   },
   "outputs": [],
   "source": [
    "if 1==1:\n",
    "    if 1==1:\n",
    "        if Colciencias:\n",
    "            #publindex=read_google_cvs(gss_key='1sAN9w7QYxmONArmhfWMOFoebmGKf1qnkKdHy4OAsjD0',gss_query='select+*')\n",
    "            art['ISSN_colciencias']=publindex[publindex.TITULO==art['container-title']].ISSN.values[0]\n",
    "            art['ISSN_type']=publindex[publindex.TITULO==art['container-title']]['CATEGORIA'].values[0]\n",
    "            art['country']=publindex[publindex.TITULO==art['container-title']]['country'].values[0].decode('utf-8')\n",
    "            art['city']=publindex[publindex.TITULO==art['container-title']]['city'].values[0].decode('utf-8')\n",
    "            art['language']=publindex[publindex.TITULO==art['container-title']]['language'].values[0].decode('utf-8')\n",
    "        else:\n",
    "            art['ISSN_colciencias']=''\n",
    "            art['ISSN_type']=''"
   ]
  },
  {
   "cell_type": "code",
   "execution_count": 290,
   "metadata": {},
   "outputs": [
    {
     "data": {
      "text/plain": [
       "'Ingenier\\xc3\\xada y Ciencia'"
      ]
     },
     "execution_count": 290,
     "metadata": {},
     "output_type": "execute_result"
    }
   ],
   "source": [
    "publindex[:2]['TITULO'][0]"
   ]
  },
  {
   "cell_type": "code",
   "execution_count": 291,
   "metadata": {
    "collapsed": true
   },
   "outputs": [],
   "source": [
    "publindex=read_google_cvs(gss_key='1umgapW8KOIPqmu_hyjon3n2SXbnbDlmnRnXzjUHcXHE',gss_query='select+*')"
   ]
  },
  {
   "cell_type": "code",
   "execution_count": 293,
   "metadata": {},
   "outputs": [],
   "source": [
    "art['container-title']=publindex[:2]['TITULO'][0]\n",
    "art['ISSN']=publindex[:2]['ISSN'][0]"
   ]
  },
  {
   "cell_type": "code",
   "execution_count": 294,
   "metadata": {},
   "outputs": [],
   "source": [
    "    \n",
    "if 1==1:\n",
    "    if 1==1:\n",
    "        if 'container-title' in art.keys():\n",
    "            publindex=read_google_cvs(gss_key='1sAN9w7QYxmONArmhfWMOFoebmGKf1qnkKdHy4OAsjD0',gss_query='select+*')\n",
    "            df_colciencias=get_colciencias(art,publindex)\n",
    "            if len(df_colciencias)==0:\n",
    "                publindex=read_google_cvs(gss_key='1umgapW8KOIPqmu_hyjon3n2SXbnbDlmnRnXzjUHcXHE',gss_query='select+*')\n",
    "                df_colciencias=get_colciencias(art,publindex)\n",
    "                #store in database issn.csv and update manually\n",
    "            \n",
    "            if len(df_colciencias)>0:\n",
    "                art['ISSN_colciencias']=df_colciencias['ISSN'].values[0].decode('utf-8')\n",
    "                art['ISSN_type']       =df_colciencias['CATEGORIA'].values[0].decode('utf-8')\n",
    "                art['country']         =df_colciencias['country'].values[0].decode('utf-8')\n",
    "                art['city']            =df_colciencias['city'].values[0].decode('utf-8')\n",
    "                art['lenguage']        =df_colciencias['language'].values[0].decode('utf-8')                \n",
    "                \n",
    "        else:\n",
    "            f=open(\"ERRORS\",'a')\n",
    "            f.write(\"art[container-title]  empty for DOI: %s\" %art['DOI'])\n",
    "            f.close()"
   ]
  },
  {
   "cell_type": "code",
   "execution_count": 295,
   "metadata": {},
   "outputs": [
    {
     "data": {
      "text/html": [
       "<div style=\"max-height:1000px;max-width:1500px;overflow:auto;\">\n",
       "<table border=\"1\" class=\"dataframe\">\n",
       "  <thead>\n",
       "    <tr style=\"text-align: right;\">\n",
       "      <th></th>\n",
       "      <th>No.</th>\n",
       "      <th>ISSN</th>\n",
       "      <th>TITULO</th>\n",
       "      <th>CATEGORIA</th>\n",
       "      <th>VIGENCIA</th>\n",
       "      <th>SISTEMAS DE INDEXACIÓN Y RESUMEN - SIR</th>\n",
       "      <th>country</th>\n",
       "      <th>city</th>\n",
       "      <th>language</th>\n",
       "      <th>Unnamed: 9</th>\n",
       "      <th>Unnamed: 10</th>\n",
       "      <th>Unnamed: 11</th>\n",
       "      <th>Unnamed: 12</th>\n",
       "      <th>Unnamed: 13</th>\n",
       "      <th>Unnamed: 14</th>\n",
       "      <th>Unnamed: 15</th>\n",
       "      <th>Unnamed: 16</th>\n",
       "      <th>Unnamed: 17</th>\n",
       "      <th>Unnamed: 18</th>\n",
       "      <th>Unnamed: 19</th>\n",
       "      <th>Unnamed: 20</th>\n",
       "      <th>Unnamed: 21</th>\n",
       "      <th>Unnamed: 22</th>\n",
       "      <th>Unnamed: 23</th>\n",
       "      <th>Unnamed: 24</th>\n",
       "      <th>Unnamed: 25</th>\n",
       "    </tr>\n",
       "  </thead>\n",
       "  <tbody>\n",
       "    <tr>\n",
       "      <th>0</th>\n",
       "      <td> 1</td>\n",
       "      <td> 0128-5157</td>\n",
       "      <td> 3L: THE SOUTHEAST ASIAN JOURNAL OF ENGLISH LANGUAGE STUDIES</td>\n",
       "      <td> A1</td>\n",
       "      <td> Ene 2015 - Dic 2015</td>\n",
       "      <td> BBCS-Linguistics &amp; Language Behavior Abstracts</td>\n",
       "      <td> </td>\n",
       "      <td> </td>\n",
       "      <td> </td>\n",
       "      <td> </td>\n",
       "      <td> </td>\n",
       "      <td> </td>\n",
       "      <td> </td>\n",
       "      <td> </td>\n",
       "      <td> </td>\n",
       "      <td> </td>\n",
       "      <td> </td>\n",
       "      <td> </td>\n",
       "      <td> </td>\n",
       "      <td> </td>\n",
       "      <td> </td>\n",
       "      <td> </td>\n",
       "      <td> </td>\n",
       "      <td> </td>\n",
       "      <td> </td>\n",
       "      <td> </td>\n",
       "    </tr>\n",
       "  </tbody>\n",
       "</table>\n",
       "</div>"
      ],
      "text/plain": [
       "   No.       ISSN  \\\n",
       "0    1  0128-5157   \n",
       "\n",
       "                                                        TITULO CATEGORIA  \\\n",
       "0  3L: THE SOUTHEAST ASIAN JOURNAL OF ENGLISH LANGUAGE STUDIES        A1   \n",
       "\n",
       "              VIGENCIA          SISTEMAS DE INDEXACIÓN Y RESUMEN - SIR  \\\n",
       "0  Ene 2015 - Dic 2015  BBCS-Linguistics & Language Behavior Abstracts   \n",
       "\n",
       "  country city language Unnamed: 9 Unnamed: 10 Unnamed: 11 Unnamed: 12  \\\n",
       "0                                                                        \n",
       "\n",
       "  Unnamed: 13 Unnamed: 14 Unnamed: 15 Unnamed: 16 Unnamed: 17 Unnamed: 18  \\\n",
       "0                                                                           \n",
       "\n",
       "  Unnamed: 19 Unnamed: 20 Unnamed: 21 Unnamed: 22 Unnamed: 23 Unnamed: 24  \\\n",
       "0                                                                           \n",
       "\n",
       "  Unnamed: 25  \n",
       "0              "
      ]
     },
     "execution_count": 295,
     "metadata": {},
     "output_type": "execute_result"
    }
   ],
   "source": [
    "df_colciencias"
   ]
  },
  {
   "cell_type": "code",
   "execution_count": 266,
   "metadata": {},
   "outputs": [
    {
     "data": {
      "text/html": [
       "<div style=\"max-height:1000px;max-width:1500px;overflow:auto;\">\n",
       "<table border=\"1\" class=\"dataframe\">\n",
       "  <thead>\n",
       "    <tr style=\"text-align: right;\">\n",
       "      <th></th>\n",
       "    </tr>\n",
       "  </thead>\n",
       "  <tbody>\n",
       "  </tbody>\n",
       "</table>\n",
       "</div>"
      ],
      "text/plain": [
       "Empty DataFrame\n",
       "Columns: []\n",
       "Index: []"
      ]
     },
     "execution_count": 266,
     "metadata": {},
     "output_type": "execute_result"
    }
   ],
   "source": [
    "if 1==1:\n",
    "    if 1==1:\n",
    "        if 'container-title' in art.keys():\n",
    "            publindex=read_google_cvs(gss_key='1sAN9w7QYxmONArmhfWMOFoebmGKf1qnkKdHy4OAsjD0',gss_query='select+*')\n",
    "            df_colciencias=get_colciencias(art,publindex)\n",
    "            if len(df_colciencias)==0:\n",
    "                publindex=read_google_cvs(gss_key='1umgapW8KOIPqmu_hyjon3n2SXbnbDlmnRnXzjUHcXHE',gss_query='select+*')\n",
    "                df_colciencias=get_colciencias(art,publindex)\n",
    "                #store in database issn.csv and update manually\n",
    "            \n",
    "            if len(df_colciencias)>0:\n",
    "                art['ISSN_colciencias']=df_colciencias['ISSN'].values[0].decode('utf-8')\n",
    "                art['ISSN_type']       =df_colciencias['CATEGORIA'].values[0].decode('utf-8')\n",
    "                art['country']         =df_colciencias['country'].values[0].decode('utf-8')\n",
    "                art['city']            =df_colciencias['city'].values[0].decode('utf-8')\n",
    "                art['lenguage']        =df_colciencias['language'].values[0].decode('utf-8')                \n",
    "                \n",
    "        else:\n",
    "            f=open(\"ERRORS\",'a')\n",
    "            f.write(\"art[container-title]  empty for DOI: %s\" %art['DOI'])\n",
    "            f.close()"
   ]
  },
  {
   "cell_type": "code",
   "execution_count": 268,
   "metadata": {},
   "outputs": [
    {
     "data": {
      "text/plain": [
       "666"
      ]
     },
     "execution_count": 268,
     "metadata": {},
     "output_type": "execute_result"
    }
   ],
   "source": [
    "issn"
   ]
  },
  {
   "cell_type": "code",
   "execution_count": 267,
   "metadata": {},
   "outputs": [
    {
     "data": {
      "text/html": [
       "<div style=\"max-height:1000px;max-width:1500px;overflow:auto;\">\n",
       "<table border=\"1\" class=\"dataframe\">\n",
       "  <thead>\n",
       "    <tr style=\"text-align: right;\">\n",
       "      <th></th>\n",
       "      <th>No.</th>\n",
       "      <th>ISSN</th>\n",
       "      <th>TITULO</th>\n",
       "      <th>CATEGORIA</th>\n",
       "      <th>VIGENCIA</th>\n",
       "      <th>SISTEMAS DE INDEXACIÓN Y RESUMEN - SIR</th>\n",
       "      <th>country</th>\n",
       "      <th>city</th>\n",
       "      <th>language</th>\n",
       "      <th>Unnamed: 9</th>\n",
       "      <th>Unnamed: 10</th>\n",
       "      <th>Unnamed: 11</th>\n",
       "      <th>Unnamed: 12</th>\n",
       "      <th>Unnamed: 13</th>\n",
       "      <th>Unnamed: 14</th>\n",
       "      <th>Unnamed: 15</th>\n",
       "      <th>Unnamed: 16</th>\n",
       "      <th>Unnamed: 17</th>\n",
       "      <th>Unnamed: 18</th>\n",
       "      <th>Unnamed: 19</th>\n",
       "      <th>Unnamed: 20</th>\n",
       "      <th>Unnamed: 21</th>\n",
       "      <th>Unnamed: 22</th>\n",
       "      <th>Unnamed: 23</th>\n",
       "      <th>Unnamed: 24</th>\n",
       "      <th>Unnamed: 25</th>\n",
       "    </tr>\n",
       "  </thead>\n",
       "  <tbody>\n",
       "  </tbody>\n",
       "</table>\n",
       "</div>"
      ],
      "text/plain": [
       "Empty DataFrame\n",
       "Columns: [No., ISSN, TITULO, CATEGORIA, VIGENCIA, SISTEMAS DE INDEXACIÓN Y RESUMEN - SIR, country, city, language, Unnamed: 9, Unnamed: 10, Unnamed: 11, Unnamed: 12, Unnamed: 13, Unnamed: 14, Unnamed: 15, Unnamed: 16, Unnamed: 17, Unnamed: 18, Unnamed: 19, Unnamed: 20, Unnamed: 21, Unnamed: 22, Unnamed: 23, Unnamed: 24, Unnamed: 25]\n",
       "Index: []"
      ]
     },
     "execution_count": 267,
     "metadata": {},
     "output_type": "execute_result"
    }
   ],
   "source": [
    "publindex[publindex['ISSN']==issn]"
   ]
  },
  {
   "cell_type": "code",
   "execution_count": 261,
   "metadata": {},
   "outputs": [
    {
     "data": {
      "text/plain": [
       "'[0921-4526]'"
      ]
     },
     "execution_count": 261,
     "metadata": {},
     "output_type": "execute_result"
    }
   ],
   "source": [
    "art.ISSN"
   ]
  },
  {
   "cell_type": "code",
   "execution_count": 262,
   "metadata": {},
   "outputs": [
    {
     "data": {
      "text/plain": [
       "u'0749-6036'"
      ]
     },
     "execution_count": 262,
     "metadata": {},
     "output_type": "execute_result"
    }
   ],
   "source": [
    "art.ISSN_colciencias"
   ]
  },
  {
   "cell_type": "code",
   "execution_count": 209,
   "metadata": {
    "collapsed": true
   },
   "outputs": [],
   "source": [
    "f=open(\"ERRORS\",'a')\n",
    "f.write(\"art[container-title]  empty for DOI: %s\" %art['DOI'])\n",
    "f.close()"
   ]
  },
  {
   "cell_type": "code",
   "execution_count": 203,
   "metadata": {},
   "outputs": [
    {
     "name": "stdout",
     "output_type": "stream",
     "text": [
      "0921-4526 A1 Holanda Amsterdam Inglés\n"
     ]
    }
   ],
   "source": [
    "print art.ISSN_colciencias,art.ISSN_type,art.country,art.city,art.language"
   ]
  },
  {
   "cell_type": "code",
   "execution_count": 181,
   "metadata": {},
   "outputs": [
    {
     "data": {
      "text/html": [
       "<div style=\"max-height:1000px;max-width:1500px;overflow:auto;\">\n",
       "<table border=\"1\" class=\"dataframe\">\n",
       "  <thead>\n",
       "    <tr style=\"text-align: right;\">\n",
       "      <th></th>\n",
       "      <th>CATEGORIA</th>\n",
       "      <th>TITULO</th>\n",
       "      <th>ISSN</th>\n",
       "      <th>country</th>\n",
       "      <th>city</th>\n",
       "      <th>language</th>\n",
       "      <th>Unnamed: 6</th>\n",
       "      <th>Unnamed: 7</th>\n",
       "    </tr>\n",
       "  </thead>\n",
       "  <tbody>\n",
       "  </tbody>\n",
       "</table>\n",
       "</div>"
      ],
      "text/plain": [
       "Empty DataFrame\n",
       "Columns: [CATEGORIA, TITULO, ISSN, country, city, language, Unnamed: 6, Unnamed: 7]\n",
       "Index: []"
      ]
     },
     "execution_count": 181,
     "metadata": {},
     "output_type": "execute_result"
    }
   ],
   "source": [
    "publindex[publindex.TITULO==art['ISSN_0']]"
   ]
  },
  {
   "cell_type": "code",
   "execution_count": 177,
   "metadata": {},
   "outputs": [
    {
     "data": {
      "text/plain": [
       "''"
      ]
     },
     "execution_count": 177,
     "metadata": {},
     "output_type": "execute_result"
    }
   ],
   "source": [
    "key"
   ]
  },
  {
   "cell_type": "code",
   "execution_count": 176,
   "metadata": {},
   "outputs": [
    {
     "data": {
      "text/plain": [
       "0"
      ]
     },
     "execution_count": 176,
     "metadata": {},
     "output_type": "execute_result"
    }
   ],
   "source": [
    "len(art['ISSN_colciencias'])"
   ]
  },
  {
   "cell_type": "code",
   "execution_count": 175,
   "metadata": {},
   "outputs": [
    {
     "data": {
      "text/html": [
       "<div style=\"max-height:1000px;max-width:1500px;overflow:auto;\">\n",
       "<table border=\"1\" class=\"dataframe\">\n",
       "  <thead>\n",
       "    <tr style=\"text-align: right;\">\n",
       "      <th></th>\n",
       "      <th>CATEGORIA</th>\n",
       "      <th>TITULO</th>\n",
       "      <th>ISSN</th>\n",
       "      <th>country</th>\n",
       "      <th>city</th>\n",
       "      <th>language</th>\n",
       "      <th>Unnamed: 6</th>\n",
       "      <th>Unnamed: 7</th>\n",
       "    </tr>\n",
       "  </thead>\n",
       "  <tbody>\n",
       "  </tbody>\n",
       "</table>\n",
       "</div>"
      ],
      "text/plain": [
       "Empty DataFrame\n",
       "Columns: [CATEGORIA, TITULO, ISSN, country, city, language, Unnamed: 6, Unnamed: 7]\n",
       "Index: []"
      ]
     },
     "execution_count": 175,
     "metadata": {},
     "output_type": "execute_result"
    }
   ],
   "source": [
    "art.ISSN_colciencias"
   ]
  },
  {
   "cell_type": "code",
   "execution_count": null,
   "metadata": {
    "collapsed": true
   },
   "outputs": [],
   "source": [
    "ACADEMIC MEDICINE"
   ]
  },
  {
   "cell_type": "code",
   "execution_count": 162,
   "metadata": {},
   "outputs": [
    {
     "data": {
      "text/plain": [
       "'0921-4526'"
      ]
     },
     "execution_count": 162,
     "metadata": {},
     "output_type": "execute_result"
    }
   ],
   "source": [
    "        publindex=read_google_cvs(gss_key='1sAN9w7QYxmONArmhfWMOFoebmGKf1qnkKdHy4OAsjD0',gss_query='select+*')"
   ]
  },
  {
   "cell_type": "code",
   "execution_count": 132,
   "metadata": {},
   "outputs": [
    {
     "data": {
      "text/html": [
       "<div style=\"max-height:1000px;max-width:1500px;overflow:auto;\">\n",
       "<table border=\"1\" class=\"dataframe\">\n",
       "  <thead>\n",
       "    <tr style=\"text-align: right;\">\n",
       "      <th></th>\n",
       "      <th>CATEGORIA</th>\n",
       "      <th>TITULO</th>\n",
       "      <th>ISSN</th>\n",
       "      <th>country</th>\n",
       "      <th>city</th>\n",
       "      <th>language</th>\n",
       "    </tr>\n",
       "  </thead>\n",
       "  <tbody>\n",
       "  </tbody>\n",
       "</table>\n",
       "</div>"
      ],
      "text/plain": [
       "Empty DataFrame\n",
       "Columns: [CATEGORIA, TITULO, ISSN, country, city, language]\n",
       "Index: []"
      ]
     },
     "execution_count": 132,
     "metadata": {},
     "output_type": "execute_result"
    }
   ],
   "source": [
    "publindex[publindex.TITULO==art['container-title']]"
   ]
  },
  {
   "cell_type": "code",
   "execution_count": 131,
   "metadata": {},
   "outputs": [
    {
     "data": {
      "text/html": [
       "<div style=\"max-height:1000px;max-width:1500px;overflow:auto;\">\n",
       "<table border=\"1\" class=\"dataframe\">\n",
       "  <thead>\n",
       "    <tr style=\"text-align: right;\">\n",
       "      <th></th>\n",
       "      <th>CATEGORIA</th>\n",
       "      <th>TITULO</th>\n",
       "      <th>ISSN</th>\n",
       "      <th>country</th>\n",
       "      <th>city</th>\n",
       "      <th>language</th>\n",
       "    </tr>\n",
       "  </thead>\n",
       "  <tbody>\n",
       "    <tr>\n",
       "      <th>0  </th>\n",
       "      <td> A2</td>\n",
       "      <td>                                                                           Ingeniería y Ciencia</td>\n",
       "      <td> 1794-9165</td>\n",
       "      <td>               </td>\n",
       "      <td>           </td>\n",
       "      <td> Spanish</td>\n",
       "    </tr>\n",
       "    <tr>\n",
       "      <th>1  </th>\n",
       "      <td>  B</td>\n",
       "      <td>                                                                   Revista Colombiana de Física</td>\n",
       "      <td> 0120-2650</td>\n",
       "      <td>               </td>\n",
       "      <td>           </td>\n",
       "      <td> Spanish</td>\n",
       "    </tr>\n",
       "    <tr>\n",
       "      <th>2  </th>\n",
       "      <td> A1</td>\n",
       "      <td>                                                                              Physical Review D</td>\n",
       "      <td> 1550-7998</td>\n",
       "      <td> Estados Unidos</td>\n",
       "      <td> Nueva York</td>\n",
       "      <td>  Inglés</td>\n",
       "    </tr>\n",
       "    <tr>\n",
       "      <th>3  </th>\n",
       "      <td> A1</td>\n",
       "      <td>                                                                    European Physical Journal C</td>\n",
       "      <td> 1434-6044</td>\n",
       "      <td>               </td>\n",
       "      <td>           </td>\n",
       "      <td>  Inglés</td>\n",
       "    </tr>\n",
       "    <tr>\n",
       "      <th>4  </th>\n",
       "      <td> A1</td>\n",
       "      <td>                                                      International Journal of Modern Physics A</td>\n",
       "      <td> 0217-751X</td>\n",
       "      <td>               </td>\n",
       "      <td>           </td>\n",
       "      <td>  Inglés</td>\n",
       "    </tr>\n",
       "    <tr>\n",
       "      <th>5  </th>\n",
       "      <td> A1</td>\n",
       "      <td>                                                                       Modern Physics Letters A</td>\n",
       "      <td> 0217-7323</td>\n",
       "      <td>               </td>\n",
       "      <td>           </td>\n",
       "      <td>  Inglés</td>\n",
       "    </tr>\n",
       "    <tr>\n",
       "      <th>6  </th>\n",
       "      <td> A1</td>\n",
       "      <td>                                                         Physica Status Solidi B-Basic Research</td>\n",
       "      <td> 0370-1972</td>\n",
       "      <td>               </td>\n",
       "      <td>           </td>\n",
       "      <td>  Inglés</td>\n",
       "    </tr>\n",
       "    <tr>\n",
       "      <th>7  </th>\n",
       "      <td>  C</td>\n",
       "      <td>                                                                                            EPL</td>\n",
       "      <td> 1286-4854</td>\n",
       "      <td>               </td>\n",
       "      <td>           </td>\n",
       "      <td>  Inglés</td>\n",
       "    </tr>\n",
       "    <tr>\n",
       "      <th>8  </th>\n",
       "      <td>  C</td>\n",
       "      <td>                                                                       Zeitschrift für Physik C</td>\n",
       "      <td> 0170-9739</td>\n",
       "      <td>               </td>\n",
       "      <td>           </td>\n",
       "      <td>  Inglés</td>\n",
       "    </tr>\n",
       "    <tr>\n",
       "      <th>9  </th>\n",
       "      <td> A1</td>\n",
       "      <td>                                                                              Physics Letters B</td>\n",
       "      <td> 0370-2693</td>\n",
       "      <td>               </td>\n",
       "      <td>           </td>\n",
       "      <td>  Inglés</td>\n",
       "    </tr>\n",
       "    <tr>\n",
       "      <th>10 </th>\n",
       "      <td> A1</td>\n",
       "      <td>                                                                     Revista Mexicana de Fisica</td>\n",
       "      <td> 0035-001X</td>\n",
       "      <td>               </td>\n",
       "      <td>           </td>\n",
       "      <td>  Inglés</td>\n",
       "    </tr>\n",
       "    <tr>\n",
       "      <th>11 </th>\n",
       "      <td> A1</td>\n",
       "      <td>                                                                            High Energy Physics</td>\n",
       "      <td> 1126-6708</td>\n",
       "      <td>               </td>\n",
       "      <td>           </td>\n",
       "      <td>  Inglés</td>\n",
       "    </tr>\n",
       "    <tr>\n",
       "      <th>12 </th>\n",
       "      <td>  C</td>\n",
       "      <td>                                                                     AIP Conference Proceedings</td>\n",
       "      <td> 0094-243X</td>\n",
       "      <td>               </td>\n",
       "      <td>           </td>\n",
       "      <td>  Inglés</td>\n",
       "    </tr>\n",
       "    <tr>\n",
       "      <th>13 </th>\n",
       "      <td>  C</td>\n",
       "      <td>                                                                           Particles and Fields</td>\n",
       "      <td> 1434-6052</td>\n",
       "      <td>               </td>\n",
       "      <td>           </td>\n",
       "      <td>  Inglés</td>\n",
       "    </tr>\n",
       "    <tr>\n",
       "      <th>14 </th>\n",
       "      <td> A1</td>\n",
       "      <td>                                                                          Optics communications</td>\n",
       "      <td> 0030-4018</td>\n",
       "      <td>               </td>\n",
       "      <td>           </td>\n",
       "      <td>  Inglés</td>\n",
       "    </tr>\n",
       "    <tr>\n",
       "      <th>15 </th>\n",
       "      <td> A1</td>\n",
       "      <td>                                                                            Optical Engineering</td>\n",
       "      <td> 0091-3286</td>\n",
       "      <td>               </td>\n",
       "      <td>           </td>\n",
       "      <td>  Inglés</td>\n",
       "    </tr>\n",
       "    <tr>\n",
       "      <th>16 </th>\n",
       "      <td> A1</td>\n",
       "      <td>                                                                                 Applied optics</td>\n",
       "      <td> 0003-6935</td>\n",
       "      <td>               </td>\n",
       "      <td>           </td>\n",
       "      <td>  Inglés</td>\n",
       "    </tr>\n",
       "    <tr>\n",
       "      <th>17 </th>\n",
       "      <td> A2</td>\n",
       "      <td>                                                                                          Optik</td>\n",
       "      <td> 0030-4026</td>\n",
       "      <td>               </td>\n",
       "      <td>           </td>\n",
       "      <td>  Inglés</td>\n",
       "    </tr>\n",
       "    <tr>\n",
       "      <th>18 </th>\n",
       "      <td> A1</td>\n",
       "      <td>                                                                          Optics Communications</td>\n",
       "      <td> 0030-4018</td>\n",
       "      <td>               </td>\n",
       "      <td>           </td>\n",
       "      <td>  Inglés</td>\n",
       "    </tr>\n",
       "    <tr>\n",
       "      <th>19 </th>\n",
       "      <td> A1</td>\n",
       "      <td>                                                                                 Optics letters</td>\n",
       "      <td> 0146-9592</td>\n",
       "      <td> Estados Unidos</td>\n",
       "      <td> Washington</td>\n",
       "      <td>  Inglés</td>\n",
       "    </tr>\n",
       "    <tr>\n",
       "      <th>20 </th>\n",
       "      <td> A2</td>\n",
       "      <td>                                                               Optics and lasers in engineering</td>\n",
       "      <td> 0143-8166</td>\n",
       "      <td>               </td>\n",
       "      <td>           </td>\n",
       "      <td>  Inglés</td>\n",
       "    </tr>\n",
       "    <tr>\n",
       "      <th>21 </th>\n",
       "      <td> A1</td>\n",
       "      <td>                                                                                 Optics Express</td>\n",
       "      <td> 1094-4087</td>\n",
       "      <td>               </td>\n",
       "      <td>           </td>\n",
       "      <td>  Inglés</td>\n",
       "    </tr>\n",
       "    <tr>\n",
       "      <th>22 </th>\n",
       "      <td> A1</td>\n",
       "      <td>                                                                    American Journal of Physics</td>\n",
       "      <td> 0002-9505</td>\n",
       "      <td>               </td>\n",
       "      <td>           </td>\n",
       "      <td>  Inglés</td>\n",
       "    </tr>\n",
       "    <tr>\n",
       "      <th>23 </th>\n",
       "      <td>  C</td>\n",
       "      <td>                                                                            Proceedings of SPIE</td>\n",
       "      <td> 0277-786X</td>\n",
       "      <td>               </td>\n",
       "      <td>           </td>\n",
       "      <td>  Inglés</td>\n",
       "    </tr>\n",
       "    <tr>\n",
       "      <th>24 </th>\n",
       "      <td> A1</td>\n",
       "      <td>                                                                              Physical Review B</td>\n",
       "      <td> 1098-0121</td>\n",
       "      <td>               </td>\n",
       "      <td>           </td>\n",
       "      <td>  Inglés</td>\n",
       "    </tr>\n",
       "    <tr>\n",
       "      <th>25 </th>\n",
       "      <td> A1</td>\n",
       "      <td>                                                            Journal of Physics-Condensed Matter</td>\n",
       "      <td> 0953-8984</td>\n",
       "      <td>               </td>\n",
       "      <td>           </td>\n",
       "      <td>  Inglés</td>\n",
       "    </tr>\n",
       "    <tr>\n",
       "      <th>26 </th>\n",
       "      <td> A1</td>\n",
       "      <td>                                                                     Journal of Applied Physics</td>\n",
       "      <td> 0021-4922</td>\n",
       "      <td>               </td>\n",
       "      <td>           </td>\n",
       "      <td>  Inglés</td>\n",
       "    </tr>\n",
       "    <tr>\n",
       "      <th>27 </th>\n",
       "      <td> A1</td>\n",
       "      <td>                                                                     Journal of applied physics</td>\n",
       "      <td> 0021-4922</td>\n",
       "      <td>               </td>\n",
       "      <td>           </td>\n",
       "      <td>  Inglés</td>\n",
       "    </tr>\n",
       "    <tr>\n",
       "      <th>28 </th>\n",
       "      <td> A1</td>\n",
       "      <td>                                                           Semiconductor science and technology</td>\n",
       "      <td> 0268-1242</td>\n",
       "      <td>               </td>\n",
       "      <td>           </td>\n",
       "      <td>  Inglés</td>\n",
       "    </tr>\n",
       "    <tr>\n",
       "      <th>29 </th>\n",
       "      <td> A1</td>\n",
       "      <td>                                                                    European Physical Journal B</td>\n",
       "      <td> 1434-6028</td>\n",
       "      <td>               </td>\n",
       "      <td>           </td>\n",
       "      <td>  Inglés</td>\n",
       "    </tr>\n",
       "    <tr>\n",
       "      <th>30 </th>\n",
       "      <td> A1</td>\n",
       "      <td>                                                                        Applied surface science</td>\n",
       "      <td> 0169-4332</td>\n",
       "      <td>               </td>\n",
       "      <td>           </td>\n",
       "      <td>  Inglés</td>\n",
       "    </tr>\n",
       "    <tr>\n",
       "      <th>31 </th>\n",
       "      <td> A2</td>\n",
       "      <td>                                                                   Brazilian journal of physics</td>\n",
       "      <td> 0103-9733</td>\n",
       "      <td>               </td>\n",
       "      <td>           </td>\n",
       "      <td>  Inglés</td>\n",
       "    </tr>\n",
       "    <tr>\n",
       "      <th>32 </th>\n",
       "      <td> A2</td>\n",
       "      <td>                                                                       Microelectronics journal</td>\n",
       "      <td> 0026-2692</td>\n",
       "      <td>               </td>\n",
       "      <td>           </td>\n",
       "      <td>  Inglés</td>\n",
       "    </tr>\n",
       "    <tr>\n",
       "      <th>33 </th>\n",
       "      <td> A1</td>\n",
       "      <td>                                                                        Applied Surface Science</td>\n",
       "      <td> 0169-4332</td>\n",
       "      <td>               </td>\n",
       "      <td>           </td>\n",
       "      <td>  Inglés</td>\n",
       "    </tr>\n",
       "    <tr>\n",
       "      <th>34 </th>\n",
       "      <td> A2</td>\n",
       "      <td>                                                                     Surface Review and Letters</td>\n",
       "      <td> 0218-625X</td>\n",
       "      <td>               </td>\n",
       "      <td>           </td>\n",
       "      <td>  Inglés</td>\n",
       "    </tr>\n",
       "    <tr>\n",
       "      <th>35 </th>\n",
       "      <td> A1</td>\n",
       "      <td>                                                                              Materials Letters</td>\n",
       "      <td> 1793-6047</td>\n",
       "      <td>               </td>\n",
       "      <td>           </td>\n",
       "      <td>  Inglés</td>\n",
       "    </tr>\n",
       "    <tr>\n",
       "      <th>36 </th>\n",
       "      <td> A1</td>\n",
       "      <td>                                          Physica E: Low-dimensional Systems and Nanostructures</td>\n",
       "      <td> 1386-9477</td>\n",
       "      <td>               </td>\n",
       "      <td>           </td>\n",
       "      <td>  Inglés</td>\n",
       "    </tr>\n",
       "    <tr>\n",
       "      <th>37 </th>\n",
       "      <td> A2</td>\n",
       "      <td>                                                              Superlattices and Microstructures</td>\n",
       "      <td> 0749-6036</td>\n",
       "      <td>        Holanda</td>\n",
       "      <td>  Amsterdam</td>\n",
       "      <td>  Inglés</td>\n",
       "    </tr>\n",
       "    <tr>\n",
       "      <th>38 </th>\n",
       "      <td> A2</td>\n",
       "      <td>                                                                       Microelectronics Journal</td>\n",
       "      <td> 0026-2692</td>\n",
       "      <td>               </td>\n",
       "      <td>           </td>\n",
       "      <td>  Inglés</td>\n",
       "    </tr>\n",
       "    <tr>\n",
       "      <th>39 </th>\n",
       "      <td> A1</td>\n",
       "      <td>                                                                           Solid State Sciences</td>\n",
       "      <td> 1293-2558</td>\n",
       "      <td>               </td>\n",
       "      <td>           </td>\n",
       "      <td>  Inglés</td>\n",
       "    </tr>\n",
       "    <tr>\n",
       "      <th>40 </th>\n",
       "      <td>  C</td>\n",
       "      <td>                                                                       physica status solidi(c)</td>\n",
       "      <td> 1862-6351</td>\n",
       "      <td>               </td>\n",
       "      <td>           </td>\n",
       "      <td>  Inglés</td>\n",
       "    </tr>\n",
       "    <tr>\n",
       "      <th>41 </th>\n",
       "      <td>  C</td>\n",
       "      <td>                                                          Journal of Physics: Conference Series</td>\n",
       "      <td> 1742-6588</td>\n",
       "      <td>               </td>\n",
       "      <td>           </td>\n",
       "      <td>  Inglés</td>\n",
       "    </tr>\n",
       "    <tr>\n",
       "      <th>42 </th>\n",
       "      <td>  C</td>\n",
       "      <td>                                                                                   PIERS Online</td>\n",
       "      <td> 1931-7360</td>\n",
       "      <td>               </td>\n",
       "      <td>           </td>\n",
       "      <td>  Inglés</td>\n",
       "    </tr>\n",
       "    <tr>\n",
       "      <th>43 </th>\n",
       "      <td> A2</td>\n",
       "      <td>                                                                   Brazilian Journal of physics</td>\n",
       "      <td> 0103-9733</td>\n",
       "      <td>               </td>\n",
       "      <td>           </td>\n",
       "      <td>  Inglés</td>\n",
       "    </tr>\n",
       "    <tr>\n",
       "      <th>44 </th>\n",
       "      <td> A1</td>\n",
       "      <td>                                                                        Journal of Luminescence</td>\n",
       "      <td> 0022-2313</td>\n",
       "      <td>               </td>\n",
       "      <td>           </td>\n",
       "      <td>  Inglés</td>\n",
       "    </tr>\n",
       "    <tr>\n",
       "      <th>45 </th>\n",
       "      <td> A2</td>\n",
       "      <td>                                                                                    Revista EIA</td>\n",
       "      <td> 1794-1237</td>\n",
       "      <td>               </td>\n",
       "      <td>           </td>\n",
       "      <td>  Inglés</td>\n",
       "    </tr>\n",
       "    <tr>\n",
       "      <th>46 </th>\n",
       "      <td> A2</td>\n",
       "      <td>                                 Journal of Contemporary Physics (Armenian Academy of Sciences)</td>\n",
       "      <td> 1068-3372</td>\n",
       "      <td>               </td>\n",
       "      <td>           </td>\n",
       "      <td>  Inglés</td>\n",
       "    </tr>\n",
       "    <tr>\n",
       "      <th>47 </th>\n",
       "      <td> A1</td>\n",
       "      <td>                                        Revista Facultad de Ingeniería Universidad de Antioquia</td>\n",
       "      <td> 0120-6230</td>\n",
       "      <td>               </td>\n",
       "      <td>           </td>\n",
       "      <td>  Inglés</td>\n",
       "    </tr>\n",
       "    <tr>\n",
       "      <th>48 </th>\n",
       "      <td> A2</td>\n",
       "      <td>                             Revista Técnica de la Facultad de Ingeniería Universidad del Zulia</td>\n",
       "      <td> 0254-0770</td>\n",
       "      <td>               </td>\n",
       "      <td>           </td>\n",
       "      <td>  Inglés</td>\n",
       "    </tr>\n",
       "    <tr>\n",
       "      <th>49 </th>\n",
       "      <td> A2</td>\n",
       "      <td>                                                                   Brazilian Journal of Physics</td>\n",
       "      <td> 0103-9733</td>\n",
       "      <td>               </td>\n",
       "      <td>           </td>\n",
       "      <td>  Inglés</td>\n",
       "    </tr>\n",
       "    <tr>\n",
       "      <th>50 </th>\n",
       "      <td>  C</td>\n",
       "      <td>                                                      Bulletin of the American Physical Society</td>\n",
       "      <td> 0003-0503</td>\n",
       "      <td>               </td>\n",
       "      <td>           </td>\n",
       "      <td>  Inglés</td>\n",
       "    </tr>\n",
       "    <tr>\n",
       "      <th>51 </th>\n",
       "      <td> A1</td>\n",
       "      <td>                                                                                           Dyna</td>\n",
       "      <td> 0930-7575</td>\n",
       "      <td>               </td>\n",
       "      <td>           </td>\n",
       "      <td>  Inglés</td>\n",
       "    </tr>\n",
       "    <tr>\n",
       "      <th>52 </th>\n",
       "      <td> A1</td>\n",
       "      <td>                                                               Journal of Nanoparticle Research</td>\n",
       "      <td> 1388-0764</td>\n",
       "      <td>               </td>\n",
       "      <td>           </td>\n",
       "      <td>  Inglés</td>\n",
       "    </tr>\n",
       "    <tr>\n",
       "      <th>53 </th>\n",
       "      <td> A1</td>\n",
       "      <td>                                                                      physica status solidi (a)</td>\n",
       "      <td> 1862-6300</td>\n",
       "      <td>               </td>\n",
       "      <td>           </td>\n",
       "      <td>  Inglés</td>\n",
       "    </tr>\n",
       "    <tr>\n",
       "      <th>54 </th>\n",
       "      <td> A2</td>\n",
       "      <td>                                                                   BRAZILIAN JOURNAL OF PHYSICS</td>\n",
       "      <td> 0103-9733</td>\n",
       "      <td>               </td>\n",
       "      <td>           </td>\n",
       "      <td>  Inglés</td>\n",
       "    </tr>\n",
       "    <tr>\n",
       "      <th>55 </th>\n",
       "      <td> A1</td>\n",
       "      <td>                                                                   Journal of materials science</td>\n",
       "      <td> 0022-2461</td>\n",
       "      <td>               </td>\n",
       "      <td>           </td>\n",
       "      <td>  Inglés</td>\n",
       "    </tr>\n",
       "    <tr>\n",
       "      <th>56 </th>\n",
       "      <td> A1</td>\n",
       "      <td>                                                           Journal of Physics D-Applied Physics</td>\n",
       "      <td> 0022-3727</td>\n",
       "      <td>               </td>\n",
       "      <td>           </td>\n",
       "      <td>  Inglés</td>\n",
       "    </tr>\n",
       "    <tr>\n",
       "      <th>57 </th>\n",
       "      <td> A1</td>\n",
       "      <td>                                                                        Physical review letters</td>\n",
       "      <td> 0031-9007</td>\n",
       "      <td>               </td>\n",
       "      <td>           </td>\n",
       "      <td>  Inglés</td>\n",
       "    </tr>\n",
       "    <tr>\n",
       "      <th>58 </th>\n",
       "      <td> A2</td>\n",
       "      <td>                                                                               Few-Body Systems</td>\n",
       "      <td> 0177-7963</td>\n",
       "      <td>               </td>\n",
       "      <td>           </td>\n",
       "      <td>  Inglés</td>\n",
       "    </tr>\n",
       "    <tr>\n",
       "      <th>59 </th>\n",
       "      <td> A1</td>\n",
       "      <td>                                                      International Journal of Modern Physics B</td>\n",
       "      <td> 0217-9792</td>\n",
       "      <td>               </td>\n",
       "      <td>           </td>\n",
       "      <td>  Inglés</td>\n",
       "    </tr>\n",
       "    <tr>\n",
       "      <th>60 </th>\n",
       "      <td> A1</td>\n",
       "      <td>                                                                Computer Physics Communications</td>\n",
       "      <td> 0010-4655</td>\n",
       "      <td>               </td>\n",
       "      <td>           </td>\n",
       "      <td>  Inglés</td>\n",
       "    </tr>\n",
       "    <tr>\n",
       "      <th>61 </th>\n",
       "      <td> A1</td>\n",
       "      <td>                                                                 Journal of High Energy Physics</td>\n",
       "      <td> 1126-6708</td>\n",
       "      <td>               </td>\n",
       "      <td>           </td>\n",
       "      <td>  Inglés</td>\n",
       "    </tr>\n",
       "    <tr>\n",
       "      <th>62 </th>\n",
       "      <td> A1</td>\n",
       "      <td>                                                 Journal of Cosmology and Astroparticle Physics</td>\n",
       "      <td> 1475-7516</td>\n",
       "      <td>               </td>\n",
       "      <td>           </td>\n",
       "      <td>  Inglés</td>\n",
       "    </tr>\n",
       "    <tr>\n",
       "      <th>63 </th>\n",
       "      <td> A1</td>\n",
       "      <td>                                                                                         Nature</td>\n",
       "      <td> 1743-4378</td>\n",
       "      <td>               </td>\n",
       "      <td>           </td>\n",
       "      <td>  Inglés</td>\n",
       "    </tr>\n",
       "    <tr>\n",
       "      <th>64 </th>\n",
       "      <td> A1</td>\n",
       "      <td>                                                                              Physical Review A</td>\n",
       "      <td> 1050-2947</td>\n",
       "      <td>               </td>\n",
       "      <td>           </td>\n",
       "      <td>  Inglés</td>\n",
       "    </tr>\n",
       "    <tr>\n",
       "      <th>65 </th>\n",
       "      <td> A1</td>\n",
       "      <td>                                    Journal of Physics B: Atomic, Molecular and Optical Physics</td>\n",
       "      <td> 0953-4075</td>\n",
       "      <td>               </td>\n",
       "      <td>           </td>\n",
       "      <td>  Inglés</td>\n",
       "    </tr>\n",
       "    <tr>\n",
       "      <th>66 </th>\n",
       "      <td> A1</td>\n",
       "      <td>                                         Journal of Electron Spectroscopy and Related Phenomena</td>\n",
       "      <td> 0368-2048</td>\n",
       "      <td>               </td>\n",
       "      <td>           </td>\n",
       "      <td>  Inglés</td>\n",
       "    </tr>\n",
       "    <tr>\n",
       "      <th>67 </th>\n",
       "      <td> A1</td>\n",
       "      <td>                                                                        Physical Review Letters</td>\n",
       "      <td> 0031-9007</td>\n",
       "      <td>               </td>\n",
       "      <td>           </td>\n",
       "      <td>  Inglés</td>\n",
       "    </tr>\n",
       "    <tr>\n",
       "      <th>68 </th>\n",
       "      <td> A1</td>\n",
       "      <td>                                                                               Chemical Physics</td>\n",
       "      <td> 0065-2385</td>\n",
       "      <td>               </td>\n",
       "      <td>           </td>\n",
       "      <td>  Inglés</td>\n",
       "    </tr>\n",
       "    <tr>\n",
       "      <th>69 </th>\n",
       "      <td> A2</td>\n",
       "      <td>                                                                  Revista Colombiana de Química</td>\n",
       "      <td> 0120-2804</td>\n",
       "      <td>               </td>\n",
       "      <td>           </td>\n",
       "      <td>  Inglés</td>\n",
       "    </tr>\n",
       "    <tr>\n",
       "      <th>70 </th>\n",
       "      <td> A1</td>\n",
       "      <td>                                                     International Journal of Quantum Chemistry</td>\n",
       "      <td> 0020-7608</td>\n",
       "      <td>               </td>\n",
       "      <td>           </td>\n",
       "      <td>  Inglés</td>\n",
       "    </tr>\n",
       "    <tr>\n",
       "      <th>71 </th>\n",
       "      <td> A1</td>\n",
       "      <td>                                                                     Solid state communications</td>\n",
       "      <td> 0038-1098</td>\n",
       "      <td>               </td>\n",
       "      <td>           </td>\n",
       "      <td>  Inglés</td>\n",
       "    </tr>\n",
       "    <tr>\n",
       "      <th>72 </th>\n",
       "      <td> A1</td>\n",
       "      <td>                                                     Journal of Physics and Chemistry of Solids</td>\n",
       "      <td> 0022-3697</td>\n",
       "      <td>               </td>\n",
       "      <td>           </td>\n",
       "      <td>  Inglés</td>\n",
       "    </tr>\n",
       "    <tr>\n",
       "      <th>73 </th>\n",
       "      <td> A1</td>\n",
       "      <td>                                                                             Materials Research</td>\n",
       "      <td> 1531-7331</td>\n",
       "      <td>               </td>\n",
       "      <td>           </td>\n",
       "      <td>  Inglés</td>\n",
       "    </tr>\n",
       "    <tr>\n",
       "      <th>74 </th>\n",
       "      <td>  C</td>\n",
       "      <td>                                                                              Physical Review E</td>\n",
       "      <td> 1063-651X</td>\n",
       "      <td>               </td>\n",
       "      <td>           </td>\n",
       "      <td>  Inglés</td>\n",
       "    </tr>\n",
       "    <tr>\n",
       "      <th>75 </th>\n",
       "      <td> A2</td>\n",
       "      <td>                                                                        Optics and Spectroscopy</td>\n",
       "      <td> 0030-400X</td>\n",
       "      <td>               </td>\n",
       "      <td>           </td>\n",
       "      <td>  Inglés</td>\n",
       "    </tr>\n",
       "    <tr>\n",
       "      <th>76 </th>\n",
       "      <td> A1</td>\n",
       "      <td>                                                                      Journal of crystal growth</td>\n",
       "      <td> 0022-0248</td>\n",
       "      <td>               </td>\n",
       "      <td>           </td>\n",
       "      <td>  Inglés</td>\n",
       "    </tr>\n",
       "    <tr>\n",
       "      <th>77 </th>\n",
       "      <td>  C</td>\n",
       "      <td>                                                                SPRINGER PROCEEDINGS IN PHYSICS</td>\n",
       "      <td> 0930-8989</td>\n",
       "      <td>               </td>\n",
       "      <td>           </td>\n",
       "      <td>  Inglés</td>\n",
       "    </tr>\n",
       "    <tr>\n",
       "      <th>78 </th>\n",
       "      <td>  C</td>\n",
       "      <td>                                                                         Hyperfine Interactions</td>\n",
       "      <td> 0304-3843</td>\n",
       "      <td>               </td>\n",
       "      <td>           </td>\n",
       "      <td>  Inglés</td>\n",
       "    </tr>\n",
       "    <tr>\n",
       "      <th>79 </th>\n",
       "      <td>  C</td>\n",
       "      <td>                                                                         Hyperfine interactions</td>\n",
       "      <td> 0304-3843</td>\n",
       "      <td>               </td>\n",
       "      <td>           </td>\n",
       "      <td>  Inglés</td>\n",
       "    </tr>\n",
       "    <tr>\n",
       "      <th>80 </th>\n",
       "      <td> A2</td>\n",
       "      <td>                                                                 Materials Research Innovations</td>\n",
       "      <td> 1432-8917</td>\n",
       "      <td>               </td>\n",
       "      <td>           </td>\n",
       "      <td>  Inglés</td>\n",
       "    </tr>\n",
       "    <tr>\n",
       "      <th>81 </th>\n",
       "      <td> A1</td>\n",
       "      <td>                                                    Journal of magnetism and magnetic materials</td>\n",
       "      <td> 0304-8853</td>\n",
       "      <td>               </td>\n",
       "      <td>           </td>\n",
       "      <td>  Inglés</td>\n",
       "    </tr>\n",
       "    <tr>\n",
       "      <th>82 </th>\n",
       "      <td> A1</td>\n",
       "      <td>                                           Revista Latinoamericana de Metalurgia y Materiales S</td>\n",
       "      <td> 0255-6952</td>\n",
       "      <td>               </td>\n",
       "      <td>           </td>\n",
       "      <td>  Inglés</td>\n",
       "    </tr>\n",
       "    <tr>\n",
       "      <th>83 </th>\n",
       "      <td> A2</td>\n",
       "      <td>                                                                 Materials research innovations</td>\n",
       "      <td> 1432-8917</td>\n",
       "      <td>               </td>\n",
       "      <td>           </td>\n",
       "      <td>  Inglés</td>\n",
       "    </tr>\n",
       "    <tr>\n",
       "      <th>84 </th>\n",
       "      <td>  C</td>\n",
       "      <td>                                                        Progress in Colloid and Polymer Science</td>\n",
       "      <td> 0340-255X</td>\n",
       "      <td>               </td>\n",
       "      <td>           </td>\n",
       "      <td>  Inglés</td>\n",
       "    </tr>\n",
       "    <tr>\n",
       "      <th>85 </th>\n",
       "      <td> A1</td>\n",
       "      <td>                                                    Journal of Magnetism and Magnetic Materials</td>\n",
       "      <td> 0304-8853</td>\n",
       "      <td>               </td>\n",
       "      <td>           </td>\n",
       "      <td>  Inglés</td>\n",
       "    </tr>\n",
       "    <tr>\n",
       "      <th>86 </th>\n",
       "      <td>  C</td>\n",
       "      <td>                                                                         El Hombre y La Máquina</td>\n",
       "      <td> 0121-0777</td>\n",
       "      <td>               </td>\n",
       "      <td>           </td>\n",
       "      <td>  Inglés</td>\n",
       "    </tr>\n",
       "    <tr>\n",
       "      <th>87 </th>\n",
       "      <td> A1</td>\n",
       "      <td>                                                                              Physics Letters A</td>\n",
       "      <td> 0217-7323</td>\n",
       "      <td>               </td>\n",
       "      <td>           </td>\n",
       "      <td>  Inglés</td>\n",
       "    </tr>\n",
       "    <tr>\n",
       "      <th>88 </th>\n",
       "      <td> A1</td>\n",
       "      <td>                                                                              Journal of Vision</td>\n",
       "      <td> 1534-7362</td>\n",
       "      <td>               </td>\n",
       "      <td>           </td>\n",
       "      <td>  Inglés</td>\n",
       "    </tr>\n",
       "    <tr>\n",
       "      <th>89 </th>\n",
       "      <td> A2</td>\n",
       "      <td>                                                            Ophthalmic and Physiological Optics</td>\n",
       "      <td> 0275-5408</td>\n",
       "      <td>               </td>\n",
       "      <td>           </td>\n",
       "      <td>  Inglés</td>\n",
       "    </tr>\n",
       "    <tr>\n",
       "      <th>90 </th>\n",
       "      <td> A1</td>\n",
       "      <td>                                                                              Physical Review C</td>\n",
       "      <td> 0556-2813</td>\n",
       "      <td>               </td>\n",
       "      <td>           </td>\n",
       "      <td>  Inglés</td>\n",
       "    </tr>\n",
       "    <tr>\n",
       "      <th>91 </th>\n",
       "      <td>  C</td>\n",
       "      <td>                                                                           Computers in Physics</td>\n",
       "      <td> 0894-1866</td>\n",
       "      <td>               </td>\n",
       "      <td>           </td>\n",
       "      <td>  Inglés</td>\n",
       "    </tr>\n",
       "    <tr>\n",
       "      <th>92 </th>\n",
       "      <td> A2</td>\n",
       "      <td>                                                                    European Journal of Physics</td>\n",
       "      <td> 1895-1082</td>\n",
       "      <td>               </td>\n",
       "      <td>           </td>\n",
       "      <td>  Inglés</td>\n",
       "    </tr>\n",
       "    <tr>\n",
       "      <th>93 </th>\n",
       "      <td>  C</td>\n",
       "      <td>                                                                AIP Conf. Proc.;(United States)</td>\n",
       "      <td> 0094-243X</td>\n",
       "      <td>               </td>\n",
       "      <td>           </td>\n",
       "      <td>  Inglés</td>\n",
       "    </tr>\n",
       "    <tr>\n",
       "      <th>94 </th>\n",
       "      <td> A1</td>\n",
       "      <td>                                                                      The Astrophysical Journal</td>\n",
       "      <td> 0004-637X</td>\n",
       "      <td>               </td>\n",
       "      <td>           </td>\n",
       "      <td>  Inglés</td>\n",
       "    </tr>\n",
       "    <tr>\n",
       "      <th>95 </th>\n",
       "      <td> A1</td>\n",
       "      <td>                                                                              Nuclear Physics B</td>\n",
       "      <td> 0550-3213</td>\n",
       "      <td>               </td>\n",
       "      <td>           </td>\n",
       "      <td>  Inglés</td>\n",
       "    </tr>\n",
       "    <tr>\n",
       "      <th>96 </th>\n",
       "      <td> A1</td>\n",
       "      <td>                                                   Revista mexicana de astronomía y astrofísica</td>\n",
       "      <td> 0185-1101</td>\n",
       "      <td>               </td>\n",
       "      <td>           </td>\n",
       "      <td>  Inglés</td>\n",
       "    </tr>\n",
       "    <tr>\n",
       "      <th>97 </th>\n",
       "      <td> A2</td>\n",
       "      <td>                                                                           IAU Joint Discussion</td>\n",
       "      <td>  074-1809</td>\n",
       "      <td>               </td>\n",
       "      <td>           </td>\n",
       "      <td>  Inglés</td>\n",
       "    </tr>\n",
       "    <tr>\n",
       "      <th>98 </th>\n",
       "      <td>  C</td>\n",
       "      <td>                                 Revista Mexicana de Astronomia y Astrofisica Conference Series</td>\n",
       "      <td> 1405-2059</td>\n",
       "      <td>               </td>\n",
       "      <td>           </td>\n",
       "      <td>  Inglés</td>\n",
       "    </tr>\n",
       "    <tr>\n",
       "      <th>99 </th>\n",
       "      <td> A1</td>\n",
       "      <td>                                                             General Relativity and Gravitation</td>\n",
       "      <td> 0001-7701</td>\n",
       "      <td>               </td>\n",
       "      <td>           </td>\n",
       "      <td>  Inglés</td>\n",
       "    </tr>\n",
       "    <tr>\n",
       "      <th>100</th>\n",
       "      <td> A2</td>\n",
       "      <td>                                   International Journal of Geometric Methods in Modern Physics</td>\n",
       "      <td> 0219-8878</td>\n",
       "      <td>               </td>\n",
       "      <td>           </td>\n",
       "      <td>  Inglés</td>\n",
       "    </tr>\n",
       "    <tr>\n",
       "      <th>101</th>\n",
       "      <td> A1</td>\n",
       "      <td>                                                                     Chaos, Solitons &amp; Fractals</td>\n",
       "      <td> 0960-0779</td>\n",
       "      <td>               </td>\n",
       "      <td>           </td>\n",
       "      <td>  Inglés</td>\n",
       "    </tr>\n",
       "    <tr>\n",
       "      <th>102</th>\n",
       "      <td> A1</td>\n",
       "      <td>                                                                                       Relation</td>\n",
       "      <td> 0018-7267</td>\n",
       "      <td>               </td>\n",
       "      <td>           </td>\n",
       "      <td>  Inglés</td>\n",
       "    </tr>\n",
       "    <tr>\n",
       "      <th>103</th>\n",
       "      <td>  B</td>\n",
       "      <td>                                             Journal of Theoretical and Computational Chemistry</td>\n",
       "      <td> 1096-987X</td>\n",
       "      <td>               </td>\n",
       "      <td>           </td>\n",
       "      <td>  Inglés</td>\n",
       "    </tr>\n",
       "    <tr>\n",
       "      <th>104</th>\n",
       "      <td> A2</td>\n",
       "      <td>                                                      International Journal of Modern Physics E</td>\n",
       "      <td> 0218-3013</td>\n",
       "      <td>               </td>\n",
       "      <td>           </td>\n",
       "      <td>  Inglés</td>\n",
       "    </tr>\n",
       "    <tr>\n",
       "      <th>105</th>\n",
       "      <td> A1</td>\n",
       "      <td>                                                            Physical Chemistry Chemical Physics</td>\n",
       "      <td> 1463-9076</td>\n",
       "      <td>               </td>\n",
       "      <td>           </td>\n",
       "      <td>  Inglés</td>\n",
       "    </tr>\n",
       "    <tr>\n",
       "      <th>106</th>\n",
       "      <td> A1</td>\n",
       "      <td>                                                                              Corrosion science</td>\n",
       "      <td> 0010-938X</td>\n",
       "      <td>               </td>\n",
       "      <td>           </td>\n",
       "      <td>  Inglés</td>\n",
       "    </tr>\n",
       "    <tr>\n",
       "      <th>107</th>\n",
       "      <td> A1</td>\n",
       "      <td>                                                                              Corrosion Science</td>\n",
       "      <td> 0010-938X</td>\n",
       "      <td>               </td>\n",
       "      <td>           </td>\n",
       "      <td>  Inglés</td>\n",
       "    </tr>\n",
       "    <tr>\n",
       "      <th>108</th>\n",
       "      <td> A1</td>\n",
       "      <td>                                                                Materials Chemistry and Physics</td>\n",
       "      <td> 0254-0584</td>\n",
       "      <td>               </td>\n",
       "      <td>           </td>\n",
       "      <td>  Inglés</td>\n",
       "    </tr>\n",
       "    <tr>\n",
       "      <th>109</th>\n",
       "      <td>  C</td>\n",
       "      <td>                                                                        Materials Science Forum</td>\n",
       "      <td> 0255-5476</td>\n",
       "      <td>               </td>\n",
       "      <td>           </td>\n",
       "      <td>  Inglés</td>\n",
       "    </tr>\n",
       "    <tr>\n",
       "      <th>110</th>\n",
       "      <td> A2</td>\n",
       "      <td>                                                                               Acta méd. colomb</td>\n",
       "      <td> 0120-2448</td>\n",
       "      <td>               </td>\n",
       "      <td>           </td>\n",
       "      <td>  Inglés</td>\n",
       "    </tr>\n",
       "    <tr>\n",
       "      <th>111</th>\n",
       "      <td> A2</td>\n",
       "      <td>                                                                          Revista de metalurgia</td>\n",
       "      <td> 0034-8570</td>\n",
       "      <td>               </td>\n",
       "      <td>           </td>\n",
       "      <td>  Inglés</td>\n",
       "    </tr>\n",
       "    <tr>\n",
       "      <th>112</th>\n",
       "      <td> A2</td>\n",
       "      <td>                                                                          Revista de Metalurgia</td>\n",
       "      <td> 0034-8570</td>\n",
       "      <td>               </td>\n",
       "      <td>           </td>\n",
       "      <td>  Inglés</td>\n",
       "    </tr>\n",
       "    <tr>\n",
       "      <th>113</th>\n",
       "      <td> A1</td>\n",
       "      <td>                                                                            Revista de Ciencias</td>\n",
       "      <td> 0011-5258</td>\n",
       "      <td>               </td>\n",
       "      <td>           </td>\n",
       "      <td>  Inglés</td>\n",
       "    </tr>\n",
       "    <tr>\n",
       "      <th>114</th>\n",
       "      <td> A2</td>\n",
       "      <td>                                                            Revista Colombiana de Biotecnología</td>\n",
       "      <td> 0123-3475</td>\n",
       "      <td>               </td>\n",
       "      <td>           </td>\n",
       "      <td>  Inglés</td>\n",
       "    </tr>\n",
       "    <tr>\n",
       "      <th>115</th>\n",
       "      <td>  C</td>\n",
       "      <td>                                                                             Hyperfine Interact</td>\n",
       "      <td> 0304-3843</td>\n",
       "      <td>               </td>\n",
       "      <td>           </td>\n",
       "      <td>  Inglés</td>\n",
       "    </tr>\n",
       "    <tr>\n",
       "      <th>116</th>\n",
       "      <td>  C</td>\n",
       "      <td>                                                                    Advanced Materials Research</td>\n",
       "      <td> 1022-6680</td>\n",
       "      <td>               </td>\n",
       "      <td>           </td>\n",
       "      <td>  Inglés</td>\n",
       "    </tr>\n",
       "    <tr>\n",
       "      <th>117</th>\n",
       "      <td> A2</td>\n",
       "      <td>                     Revista de la Academia colombiana de ciencias exactes, físicas y naturales</td>\n",
       "      <td> 0370-3908</td>\n",
       "      <td>               </td>\n",
       "      <td>           </td>\n",
       "      <td>  Inglés</td>\n",
       "    </tr>\n",
       "    <tr>\n",
       "      <th>118</th>\n",
       "      <td> A1</td>\n",
       "      <td>                                                              Geophysical Journal International</td>\n",
       "      <td> 0956-540X</td>\n",
       "      <td>               </td>\n",
       "      <td>           </td>\n",
       "      <td>  Inglés</td>\n",
       "    </tr>\n",
       "    <tr>\n",
       "      <th>119</th>\n",
       "      <td> A1</td>\n",
       "      <td>                                                                               Thin Solid Films</td>\n",
       "      <td> 0040-6090</td>\n",
       "      <td>               </td>\n",
       "      <td>           </td>\n",
       "      <td>  Inglés</td>\n",
       "    </tr>\n",
       "    <tr>\n",
       "      <th>120</th>\n",
       "      <td> A1</td>\n",
       "      <td>                                                                Journal of alloys and compounds</td>\n",
       "      <td> 0925-8388</td>\n",
       "      <td>               </td>\n",
       "      <td>           </td>\n",
       "      <td>  Inglés</td>\n",
       "    </tr>\n",
       "    <tr>\n",
       "      <th>121</th>\n",
       "      <td> A1</td>\n",
       "      <td>                                                                                  Clay minerals</td>\n",
       "      <td> 0009-8604</td>\n",
       "      <td>               </td>\n",
       "      <td>           </td>\n",
       "      <td>  Inglés</td>\n",
       "    </tr>\n",
       "    <tr>\n",
       "      <th>122</th>\n",
       "      <td>  C</td>\n",
       "      <td>                                                                Czechoslovak Journal of Physics</td>\n",
       "      <td> 0011-4626</td>\n",
       "      <td>               </td>\n",
       "      <td>           </td>\n",
       "      <td>  Inglés</td>\n",
       "    </tr>\n",
       "    <tr>\n",
       "      <th>123</th>\n",
       "      <td>  C</td>\n",
       "      <td>                                                CONFERENCE PROCEEDINGS-ITALIAN PHYSICAL SOCIETY</td>\n",
       "      <td> 1122-1437</td>\n",
       "      <td>               </td>\n",
       "      <td>           </td>\n",
       "      <td>  Inglés</td>\n",
       "    </tr>\n",
       "    <tr>\n",
       "      <th>124</th>\n",
       "      <td> A1</td>\n",
       "      <td>                                                              Physics and chemistry of minerals</td>\n",
       "      <td> 0342-1791</td>\n",
       "      <td>               </td>\n",
       "      <td>           </td>\n",
       "      <td>  Inglés</td>\n",
       "    </tr>\n",
       "    <tr>\n",
       "      <th>125</th>\n",
       "      <td> A1</td>\n",
       "      <td>                                                                               Chemical geology</td>\n",
       "      <td> 0009-2541</td>\n",
       "      <td>               </td>\n",
       "      <td>           </td>\n",
       "      <td>  Inglés</td>\n",
       "    </tr>\n",
       "    <tr>\n",
       "      <th>126</th>\n",
       "      <td> A2</td>\n",
       "      <td>                                                                         Acta Physica Hungarica</td>\n",
       "      <td> 1219-7580</td>\n",
       "      <td>               </td>\n",
       "      <td>           </td>\n",
       "      <td>  Inglés</td>\n",
       "    </tr>\n",
       "    <tr>\n",
       "      <th>127</th>\n",
       "      <td> A1</td>\n",
       "      <td>                                                                                Physics Reports</td>\n",
       "      <td> 0370-1573</td>\n",
       "      <td>               </td>\n",
       "      <td>           </td>\n",
       "      <td>  Inglés</td>\n",
       "    </tr>\n",
       "    <tr>\n",
       "      <th>128</th>\n",
       "      <td> A1</td>\n",
       "      <td>                                                                    Physica C Superconductivity</td>\n",
       "      <td> 0921-4534</td>\n",
       "      <td>               </td>\n",
       "      <td>           </td>\n",
       "      <td>  Inglés</td>\n",
       "    </tr>\n",
       "    <tr>\n",
       "      <th>129</th>\n",
       "      <td>  C</td>\n",
       "      <td>                                                                           ACS SYMPOSIUM SERIES</td>\n",
       "      <td> 0097-6156</td>\n",
       "      <td>               </td>\n",
       "      <td>           </td>\n",
       "      <td>  Inglés</td>\n",
       "    </tr>\n",
       "    <tr>\n",
       "      <th>130</th>\n",
       "      <td> A1</td>\n",
       "      <td>                                                                     Solid State Communications</td>\n",
       "      <td> 0038-1098</td>\n",
       "      <td>               </td>\n",
       "      <td>           </td>\n",
       "      <td>  Inglés</td>\n",
       "    </tr>\n",
       "    <tr>\n",
       "      <th>131</th>\n",
       "      <td>  C</td>\n",
       "      <td>                                             Revista Latinoamericana de Metalurgia y Materiales</td>\n",
       "      <td> 0255-6952</td>\n",
       "      <td>               </td>\n",
       "      <td>           </td>\n",
       "      <td>  Inglés</td>\n",
       "    </tr>\n",
       "    <tr>\n",
       "      <th>132</th>\n",
       "      <td> A1</td>\n",
       "      <td> Journal of Comparative Physiology A: Neuroethology, Sensory, Neural, and Behavioral Physiology</td>\n",
       "      <td> 0340-7594</td>\n",
       "      <td>               </td>\n",
       "      <td>           </td>\n",
       "      <td>  Inglés</td>\n",
       "    </tr>\n",
       "    <tr>\n",
       "      <th>133</th>\n",
       "      <td> A1</td>\n",
       "      <td>                                                                Journal of Experimental Biology</td>\n",
       "      <td> 0022-0949</td>\n",
       "      <td>               </td>\n",
       "      <td>           </td>\n",
       "      <td>  Inglés</td>\n",
       "    </tr>\n",
       "    <tr>\n",
       "      <th>134</th>\n",
       "      <td> A1</td>\n",
       "      <td>                                                                Journal of Mathematical Physics</td>\n",
       "      <td> 0022-2488</td>\n",
       "      <td>               </td>\n",
       "      <td>           </td>\n",
       "      <td>  Inglés</td>\n",
       "    </tr>\n",
       "    <tr>\n",
       "      <th>135</th>\n",
       "      <td> A1</td>\n",
       "      <td>                                                                   Revista mexicana de física E</td>\n",
       "      <td> 1870-3542</td>\n",
       "      <td>               </td>\n",
       "      <td>           </td>\n",
       "      <td>  Inglés</td>\n",
       "    </tr>\n",
       "    <tr>\n",
       "      <th>136</th>\n",
       "      <td> A2</td>\n",
       "      <td>                                                                Optical and Quantum Electronics</td>\n",
       "      <td> 0306-8919</td>\n",
       "      <td>               </td>\n",
       "      <td>           </td>\n",
       "      <td>  Inglés</td>\n",
       "    </tr>\n",
       "    <tr>\n",
       "      <th>137</th>\n",
       "      <td> A1</td>\n",
       "      <td>                                                                   Revista de biología tropical</td>\n",
       "      <td> 0034-7744</td>\n",
       "      <td>               </td>\n",
       "      <td>           </td>\n",
       "      <td>  Inglés</td>\n",
       "    </tr>\n",
       "    <tr>\n",
       "      <th>138</th>\n",
       "      <td> A1</td>\n",
       "      <td>                                                                                 Applied Optics</td>\n",
       "      <td> 0003-6935</td>\n",
       "      <td>               </td>\n",
       "      <td>           </td>\n",
       "      <td>  Inglés</td>\n",
       "    </tr>\n",
       "    <tr>\n",
       "      <th>139</th>\n",
       "      <td> A1</td>\n",
       "      <td>                                                                                         Icarus</td>\n",
       "      <td> 0019-1035</td>\n",
       "      <td>               </td>\n",
       "      <td>           </td>\n",
       "      <td>  Inglés</td>\n",
       "    </tr>\n",
       "    <tr>\n",
       "      <th>140</th>\n",
       "      <td> A2</td>\n",
       "      <td>                                                                             Annalen der Physik</td>\n",
       "      <td> 0003-3804</td>\n",
       "      <td>               </td>\n",
       "      <td>           </td>\n",
       "      <td>  Inglés</td>\n",
       "    </tr>\n",
       "    <tr>\n",
       "      <th>141</th>\n",
       "      <td> A2</td>\n",
       "      <td>                                               Journal of Superconductivity and Novel Magnetism</td>\n",
       "      <td> 1557-1939</td>\n",
       "      <td>               </td>\n",
       "      <td>           </td>\n",
       "      <td>  Inglés</td>\n",
       "    </tr>\n",
       "    <tr>\n",
       "      <th>142</th>\n",
       "      <td> A1</td>\n",
       "      <td>                                                      Journal of Nanoscience and Nanotechnology</td>\n",
       "      <td> 1533-4880</td>\n",
       "      <td>               </td>\n",
       "      <td>           </td>\n",
       "      <td>  Inglés</td>\n",
       "    </tr>\n",
       "    <tr>\n",
       "      <th>143</th>\n",
       "      <td> A1</td>\n",
       "      <td>                                                                                 Optics Letters</td>\n",
       "      <td> 0146-9592</td>\n",
       "      <td> Estados Unidos</td>\n",
       "      <td> Washington</td>\n",
       "      <td>  Inglés</td>\n",
       "    </tr>\n",
       "    <tr>\n",
       "      <th>144</th>\n",
       "      <td> A1</td>\n",
       "      <td>                                                                     Nanoscale research letters</td>\n",
       "      <td> 1931-7573</td>\n",
       "      <td>               </td>\n",
       "      <td>           </td>\n",
       "      <td>  Inglés</td>\n",
       "    </tr>\n",
       "    <tr>\n",
       "      <th>145</th>\n",
       "      <td> A1</td>\n",
       "      <td>                                                                               Climate Dynamics</td>\n",
       "      <td> 0930-7575</td>\n",
       "      <td>               </td>\n",
       "      <td>           </td>\n",
       "      <td>  Inglés</td>\n",
       "    </tr>\n",
       "    <tr>\n",
       "      <th>146</th>\n",
       "      <td> A1</td>\n",
       "      <td>                                                                   Chemical engineering science</td>\n",
       "      <td> 0009-2509</td>\n",
       "      <td>               </td>\n",
       "      <td>           </td>\n",
       "      <td>  Inglés</td>\n",
       "    </tr>\n",
       "    <tr>\n",
       "      <th>147</th>\n",
       "      <td> A2</td>\n",
       "      <td>                                                                             Computer Languages</td>\n",
       "      <td> 1477-8424</td>\n",
       "      <td>               </td>\n",
       "      <td>           </td>\n",
       "      <td>  Inglés</td>\n",
       "    </tr>\n",
       "    <tr>\n",
       "      <th>148</th>\n",
       "      <td> A1</td>\n",
       "      <td>                                                                 IEEE transactions on magnetics</td>\n",
       "      <td> 0018-9464</td>\n",
       "      <td>               </td>\n",
       "      <td>           </td>\n",
       "      <td>  Inglés</td>\n",
       "    </tr>\n",
       "    <tr>\n",
       "      <th>149</th>\n",
       "      <td>  C</td>\n",
       "      <td>                                                                           ACS Symposium Series</td>\n",
       "      <td> 0097-6156</td>\n",
       "      <td>               </td>\n",
       "      <td>           </td>\n",
       "      <td>  Inglés</td>\n",
       "    </tr>\n",
       "    <tr>\n",
       "      <th>150</th>\n",
       "      <td> A1</td>\n",
       "      <td>                                                                                       Scientia</td>\n",
       "      <td> 1807-8621</td>\n",
       "      <td>               </td>\n",
       "      <td>           </td>\n",
       "      <td>  Inglés</td>\n",
       "    </tr>\n",
       "    <tr>\n",
       "      <th>151</th>\n",
       "      <td> A1</td>\n",
       "      <td>                                                                           Minerals Engineering</td>\n",
       "      <td> 0892-6875</td>\n",
       "      <td>               </td>\n",
       "      <td>           </td>\n",
       "      <td>  Inglés</td>\n",
       "    </tr>\n",
       "    <tr>\n",
       "      <th>152</th>\n",
       "      <td> A2</td>\n",
       "      <td>                                                      International Journal of Modern Physics D</td>\n",
       "      <td> 0218-2718</td>\n",
       "      <td>               </td>\n",
       "      <td>           </td>\n",
       "      <td>  Inglés</td>\n",
       "    </tr>\n",
       "    <tr>\n",
       "      <th>153</th>\n",
       "      <td>  C</td>\n",
       "      <td>                                                                                       preprint</td>\n",
       "      <td> 0032-3934</td>\n",
       "      <td>               </td>\n",
       "      <td>           </td>\n",
       "      <td>  Inglés</td>\n",
       "    </tr>\n",
       "    <tr>\n",
       "      <th>154</th>\n",
       "      <td>  C</td>\n",
       "      <td>                                                                        Materials science forum</td>\n",
       "      <td> 0255-5476</td>\n",
       "      <td>               </td>\n",
       "      <td>           </td>\n",
       "      <td>  Inglés</td>\n",
       "    </tr>\n",
       "    <tr>\n",
       "      <th>155</th>\n",
       "      <td> A2</td>\n",
       "      <td>                                               Journal of superconductivity and novel magnetism</td>\n",
       "      <td> 1557-1939</td>\n",
       "      <td>               </td>\n",
       "      <td>           </td>\n",
       "      <td>  Inglés</td>\n",
       "    </tr>\n",
       "    <tr>\n",
       "      <th>156</th>\n",
       "      <td> A2</td>\n",
       "      <td>                                                                 Philosophical Magazine Letters</td>\n",
       "      <td> 0950-0839</td>\n",
       "      <td>               </td>\n",
       "      <td>           </td>\n",
       "      <td>  Inglés</td>\n",
       "    </tr>\n",
       "    <tr>\n",
       "      <th>157</th>\n",
       "      <td> A2</td>\n",
       "      <td>                                  Modelling and Simulation in Materials Science and Engineering</td>\n",
       "      <td> 0965-0393</td>\n",
       "      <td>               </td>\n",
       "      <td>           </td>\n",
       "      <td>  Inglés</td>\n",
       "    </tr>\n",
       "    <tr>\n",
       "      <th>158</th>\n",
       "      <td> A2</td>\n",
       "      <td>                                                                      Acta Biológica Colombiana</td>\n",
       "      <td> 0120-548X</td>\n",
       "      <td>               </td>\n",
       "      <td>           </td>\n",
       "      <td>  Inglés</td>\n",
       "    </tr>\n",
       "    <tr>\n",
       "      <th>159</th>\n",
       "      <td>  C</td>\n",
       "      <td>                                                                     Hyperfine Interactions (C)</td>\n",
       "      <td> 0304-3843</td>\n",
       "      <td>               </td>\n",
       "      <td>           </td>\n",
       "      <td>  Inglés</td>\n",
       "    </tr>\n",
       "    <tr>\n",
       "      <th>160</th>\n",
       "      <td> A1</td>\n",
       "      <td>                                                                                   ChemPhysChem</td>\n",
       "      <td> 1439-4235</td>\n",
       "      <td>               </td>\n",
       "      <td>           </td>\n",
       "      <td>  Inglés</td>\n",
       "    </tr>\n",
       "    <tr>\n",
       "      <th>161</th>\n",
       "      <td> A1</td>\n",
       "      <td>                                                                              Journal of Optics</td>\n",
       "      <td> 1464-4258</td>\n",
       "      <td>               </td>\n",
       "      <td>           </td>\n",
       "      <td>  Inglés</td>\n",
       "    </tr>\n",
       "    <tr>\n",
       "      <th>162</th>\n",
       "      <td> A1</td>\n",
       "      <td>                                                                     JOURNAL OF APPLIED PHYSICS</td>\n",
       "      <td> 0021-4922</td>\n",
       "      <td>               </td>\n",
       "      <td>           </td>\n",
       "      <td>  Inglés</td>\n",
       "    </tr>\n",
       "    <tr>\n",
       "      <th>163</th>\n",
       "      <td> A1</td>\n",
       "      <td>                                                       Educere: Revista Venezolana de Educación</td>\n",
       "      <td> 1316-4910</td>\n",
       "      <td>               </td>\n",
       "      <td>           </td>\n",
       "      <td>  Inglés</td>\n",
       "    </tr>\n",
       "    <tr>\n",
       "      <th>164</th>\n",
       "      <td> A1</td>\n",
       "      <td>                                                                                            PoS</td>\n",
       "      <td> 0263-8223</td>\n",
       "      <td>               </td>\n",
       "      <td>           </td>\n",
       "      <td>  Inglés</td>\n",
       "    </tr>\n",
       "    <tr>\n",
       "      <th>165</th>\n",
       "      <td> A1</td>\n",
       "      <td>                                                                Journal of Alloys and Compounds</td>\n",
       "      <td> 0925-8388</td>\n",
       "      <td>               </td>\n",
       "      <td>           </td>\n",
       "      <td>  Inglés</td>\n",
       "    </tr>\n",
       "    <tr>\n",
       "      <th>166</th>\n",
       "      <td>  C</td>\n",
       "      <td>                                                                                    Corros. Sci</td>\n",
       "      <td> 1002-6495</td>\n",
       "      <td>               </td>\n",
       "      <td>           </td>\n",
       "      <td>  Inglés</td>\n",
       "    </tr>\n",
       "    <tr>\n",
       "      <th>167</th>\n",
       "      <td> A1</td>\n",
       "      <td>                                                                                      Physica B</td>\n",
       "      <td> 0921-4526</td>\n",
       "      <td>               </td>\n",
       "      <td>           </td>\n",
       "      <td>  Inglés</td>\n",
       "    </tr>\n",
       "    <tr>\n",
       "      <th>168</th>\n",
       "      <td>  C</td>\n",
       "      <td>                                               REVISTA LATINOAMERICANA DE MICROBIOLOGIA-MEXICO-</td>\n",
       "      <td> 0034-9771</td>\n",
       "      <td>               </td>\n",
       "      <td>           </td>\n",
       "      <td>  Inglés</td>\n",
       "    </tr>\n",
       "    <tr>\n",
       "      <th>169</th>\n",
       "      <td> A2</td>\n",
       "      <td>                                                               Fresenius Environmental Bulletin</td>\n",
       "      <td> 1018-4619</td>\n",
       "      <td>               </td>\n",
       "      <td>           </td>\n",
       "      <td>  Inglés</td>\n",
       "    </tr>\n",
       "    <tr>\n",
       "      <th>170</th>\n",
       "      <td> A1</td>\n",
       "      <td>                                                World journal of microbiology and biotechnology</td>\n",
       "      <td> 0959-3993</td>\n",
       "      <td>               </td>\n",
       "      <td>           </td>\n",
       "      <td>  Inglés</td>\n",
       "    </tr>\n",
       "    <tr>\n",
       "      <th>171</th>\n",
       "      <td>  C</td>\n",
       "      <td>                                             Bistua: Revista de la Facultad de Ciencias Básicas</td>\n",
       "      <td> 0120-4211</td>\n",
       "      <td>               </td>\n",
       "      <td>           </td>\n",
       "      <td>  Inglés</td>\n",
       "    </tr>\n",
       "    <tr>\n",
       "      <th>172</th>\n",
       "      <td> A1</td>\n",
       "      <td>                                                                            Faraday Discussions</td>\n",
       "      <td> 1364-5498</td>\n",
       "      <td>               </td>\n",
       "      <td>           </td>\n",
       "      <td>  Inglés</td>\n",
       "    </tr>\n",
       "    <tr>\n",
       "      <th>173</th>\n",
       "      <td> A1</td>\n",
       "      <td>                                              Monthly Notices of the Royal Astronomical Society</td>\n",
       "      <td> 0035-8711</td>\n",
       "      <td>               </td>\n",
       "      <td>           </td>\n",
       "      <td>  Inglés</td>\n",
       "    </tr>\n",
       "    <tr>\n",
       "      <th>174</th>\n",
       "      <td> A1</td>\n",
       "      <td>                                                                Computational Materials Science</td>\n",
       "      <td> 0927-0256</td>\n",
       "      <td>               </td>\n",
       "      <td>           </td>\n",
       "      <td>  Inglés</td>\n",
       "    </tr>\n",
       "    <tr>\n",
       "      <th>175</th>\n",
       "      <td> A2</td>\n",
       "      <td>                                                               Optics and Lasers in Engineering</td>\n",
       "      <td> 0143-8166</td>\n",
       "      <td>               </td>\n",
       "      <td>           </td>\n",
       "      <td>  Inglés</td>\n",
       "    </tr>\n",
       "    <tr>\n",
       "      <th>176</th>\n",
       "      <td> A1</td>\n",
       "      <td>                                              Journal of Physics G-Nuclear and Particle Physics</td>\n",
       "      <td> 0954-3899</td>\n",
       "      <td>               </td>\n",
       "      <td>           </td>\n",
       "      <td>  Inglés</td>\n",
       "    </tr>\n",
       "    <tr>\n",
       "      <th>177</th>\n",
       "      <td> A1</td>\n",
       "      <td>                                                            Journal of Comparative Physiology A</td>\n",
       "      <td> 0340-7594</td>\n",
       "      <td>               </td>\n",
       "      <td>           </td>\n",
       "      <td>  Inglés</td>\n",
       "    </tr>\n",
       "    <tr>\n",
       "      <th>178</th>\n",
       "      <td>  C</td>\n",
       "      <td>                                                                     Aip Conference Proceedings</td>\n",
       "      <td> 0094-243X</td>\n",
       "      <td>               </td>\n",
       "      <td>           </td>\n",
       "      <td>  Inglés</td>\n",
       "    </tr>\n",
       "    <tr>\n",
       "      <th>179</th>\n",
       "      <td> A1</td>\n",
       "      <td>                                                                              Journal of vision</td>\n",
       "      <td> 1534-7362</td>\n",
       "      <td>               </td>\n",
       "      <td>           </td>\n",
       "      <td>  Inglés</td>\n",
       "    </tr>\n",
       "    <tr>\n",
       "      <th>180</th>\n",
       "      <td> A1</td>\n",
       "      <td>                                                      Journal of nanoscience and nanotechnology</td>\n",
       "      <td> 1533-4880</td>\n",
       "      <td>               </td>\n",
       "      <td>           </td>\n",
       "      <td>  Inglés</td>\n",
       "    </tr>\n",
       "    <tr>\n",
       "      <th>181</th>\n",
       "      <td> A1</td>\n",
       "      <td>                                                                               Climate dynamics</td>\n",
       "      <td> 0930-7575</td>\n",
       "      <td>               </td>\n",
       "      <td>           </td>\n",
       "      <td>  Inglés</td>\n",
       "    </tr>\n",
       "    <tr>\n",
       "      <th>182</th>\n",
       "      <td> A2</td>\n",
       "      <td>                                                                          Acta veterinaria Brno</td>\n",
       "      <td> 0001-7213</td>\n",
       "      <td>               </td>\n",
       "      <td>           </td>\n",
       "      <td>  Inglés</td>\n",
       "    </tr>\n",
       "    <tr>\n",
       "      <th>183</th>\n",
       "      <td>  B</td>\n",
       "      <td>                                                                                       contract</td>\n",
       "      <td> 1551-8965</td>\n",
       "      <td>               </td>\n",
       "      <td>           </td>\n",
       "      <td>  Inglés</td>\n",
       "    </tr>\n",
       "    <tr>\n",
       "      <th>184</th>\n",
       "      <td> A1</td>\n",
       "      <td>                                                                            Faraday discussions</td>\n",
       "      <td> 1364-5498</td>\n",
       "      <td>               </td>\n",
       "      <td>           </td>\n",
       "      <td>  Inglés</td>\n",
       "    </tr>\n",
       "    <tr>\n",
       "      <th>185</th>\n",
       "      <td> A2</td>\n",
       "      <td>                                                                        Acta Physica Polonica A</td>\n",
       "      <td> 0587-4246</td>\n",
       "      <td>               </td>\n",
       "      <td>           </td>\n",
       "      <td>  Inglés</td>\n",
       "    </tr>\n",
       "    <tr>\n",
       "      <th>186</th>\n",
       "      <td> A2</td>\n",
       "      <td>                                                                  Bulletin of Materials Science</td>\n",
       "      <td> 0250-4707</td>\n",
       "      <td>               </td>\n",
       "      <td>           </td>\n",
       "      <td>  Inglés</td>\n",
       "    </tr>\n",
       "    <tr>\n",
       "      <th>187</th>\n",
       "      <td> A1</td>\n",
       "      <td>                                                                                   Astrobiology</td>\n",
       "      <td> 1531-1074</td>\n",
       "      <td>               </td>\n",
       "      <td>           </td>\n",
       "      <td>  Inglés</td>\n",
       "    </tr>\n",
       "    <tr>\n",
       "      <th>188</th>\n",
       "      <td> A1</td>\n",
       "      <td>                                                                         New Journal of Physics</td>\n",
       "      <td> 1367-2630</td>\n",
       "      <td>               </td>\n",
       "      <td>           </td>\n",
       "      <td>  Inglés</td>\n",
       "    </tr>\n",
       "    <tr>\n",
       "      <th>189</th>\n",
       "      <td> A1</td>\n",
       "      <td>                                                               Journal of nanoparticle research</td>\n",
       "      <td> 1388-0764</td>\n",
       "      <td>               </td>\n",
       "      <td>           </td>\n",
       "      <td>  Inglés</td>\n",
       "    </tr>\n",
       "    <tr>\n",
       "      <th>190</th>\n",
       "      <td> A1</td>\n",
       "      <td>                                                                    Planetary and Space Science</td>\n",
       "      <td> 0032-0633</td>\n",
       "      <td>               </td>\n",
       "      <td>           </td>\n",
       "      <td>  Inglés</td>\n",
       "    </tr>\n",
       "    <tr>\n",
       "      <th>191</th>\n",
       "      <td> A2</td>\n",
       "      <td>                                                                                      Opt. Lett</td>\n",
       "      <td> 1671-7694</td>\n",
       "      <td>               </td>\n",
       "      <td>           </td>\n",
       "      <td>  Inglés</td>\n",
       "    </tr>\n",
       "    <tr>\n",
       "      <th>192</th>\n",
       "      <td> A1</td>\n",
       "      <td>                                                                        Applied Physics Letters</td>\n",
       "      <td> 0003-6951</td>\n",
       "      <td>               </td>\n",
       "      <td>           </td>\n",
       "      <td>  Inglés</td>\n",
       "    </tr>\n",
       "    <tr>\n",
       "      <th>193</th>\n",
       "      <td> A1</td>\n",
       "      <td>                                                                              Physics letters B</td>\n",
       "      <td> 0370-2693</td>\n",
       "      <td>               </td>\n",
       "      <td>           </td>\n",
       "      <td>  Inglés</td>\n",
       "    </tr>\n",
       "    <tr>\n",
       "      <th>194</th>\n",
       "      <td> A2</td>\n",
       "      <td>                                                                    European journal of physics</td>\n",
       "      <td> 1895-1082</td>\n",
       "      <td>               </td>\n",
       "      <td>           </td>\n",
       "      <td>  Inglés</td>\n",
       "    </tr>\n",
       "    <tr>\n",
       "      <th>195</th>\n",
       "      <td> A2</td>\n",
       "      <td>                                                          International Journal of Astrobiology</td>\n",
       "      <td> 1473-5504</td>\n",
       "      <td>               </td>\n",
       "      <td>           </td>\n",
       "      <td>  Inglés</td>\n",
       "    </tr>\n",
       "    <tr>\n",
       "      <th>196</th>\n",
       "      <td> A1</td>\n",
       "      <td>                                                             ACS applied materials &amp; interfaces</td>\n",
       "      <td> 1944-8244</td>\n",
       "      <td>               </td>\n",
       "      <td>           </td>\n",
       "      <td>  Inglés</td>\n",
       "    </tr>\n",
       "    <tr>\n",
       "      <th>197</th>\n",
       "      <td> A1</td>\n",
       "      <td>                                                                  Classical and Quantum Gravity</td>\n",
       "      <td> 0264-9381</td>\n",
       "      <td>               </td>\n",
       "      <td>           </td>\n",
       "      <td>  Inglés</td>\n",
       "    </tr>\n",
       "  </tbody>\n",
       "</table>\n",
       "</div>"
      ],
      "text/plain": [
       "    CATEGORIA  \\\n",
       "0          A2   \n",
       "1           B   \n",
       "2          A1   \n",
       "3          A1   \n",
       "4          A1   \n",
       "5          A1   \n",
       "6          A1   \n",
       "7           C   \n",
       "8           C   \n",
       "9          A1   \n",
       "10         A1   \n",
       "11         A1   \n",
       "12          C   \n",
       "13          C   \n",
       "14         A1   \n",
       "15         A1   \n",
       "16         A1   \n",
       "17         A2   \n",
       "18         A1   \n",
       "19         A1   \n",
       "20         A2   \n",
       "21         A1   \n",
       "22         A1   \n",
       "23          C   \n",
       "24         A1   \n",
       "25         A1   \n",
       "26         A1   \n",
       "27         A1   \n",
       "28         A1   \n",
       "29         A1   \n",
       "30         A1   \n",
       "31         A2   \n",
       "32         A2   \n",
       "33         A1   \n",
       "34         A2   \n",
       "35         A1   \n",
       "36         A1   \n",
       "37         A2   \n",
       "38         A2   \n",
       "39         A1   \n",
       "40          C   \n",
       "41          C   \n",
       "42          C   \n",
       "43         A2   \n",
       "44         A1   \n",
       "45         A2   \n",
       "46         A2   \n",
       "47         A1   \n",
       "48         A2   \n",
       "49         A2   \n",
       "50          C   \n",
       "51         A1   \n",
       "52         A1   \n",
       "53         A1   \n",
       "54         A2   \n",
       "55         A1   \n",
       "56         A1   \n",
       "57         A1   \n",
       "58         A2   \n",
       "59         A1   \n",
       "60         A1   \n",
       "61         A1   \n",
       "62         A1   \n",
       "63         A1   \n",
       "64         A1   \n",
       "65         A1   \n",
       "66         A1   \n",
       "67         A1   \n",
       "68         A1   \n",
       "69         A2   \n",
       "70         A1   \n",
       "71         A1   \n",
       "72         A1   \n",
       "73         A1   \n",
       "74          C   \n",
       "75         A2   \n",
       "76         A1   \n",
       "77          C   \n",
       "78          C   \n",
       "79          C   \n",
       "80         A2   \n",
       "81         A1   \n",
       "82         A1   \n",
       "83         A2   \n",
       "84          C   \n",
       "85         A1   \n",
       "86          C   \n",
       "87         A1   \n",
       "88         A1   \n",
       "89         A2   \n",
       "90         A1   \n",
       "91          C   \n",
       "92         A2   \n",
       "93          C   \n",
       "94         A1   \n",
       "95         A1   \n",
       "96         A1   \n",
       "97         A2   \n",
       "98          C   \n",
       "99         A1   \n",
       "100        A2   \n",
       "101        A1   \n",
       "102        A1   \n",
       "103         B   \n",
       "104        A2   \n",
       "105        A1   \n",
       "106        A1   \n",
       "107        A1   \n",
       "108        A1   \n",
       "109         C   \n",
       "110        A2   \n",
       "111        A2   \n",
       "112        A2   \n",
       "113        A1   \n",
       "114        A2   \n",
       "115         C   \n",
       "116         C   \n",
       "117        A2   \n",
       "118        A1   \n",
       "119        A1   \n",
       "120        A1   \n",
       "121        A1   \n",
       "122         C   \n",
       "123         C   \n",
       "124        A1   \n",
       "125        A1   \n",
       "126        A2   \n",
       "127        A1   \n",
       "128        A1   \n",
       "129         C   \n",
       "130        A1   \n",
       "131         C   \n",
       "132        A1   \n",
       "133        A1   \n",
       "134        A1   \n",
       "135        A1   \n",
       "136        A2   \n",
       "137        A1   \n",
       "138        A1   \n",
       "139        A1   \n",
       "140        A2   \n",
       "141        A2   \n",
       "142        A1   \n",
       "143        A1   \n",
       "144        A1   \n",
       "145        A1   \n",
       "146        A1   \n",
       "147        A2   \n",
       "148        A1   \n",
       "149         C   \n",
       "150        A1   \n",
       "151        A1   \n",
       "152        A2   \n",
       "153         C   \n",
       "154         C   \n",
       "155        A2   \n",
       "156        A2   \n",
       "157        A2   \n",
       "158        A2   \n",
       "159         C   \n",
       "160        A1   \n",
       "161        A1   \n",
       "162        A1   \n",
       "163        A1   \n",
       "164        A1   \n",
       "165        A1   \n",
       "166         C   \n",
       "167        A1   \n",
       "168         C   \n",
       "169        A2   \n",
       "170        A1   \n",
       "171         C   \n",
       "172        A1   \n",
       "173        A1   \n",
       "174        A1   \n",
       "175        A2   \n",
       "176        A1   \n",
       "177        A1   \n",
       "178         C   \n",
       "179        A1   \n",
       "180        A1   \n",
       "181        A1   \n",
       "182        A2   \n",
       "183         B   \n",
       "184        A1   \n",
       "185        A2   \n",
       "186        A2   \n",
       "187        A1   \n",
       "188        A1   \n",
       "189        A1   \n",
       "190        A1   \n",
       "191        A2   \n",
       "192        A1   \n",
       "193        A1   \n",
       "194        A2   \n",
       "195        A2   \n",
       "196        A1   \n",
       "197        A1   \n",
       "\n",
       "                                                                                             TITULO  \\\n",
       "0                                                                              Ingeniería y Ciencia   \n",
       "1                                                                      Revista Colombiana de Física   \n",
       "2                                                                                 Physical Review D   \n",
       "3                                                                       European Physical Journal C   \n",
       "4                                                         International Journal of Modern Physics A   \n",
       "5                                                                          Modern Physics Letters A   \n",
       "6                                                            Physica Status Solidi B-Basic Research   \n",
       "7                                                                                               EPL   \n",
       "8                                                                          Zeitschrift für Physik C   \n",
       "9                                                                                 Physics Letters B   \n",
       "10                                                                       Revista Mexicana de Fisica   \n",
       "11                                                                              High Energy Physics   \n",
       "12                                                                       AIP Conference Proceedings   \n",
       "13                                                                             Particles and Fields   \n",
       "14                                                                            Optics communications   \n",
       "15                                                                              Optical Engineering   \n",
       "16                                                                                   Applied optics   \n",
       "17                                                                                            Optik   \n",
       "18                                                                            Optics Communications   \n",
       "19                                                                                   Optics letters   \n",
       "20                                                                 Optics and lasers in engineering   \n",
       "21                                                                                   Optics Express   \n",
       "22                                                                      American Journal of Physics   \n",
       "23                                                                              Proceedings of SPIE   \n",
       "24                                                                                Physical Review B   \n",
       "25                                                              Journal of Physics-Condensed Matter   \n",
       "26                                                                       Journal of Applied Physics   \n",
       "27                                                                       Journal of applied physics   \n",
       "28                                                             Semiconductor science and technology   \n",
       "29                                                                      European Physical Journal B   \n",
       "30                                                                          Applied surface science   \n",
       "31                                                                     Brazilian journal of physics   \n",
       "32                                                                         Microelectronics journal   \n",
       "33                                                                          Applied Surface Science   \n",
       "34                                                                       Surface Review and Letters   \n",
       "35                                                                                Materials Letters   \n",
       "36                                            Physica E: Low-dimensional Systems and Nanostructures   \n",
       "37                                                                Superlattices and Microstructures   \n",
       "38                                                                         Microelectronics Journal   \n",
       "39                                                                             Solid State Sciences   \n",
       "40                                                                         physica status solidi(c)   \n",
       "41                                                            Journal of Physics: Conference Series   \n",
       "42                                                                                     PIERS Online   \n",
       "43                                                                     Brazilian Journal of physics   \n",
       "44                                                                          Journal of Luminescence   \n",
       "45                                                                                      Revista EIA   \n",
       "46                                   Journal of Contemporary Physics (Armenian Academy of Sciences)   \n",
       "47                                          Revista Facultad de Ingeniería Universidad de Antioquia   \n",
       "48                               Revista Técnica de la Facultad de Ingeniería Universidad del Zulia   \n",
       "49                                                                     Brazilian Journal of Physics   \n",
       "50                                                        Bulletin of the American Physical Society   \n",
       "51                                                                                             Dyna   \n",
       "52                                                                 Journal of Nanoparticle Research   \n",
       "53                                                                        physica status solidi (a)   \n",
       "54                                                                     BRAZILIAN JOURNAL OF PHYSICS   \n",
       "55                                                                     Journal of materials science   \n",
       "56                                                             Journal of Physics D-Applied Physics   \n",
       "57                                                                          Physical review letters   \n",
       "58                                                                                 Few-Body Systems   \n",
       "59                                                        International Journal of Modern Physics B   \n",
       "60                                                                  Computer Physics Communications   \n",
       "61                                                                   Journal of High Energy Physics   \n",
       "62                                                   Journal of Cosmology and Astroparticle Physics   \n",
       "63                                                                                           Nature   \n",
       "64                                                                                Physical Review A   \n",
       "65                                      Journal of Physics B: Atomic, Molecular and Optical Physics   \n",
       "66                                           Journal of Electron Spectroscopy and Related Phenomena   \n",
       "67                                                                          Physical Review Letters   \n",
       "68                                                                                 Chemical Physics   \n",
       "69                                                                    Revista Colombiana de Química   \n",
       "70                                                       International Journal of Quantum Chemistry   \n",
       "71                                                                       Solid state communications   \n",
       "72                                                       Journal of Physics and Chemistry of Solids   \n",
       "73                                                                               Materials Research   \n",
       "74                                                                                Physical Review E   \n",
       "75                                                                          Optics and Spectroscopy   \n",
       "76                                                                        Journal of crystal growth   \n",
       "77                                                                  SPRINGER PROCEEDINGS IN PHYSICS   \n",
       "78                                                                           Hyperfine Interactions   \n",
       "79                                                                           Hyperfine interactions   \n",
       "80                                                                   Materials Research Innovations   \n",
       "81                                                      Journal of magnetism and magnetic materials   \n",
       "82                                             Revista Latinoamericana de Metalurgia y Materiales S   \n",
       "83                                                                   Materials research innovations   \n",
       "84                                                          Progress in Colloid and Polymer Science   \n",
       "85                                                      Journal of Magnetism and Magnetic Materials   \n",
       "86                                                                           El Hombre y La Máquina   \n",
       "87                                                                                Physics Letters A   \n",
       "88                                                                                Journal of Vision   \n",
       "89                                                              Ophthalmic and Physiological Optics   \n",
       "90                                                                                Physical Review C   \n",
       "91                                                                             Computers in Physics   \n",
       "92                                                                      European Journal of Physics   \n",
       "93                                                                  AIP Conf. Proc.;(United States)   \n",
       "94                                                                        The Astrophysical Journal   \n",
       "95                                                                                Nuclear Physics B   \n",
       "96                                                     Revista mexicana de astronomía y astrofísica   \n",
       "97                                                                             IAU Joint Discussion   \n",
       "98                                   Revista Mexicana de Astronomia y Astrofisica Conference Series   \n",
       "99                                                               General Relativity and Gravitation   \n",
       "100                                    International Journal of Geometric Methods in Modern Physics   \n",
       "101                                                                      Chaos, Solitons & Fractals   \n",
       "102                                                                                        Relation   \n",
       "103                                              Journal of Theoretical and Computational Chemistry   \n",
       "104                                                       International Journal of Modern Physics E   \n",
       "105                                                             Physical Chemistry Chemical Physics   \n",
       "106                                                                               Corrosion science   \n",
       "107                                                                               Corrosion Science   \n",
       "108                                                                 Materials Chemistry and Physics   \n",
       "109                                                                         Materials Science Forum   \n",
       "110                                                                                Acta méd. colomb   \n",
       "111                                                                           Revista de metalurgia   \n",
       "112                                                                           Revista de Metalurgia   \n",
       "113                                                                             Revista de Ciencias   \n",
       "114                                                             Revista Colombiana de Biotecnología   \n",
       "115                                                                              Hyperfine Interact   \n",
       "116                                                                     Advanced Materials Research   \n",
       "117                      Revista de la Academia colombiana de ciencias exactes, físicas y naturales   \n",
       "118                                                               Geophysical Journal International   \n",
       "119                                                                                Thin Solid Films   \n",
       "120                                                                 Journal of alloys and compounds   \n",
       "121                                                                                   Clay minerals   \n",
       "122                                                                 Czechoslovak Journal of Physics   \n",
       "123                                                 CONFERENCE PROCEEDINGS-ITALIAN PHYSICAL SOCIETY   \n",
       "124                                                               Physics and chemistry of minerals   \n",
       "125                                                                                Chemical geology   \n",
       "126                                                                          Acta Physica Hungarica   \n",
       "127                                                                                 Physics Reports   \n",
       "128                                                                     Physica C Superconductivity   \n",
       "129                                                                            ACS SYMPOSIUM SERIES   \n",
       "130                                                                      Solid State Communications   \n",
       "131                                              Revista Latinoamericana de Metalurgia y Materiales   \n",
       "132  Journal of Comparative Physiology A: Neuroethology, Sensory, Neural, and Behavioral Physiology   \n",
       "133                                                                 Journal of Experimental Biology   \n",
       "134                                                                 Journal of Mathematical Physics   \n",
       "135                                                                    Revista mexicana de física E   \n",
       "136                                                                 Optical and Quantum Electronics   \n",
       "137                                                                    Revista de biología tropical   \n",
       "138                                                                                  Applied Optics   \n",
       "139                                                                                          Icarus   \n",
       "140                                                                              Annalen der Physik   \n",
       "141                                                Journal of Superconductivity and Novel Magnetism   \n",
       "142                                                       Journal of Nanoscience and Nanotechnology   \n",
       "143                                                                                  Optics Letters   \n",
       "144                                                                      Nanoscale research letters   \n",
       "145                                                                                Climate Dynamics   \n",
       "146                                                                    Chemical engineering science   \n",
       "147                                                                              Computer Languages   \n",
       "148                                                                  IEEE transactions on magnetics   \n",
       "149                                                                            ACS Symposium Series   \n",
       "150                                                                                        Scientia   \n",
       "151                                                                            Minerals Engineering   \n",
       "152                                                       International Journal of Modern Physics D   \n",
       "153                                                                                        preprint   \n",
       "154                                                                         Materials science forum   \n",
       "155                                                Journal of superconductivity and novel magnetism   \n",
       "156                                                                  Philosophical Magazine Letters   \n",
       "157                                   Modelling and Simulation in Materials Science and Engineering   \n",
       "158                                                                       Acta Biológica Colombiana   \n",
       "159                                                                      Hyperfine Interactions (C)   \n",
       "160                                                                                    ChemPhysChem   \n",
       "161                                                                               Journal of Optics   \n",
       "162                                                                      JOURNAL OF APPLIED PHYSICS   \n",
       "163                                                        Educere: Revista Venezolana de Educación   \n",
       "164                                                                                             PoS   \n",
       "165                                                                 Journal of Alloys and Compounds   \n",
       "166                                                                                     Corros. Sci   \n",
       "167                                                                                       Physica B   \n",
       "168                                                REVISTA LATINOAMERICANA DE MICROBIOLOGIA-MEXICO-   \n",
       "169                                                                Fresenius Environmental Bulletin   \n",
       "170                                                 World journal of microbiology and biotechnology   \n",
       "171                                              Bistua: Revista de la Facultad de Ciencias Básicas   \n",
       "172                                                                             Faraday Discussions   \n",
       "173                                               Monthly Notices of the Royal Astronomical Society   \n",
       "174                                                                 Computational Materials Science   \n",
       "175                                                                Optics and Lasers in Engineering   \n",
       "176                                               Journal of Physics G-Nuclear and Particle Physics   \n",
       "177                                                             Journal of Comparative Physiology A   \n",
       "178                                                                      Aip Conference Proceedings   \n",
       "179                                                                               Journal of vision   \n",
       "180                                                       Journal of nanoscience and nanotechnology   \n",
       "181                                                                                Climate dynamics   \n",
       "182                                                                           Acta veterinaria Brno   \n",
       "183                                                                                        contract   \n",
       "184                                                                             Faraday discussions   \n",
       "185                                                                         Acta Physica Polonica A   \n",
       "186                                                                   Bulletin of Materials Science   \n",
       "187                                                                                    Astrobiology   \n",
       "188                                                                          New Journal of Physics   \n",
       "189                                                                Journal of nanoparticle research   \n",
       "190                                                                     Planetary and Space Science   \n",
       "191                                                                                       Opt. Lett   \n",
       "192                                                                         Applied Physics Letters   \n",
       "193                                                                               Physics letters B   \n",
       "194                                                                     European journal of physics   \n",
       "195                                                           International Journal of Astrobiology   \n",
       "196                                                              ACS applied materials & interfaces   \n",
       "197                                                                   Classical and Quantum Gravity   \n",
       "\n",
       "          ISSN         country        city language  \n",
       "0    1794-9165                              Spanish  \n",
       "1    0120-2650                              Spanish  \n",
       "2    1550-7998  Estados Unidos  Nueva York   Inglés  \n",
       "3    1434-6044                               Inglés  \n",
       "4    0217-751X                               Inglés  \n",
       "5    0217-7323                               Inglés  \n",
       "6    0370-1972                               Inglés  \n",
       "7    1286-4854                               Inglés  \n",
       "8    0170-9739                               Inglés  \n",
       "9    0370-2693                               Inglés  \n",
       "10   0035-001X                               Inglés  \n",
       "11   1126-6708                               Inglés  \n",
       "12   0094-243X                               Inglés  \n",
       "13   1434-6052                               Inglés  \n",
       "14   0030-4018                               Inglés  \n",
       "15   0091-3286                               Inglés  \n",
       "16   0003-6935                               Inglés  \n",
       "17   0030-4026                               Inglés  \n",
       "18   0030-4018                               Inglés  \n",
       "19   0146-9592  Estados Unidos  Washington   Inglés  \n",
       "20   0143-8166                               Inglés  \n",
       "21   1094-4087                               Inglés  \n",
       "22   0002-9505                               Inglés  \n",
       "23   0277-786X                               Inglés  \n",
       "24   1098-0121                               Inglés  \n",
       "25   0953-8984                               Inglés  \n",
       "26   0021-4922                               Inglés  \n",
       "27   0021-4922                               Inglés  \n",
       "28   0268-1242                               Inglés  \n",
       "29   1434-6028                               Inglés  \n",
       "30   0169-4332                               Inglés  \n",
       "31   0103-9733                               Inglés  \n",
       "32   0026-2692                               Inglés  \n",
       "33   0169-4332                               Inglés  \n",
       "34   0218-625X                               Inglés  \n",
       "35   1793-6047                               Inglés  \n",
       "36   1386-9477                               Inglés  \n",
       "37   0749-6036         Holanda   Amsterdam   Inglés  \n",
       "38   0026-2692                               Inglés  \n",
       "39   1293-2558                               Inglés  \n",
       "40   1862-6351                               Inglés  \n",
       "41   1742-6588                               Inglés  \n",
       "42   1931-7360                               Inglés  \n",
       "43   0103-9733                               Inglés  \n",
       "44   0022-2313                               Inglés  \n",
       "45   1794-1237                               Inglés  \n",
       "46   1068-3372                               Inglés  \n",
       "47   0120-6230                               Inglés  \n",
       "48   0254-0770                               Inglés  \n",
       "49   0103-9733                               Inglés  \n",
       "50   0003-0503                               Inglés  \n",
       "51   0930-7575                               Inglés  \n",
       "52   1388-0764                               Inglés  \n",
       "53   1862-6300                               Inglés  \n",
       "54   0103-9733                               Inglés  \n",
       "55   0022-2461                               Inglés  \n",
       "56   0022-3727                               Inglés  \n",
       "57   0031-9007                               Inglés  \n",
       "58   0177-7963                               Inglés  \n",
       "59   0217-9792                               Inglés  \n",
       "60   0010-4655                               Inglés  \n",
       "61   1126-6708                               Inglés  \n",
       "62   1475-7516                               Inglés  \n",
       "63   1743-4378                               Inglés  \n",
       "64   1050-2947                               Inglés  \n",
       "65   0953-4075                               Inglés  \n",
       "66   0368-2048                               Inglés  \n",
       "67   0031-9007                               Inglés  \n",
       "68   0065-2385                               Inglés  \n",
       "69   0120-2804                               Inglés  \n",
       "70   0020-7608                               Inglés  \n",
       "71   0038-1098                               Inglés  \n",
       "72   0022-3697                               Inglés  \n",
       "73   1531-7331                               Inglés  \n",
       "74   1063-651X                               Inglés  \n",
       "75   0030-400X                               Inglés  \n",
       "76   0022-0248                               Inglés  \n",
       "77   0930-8989                               Inglés  \n",
       "78   0304-3843                               Inglés  \n",
       "79   0304-3843                               Inglés  \n",
       "80   1432-8917                               Inglés  \n",
       "81   0304-8853                               Inglés  \n",
       "82   0255-6952                               Inglés  \n",
       "83   1432-8917                               Inglés  \n",
       "84   0340-255X                               Inglés  \n",
       "85   0304-8853                               Inglés  \n",
       "86   0121-0777                               Inglés  \n",
       "87   0217-7323                               Inglés  \n",
       "88   1534-7362                               Inglés  \n",
       "89   0275-5408                               Inglés  \n",
       "90   0556-2813                               Inglés  \n",
       "91   0894-1866                               Inglés  \n",
       "92   1895-1082                               Inglés  \n",
       "93   0094-243X                               Inglés  \n",
       "94   0004-637X                               Inglés  \n",
       "95   0550-3213                               Inglés  \n",
       "96   0185-1101                               Inglés  \n",
       "97    074-1809                               Inglés  \n",
       "98   1405-2059                               Inglés  \n",
       "99   0001-7701                               Inglés  \n",
       "100  0219-8878                               Inglés  \n",
       "101  0960-0779                               Inglés  \n",
       "102  0018-7267                               Inglés  \n",
       "103  1096-987X                               Inglés  \n",
       "104  0218-3013                               Inglés  \n",
       "105  1463-9076                               Inglés  \n",
       "106  0010-938X                               Inglés  \n",
       "107  0010-938X                               Inglés  \n",
       "108  0254-0584                               Inglés  \n",
       "109  0255-5476                               Inglés  \n",
       "110  0120-2448                               Inglés  \n",
       "111  0034-8570                               Inglés  \n",
       "112  0034-8570                               Inglés  \n",
       "113  0011-5258                               Inglés  \n",
       "114  0123-3475                               Inglés  \n",
       "115  0304-3843                               Inglés  \n",
       "116  1022-6680                               Inglés  \n",
       "117  0370-3908                               Inglés  \n",
       "118  0956-540X                               Inglés  \n",
       "119  0040-6090                               Inglés  \n",
       "120  0925-8388                               Inglés  \n",
       "121  0009-8604                               Inglés  \n",
       "122  0011-4626                               Inglés  \n",
       "123  1122-1437                               Inglés  \n",
       "124  0342-1791                               Inglés  \n",
       "125  0009-2541                               Inglés  \n",
       "126  1219-7580                               Inglés  \n",
       "127  0370-1573                               Inglés  \n",
       "128  0921-4534                               Inglés  \n",
       "129  0097-6156                               Inglés  \n",
       "130  0038-1098                               Inglés  \n",
       "131  0255-6952                               Inglés  \n",
       "132  0340-7594                               Inglés  \n",
       "133  0022-0949                               Inglés  \n",
       "134  0022-2488                               Inglés  \n",
       "135  1870-3542                               Inglés  \n",
       "136  0306-8919                               Inglés  \n",
       "137  0034-7744                               Inglés  \n",
       "138  0003-6935                               Inglés  \n",
       "139  0019-1035                               Inglés  \n",
       "140  0003-3804                               Inglés  \n",
       "141  1557-1939                               Inglés  \n",
       "142  1533-4880                               Inglés  \n",
       "143  0146-9592  Estados Unidos  Washington   Inglés  \n",
       "144  1931-7573                               Inglés  \n",
       "145  0930-7575                               Inglés  \n",
       "146  0009-2509                               Inglés  \n",
       "147  1477-8424                               Inglés  \n",
       "148  0018-9464                               Inglés  \n",
       "149  0097-6156                               Inglés  \n",
       "150  1807-8621                               Inglés  \n",
       "151  0892-6875                               Inglés  \n",
       "152  0218-2718                               Inglés  \n",
       "153  0032-3934                               Inglés  \n",
       "154  0255-5476                               Inglés  \n",
       "155  1557-1939                               Inglés  \n",
       "156  0950-0839                               Inglés  \n",
       "157  0965-0393                               Inglés  \n",
       "158  0120-548X                               Inglés  \n",
       "159  0304-3843                               Inglés  \n",
       "160  1439-4235                               Inglés  \n",
       "161  1464-4258                               Inglés  \n",
       "162  0021-4922                               Inglés  \n",
       "163  1316-4910                               Inglés  \n",
       "164  0263-8223                               Inglés  \n",
       "165  0925-8388                               Inglés  \n",
       "166  1002-6495                               Inglés  \n",
       "167  0921-4526                               Inglés  \n",
       "168  0034-9771                               Inglés  \n",
       "169  1018-4619                               Inglés  \n",
       "170  0959-3993                               Inglés  \n",
       "171  0120-4211                               Inglés  \n",
       "172  1364-5498                               Inglés  \n",
       "173  0035-8711                               Inglés  \n",
       "174  0927-0256                               Inglés  \n",
       "175  0143-8166                               Inglés  \n",
       "176  0954-3899                               Inglés  \n",
       "177  0340-7594                               Inglés  \n",
       "178  0094-243X                               Inglés  \n",
       "179  1534-7362                               Inglés  \n",
       "180  1533-4880                               Inglés  \n",
       "181  0930-7575                               Inglés  \n",
       "182  0001-7213                               Inglés  \n",
       "183  1551-8965                               Inglés  \n",
       "184  1364-5498                               Inglés  \n",
       "185  0587-4246                               Inglés  \n",
       "186  0250-4707                               Inglés  \n",
       "187  1531-1074                               Inglés  \n",
       "188  1367-2630                               Inglés  \n",
       "189  1388-0764                               Inglés  \n",
       "190  0032-0633                               Inglés  \n",
       "191  1671-7694                               Inglés  \n",
       "192  0003-6951                               Inglés  \n",
       "193  0370-2693                               Inglés  \n",
       "194  1895-1082                               Inglés  \n",
       "195  1473-5504                               Inglés  \n",
       "196  1944-8244                               Inglés  \n",
       "197  0264-9381                               Inglés  "
      ]
     },
     "execution_count": 131,
     "metadata": {},
     "output_type": "execute_result"
    }
   ],
   "source": [
    "publindex"
   ]
  },
  {
   "cell_type": "code",
   "execution_count": 117,
   "metadata": {},
   "outputs": [
    {
     "name": "stdout",
     "output_type": "stream",
     "text": [
      "<?xml version=\"1.0\" encoding=\"UTF-8\"?>\n",
      "<?xml-stylesheet type=\"text/xsl\" media=\"screen\" href=\"/~d/styles/atom10full.xsl\"?><?xml-stylesheet type=\"text/css\" media=\"screen\" href=\"http://feeds.feedburner.com/~d/styles/itemcontent.css\"?>\n",
      "<feed xmlns=\"http://www.w3.org/2005/Atom\" xmlns:openSearch=\"http://a9.com/-/spec/opensearchrss/1.0/\" xmlns:blogger=\"http://schemas.google.com/blogger/2008\" xmlns:georss=\"http://www.georss.org/georss\" xmlns:gd=\"http://schemas.google.com/g/2005\" xmlns:thr=\"http://purl.org/syndication/thread/1.0\" xmlns:feedburner=\"http://rssnamespace.org/feedburner/ext/1.0\">\n",
      "<entry>\n",
      "<title type=\"text\">Título del artículo</title><published>Intersubband linear and nonlinear optical response of the delta-doped SiGe quantum well</published></entry>\n",
      "<entry>\n",
      "<title type=\"text\">Nombre de la revista</title><published>Superlattices and Microstructures</published></entry>\n",
      "<entry>\n",
      "<title type=\"text\">DOI</title><published>10.1016/j.spmi.2015.05.039</published></entry>\n",
      "<entry>\n",
      "<title type=\"text\">Institución que publica</title><published>Elsevier BV</published></entry>\n",
      "<entry>\n",
      "<title type=\"text\">País</title><published>Holanda</published></entry>\n",
      "<entry>\n",
      "<title type=\"text\">Ciudad</title><published>Amsterdam</published></entry>\n",
      "<entry>\n",
      "<title type=\"text\">ISSN Colciencias</title><published>0749-6036</published></entry>\n",
      "<entry>\n",
      "<title type=\"text\">Idioma</title><published>Inglés</published></entry>\n",
      "<entry>\n",
      "<title type=\"text\">Año</title><published>2,0,1,5</published></entry>\n",
      "<entry>\n",
      "<title type=\"text\">Mes</title><published>1,1</published></entry>\n",
      "<entry>\n",
      "<title type=\"text\">Día</title><published></published></entry>\n",
      "<entry>\n",
      "<title type=\"text\">Volumen</title><published>8,7</published></entry>\n",
      "<entry>\n",
      "<title type=\"text\">Número</title><published>1,2,5</published></entry>\n",
      "<entry>\n",
      "<title type=\"text\">Nro páginas</title><published>5</published></entry>\n",
      "<entry>\n",
      "<title type=\"text\">Tiraje</title><published></published></entry>\n",
      "<entry>\n",
      "<title type=\"text\">Revista</title><published></published></entry>\n",
      "<entry>\n",
      "<title type=\"text\">Fotocopia</title><published></published></entry>\n",
      "<entry>\n",
      "<title type=\"text\">Otro</title><published></published></entry>\n",
      "<entry>\n",
      "<title type=\"text\">Fecha presentación: Año</title><published>2,0,1,6</published></entry>\n",
      "<entry>\n",
      "<title type=\"text\">Fecha presentación: Mes</title><published>0,2</published></entry>\n",
      "<entry>\n",
      "<title type=\"text\">Fecha presentación: Día</title><published>0,2</published></entry>\n",
      "<entry>\n",
      "<title type=\"text\">Autores</title><published>C.A. Duque <br/>\n",
      "V. Akimov <br/>\n",
      "R. Demediuk <br/>\n",
      "V. Belykh <br/>\n",
      "A. Tiutiunnyk <br/>\n",
      "A.L. Morales <br/>\n",
      "R.L. Restrepo <br/>\n",
      "M.E. Mora-Ramos <br/>\n",
      "O. Fomina <br/>\n",
      "V. Tulupenko <br/>\n",
      "</published></entry>\n",
      "<entry>\n",
      "<title type=\"text\">Clasificación Colciencias</title><published>A2</published></entry>\n",
      "<entry>\n",
      "<title type=\"text\">ISSN</title><published>[u'0749-6036']</published></entry>\n",
      "<entry>\n",
      "<title type=\"text\">URL</title><published><a href=\"http://api.elsevier.com/content/article/PII:S0749603615300185?httpAccept=text/xml\">http://api.elsevier.com/content/article/PII:S0749603615300185?httpAccept=text/xml</a></published></entry>\n",
      "</feed>\n",
      "\n"
     ]
    }
   ],
   "source": [
    "print ro['udea_xml']"
   ]
  },
  {
   "cell_type": "code",
   "execution_count": 95,
   "metadata": {},
   "outputs": [
    {
     "name": "stdout",
     "output_type": "stream",
     "text": [
      "<?xml version=\"1.0\" encoding=\"UTF-8\"?>\r\n",
      "<?xml-stylesheet type=\"text/xsl\" media=\"screen\" href=\"/~d/styles/atom10full.xsl\"?><?xml-stylesheet type=\"text/css\" media=\"screen\" href=\"http://feeds.feedburner.com/~d/styles/itemcontent.css\"?>\r\n",
      "<feed xmlns=\"http://www.w3.org/2005/Atom\" xmlns:openSearch=\"http://a9.com/-/spec/opensearchrss/1.0/\" xmlns:blogger=\"http://schemas.google.com/blogger/2008\" xmlns:georss=\"http://www.georss.org/georss\" xmlns:gd=\"http://schemas.google.com/g/2005\" xmlns:thr=\"http://purl.org/syndication/thread/1.0\" xmlns:feedburner=\"http://rssnamespace.org/feedburner/ext/1.0\">\r\n",
      "<entry>\r\n",
      "<title type=\"text\">Título del artículo</title><published>Fermion dark matter from SO(10) GUTs</published></entry>\r\n",
      "<entry>\r\n",
      "<title type=\"text\">Nombre de la revista</title><published>Physical Review D</published></entry>\r\n",
      "<entry>\r\n",
      "<title type=\"text\">DOI</title><published>10.1103/physrevd.93.013012</published></entry>\r\n",
      "<entry>\r\n",
      "<title type=\"text\">Institución que publica</title><published>American Physical Society (APS)</published></entry>\r\n",
      "<entry>\r\n",
      "<title type=\"text\">País</title><published>Estados Unidos</published></entry>\r\n",
      "<entry>\r\n",
      "<title type=\"text\">Ciudad</title><published>Nueva York</published></entry>\r\n",
      "<entry>\r\n",
      "<title type=\"text\">ISSN Colciencias</title><published>1550-7998</published></entry>\r\n",
      "<entry>\r\n",
      "<title type=\"text\">Idioma</title><published>Inglés</published></entry>\r\n",
      "<entry>\r\n",
      "<title type=\"text\">Año</title><published>2,0,1,6</published></entry>\r\n",
      "<entry>\r\n",
      "<title type=\"text\">Mes</title><published>1</published></entry>\r\n",
      "<entry>\r\n",
      "<title type=\"text\">Día</title><published>1,3</published></entry>\r\n",
      "<entry>\r\n",
      "<title type=\"text\">Volumen</title><published>9,3</published></entry>\r\n",
      "<entry>\r\n",
      "<title type=\"text\">Número</title><published>0,1,3,0,1,2</published></entry>\r\n",
      "<entry>\r\n",
      "<title type=\"text\">Nro páginas</title><published></published></entry>\r\n",
      "<entry>\r\n",
      "<title type=\"text\">Tiraje</title><published></published></entry>\r\n",
      "<entry>\r\n",
      "<title type=\"text\">Revista</title><published></published></entry>\r\n",
      "<entry>\r\n",
      "<title type=\"text\">Fotocopia</title><published></published></entry>\r\n",
      "<entry>\r\n",
      "<title type=\"text\">Otro</title><published></published></entry>\r\n",
      "<entry>\r\n",
      "<title type=\"text\">Fecha presentación: Año</title><published>2,0,1,6</published></entry>\r\n",
      "<entry>\r\n",
      "<title type=\"text\">Fecha presentación: Mes</title><published>0,2</published></entry>\r\n",
      "<entry>\r\n",
      "<title type=\"text\">Fecha presentación: Día</title><published>0,2</published></entry>\r\n",
      "<entry>\r\n",
      "<title type=\"text\">Autores</title><published>Carolina Arbeláez <br/>\r\n",
      "Robinson Longas <br/>\r\n",
      "Diego Restrepo <br/>\r\n",
      "Oscar Zapata <br/>\r\n",
      "</published></entry>\r\n",
      "<entry>\r\n",
      "<title type=\"text\">Clasificación Colciencias</title><published>A1</published></entry>\r\n",
      "<entry>\r\n",
      "<title type=\"text\">ISSN</title><published>[u'2470-0010', u'2470-0029']</published></entry>\r\n",
      "<entry>\r\n",
      "<title type=\"text\">URL</title><published><a href=\"http://link.aps.org/article/10.1103/PhysRevD.93.013012\">http://link.aps.org/article/10.1103/PhysRevD.93.013012</a></published></entry>\r\n",
      "</feed>\r\n"
     ]
    }
   ],
   "source": [
    "%cat revista.xml"
   ]
  },
  {
   "cell_type": "code",
   "execution_count": 119,
   "metadata": {},
   "outputs": [
    {
     "data": {
      "text/plain": [
       "{u'DOI': u'10.1016/j.spmi.2015.05.039',\n",
       " u'ISSN': [u'0749-6036'],\n",
       " 'ISSN_colciencias': '0749-6036',\n",
       " 'ISSN_type': 'A2',\n",
       " u'URL': u'http://dx.doi.org/10.1016/j.spmi.2015.05.039',\n",
       " u'alternative-id': [u'S0749603615300185'],\n",
       " 'article-number': '1,2,5',\n",
       " u'assertion': [{u'label': u'This article is maintained by',\n",
       "   u'name': u'publisher',\n",
       "   u'value': u'Elsevier'},\n",
       "  {u'label': u'Article Title',\n",
       "   u'name': u'articletitle',\n",
       "   u'value': u'Intersubband linear and nonlinear optical response of the delta-doped SiGe quantum well'},\n",
       "  {u'label': u'Journal Title',\n",
       "   u'name': u'journaltitle',\n",
       "   u'value': u'Superlattices and Microstructures'},\n",
       "  {u'label': u'CrossRef DOI link to publisher maintained version',\n",
       "   u'name': u'articlelink',\n",
       "   u'value': u'http://dx.doi.org/10.1016/j.spmi.2015.05.039'},\n",
       "  {u'label': u'Content Type', u'name': u'content_type', u'value': u'article'},\n",
       "  {u'label': u'Copyright',\n",
       "   u'name': u'copyright',\n",
       "   u'value': u'Copyright \\xa9 2015 Elsevier Ltd. All rights reserved.'}],\n",
       " u'author': [{u'affiliation': [], u'family': u'Duque', u'given': u'C.A.'},\n",
       "  {u'affiliation': [], u'family': u'Akimov', u'given': u'V.'},\n",
       "  {u'affiliation': [], u'family': u'Demediuk', u'given': u'R.'},\n",
       "  {u'affiliation': [], u'family': u'Belykh', u'given': u'V.'},\n",
       "  {u'affiliation': [], u'family': u'Tiutiunnyk', u'given': u'A.'},\n",
       "  {u'affiliation': [], u'family': u'Morales', u'given': u'A.L.'},\n",
       "  {u'affiliation': [], u'family': u'Restrepo', u'given': u'R.L.'},\n",
       "  {u'affiliation': [], u'family': u'Mora-Ramos', u'given': u'M.E.'},\n",
       "  {u'affiliation': [], u'family': u'Fomina', u'given': u'O.'},\n",
       "  {u'affiliation': [], u'family': u'Tulupenko', u'given': u'V.'}],\n",
       " 'autores': u'C.A. Duque <br/>\\nV. Akimov <br/>\\nR. Demediuk <br/>\\nV. Belykh <br/>\\nA. Tiutiunnyk <br/>\\nA.L. Morales <br/>\\nR.L. Restrepo <br/>\\nM.E. Mora-Ramos <br/>\\nO. Fomina <br/>\\nV. Tulupenko <br/>\\n',\n",
       " 'city': u'Amsterdam',\n",
       " u'container-title': u'Superlattices and Microstructures',\n",
       " 'country': u'Holanda',\n",
       " u'created': {u'date-parts': [[2015, 5, 30]],\n",
       "  u'date-time': u'2015-05-30T16:02:08Z',\n",
       "  u'timestamp': 1433001728000},\n",
       " 'date-day': '0,2',\n",
       " 'date-month': '0,2',\n",
       " 'date-year': '2,0,1,6',\n",
       " 'day': '',\n",
       " u'deposited': {u'date-parts': [[2015, 12, 1]],\n",
       "  u'date-time': u'2015-12-01T16:12:06Z',\n",
       "  u'timestamp': 1448986326000},\n",
       " 'fotocopia': '',\n",
       " 'indexacion': 'ISI, Scopus',\n",
       " u'indexed': {u'date-parts': [[2015, 12, 22]],\n",
       "  u'date-time': u'2015-12-22T17:32:13Z',\n",
       "  u'timestamp': 1450805533691},\n",
       " u'issued': {u'date-parts': [[2015, 11]]},\n",
       " 'language': u'Ingl\\xe9s',\n",
       " u'license': [{u'URL': u'http://www.elsevier.com/tdm/userlicense/1.0/',\n",
       "   u'content-version': u'tdm',\n",
       "   u'delay-in-days': 0,\n",
       "   u'start': {u'date-parts': [[2015, 11, 1]],\n",
       "    u'date-time': u'2015-11-01T00:00:00Z',\n",
       "    u'timestamp': 1446336000000}}],\n",
       " u'link': [{u'URL': u'http://api.elsevier.com/content/article/PII:S0749603615300185?httpAccept=text/xml',\n",
       "   u'content-type': u'text/xml',\n",
       "   u'content-version': u'vor',\n",
       "   u'intended-application': u'text-mining'},\n",
       "  {u'URL': u'http://api.elsevier.com/content/article/PII:S0749603615300185?httpAccept=text/plain',\n",
       "   u'content-type': u'text/plain',\n",
       "   u'content-version': u'vor',\n",
       "   u'intended-application': u'text-mining'}],\n",
       " u'member': u'http://id.crossref.org/member/78',\n",
       " 'month': '1,1',\n",
       " 'otro': '',\n",
       " u'page': u'125-130',\n",
       " 'pages': '5',\n",
       " u'prefix': u'http://id.crossref.org/prefix/10.1016',\n",
       " u'published-print': {u'date-parts': [[2015, 11]]},\n",
       " u'publisher': u'Elsevier BV',\n",
       " 'redirect': u'<a href=\"http://api.elsevier.com/content/article/PII:S0749603615300185?httpAccept=text/xml\">http://api.elsevier.com/content/article/PII:S0749603615300185?httpAccept=text/xml</a>',\n",
       " u'reference-count': 13,\n",
       " 'revista': '',\n",
       " u'score': 1.0,\n",
       " u'source': u'CrossRef',\n",
       " u'subject': [u'Electrical and Electronic Engineering',\n",
       "  u'Materials Science(all)',\n",
       "  u'Condensed Matter Physics'],\n",
       " u'subtitle': [],\n",
       " 'tiraje': '',\n",
       " u'title': u'Intersubband linear and nonlinear optical response of the delta-doped SiGe quantum well',\n",
       " u'type': u'journal-article',\n",
       " u'update-policy': u'http://dx.doi.org/10.1016/elsevier_cm_policy',\n",
       " u'volume': '8,7',\n",
       " 'year': '2,0,1,5'}"
      ]
     },
     "execution_count": 119,
     "metadata": {},
     "output_type": "execute_result"
    }
   ],
   "source": [
    "art.to_dict()"
   ]
  },
  {
   "cell_type": "code",
   "execution_count": 113,
   "metadata": {},
   "outputs": [],
   "source": [
    "if 'page' in art.keys():\n",
    "    pages=art['page'].split('-')\n",
    "    if len(pages)==2:\n",
    "        art['pages']=','.join(list(str( -eval(art['page']) ) ))\n",
    "        \n",
    "    if not 'article-number' in art.keys():\n",
    "        art['article-number']=','.join(list(str(pages[0])))"
   ]
  },
  {
   "cell_type": "code",
   "execution_count": 114,
   "metadata": {},
   "outputs": [
    {
     "data": {
      "text/plain": [
       "'5'"
      ]
     },
     "execution_count": 114,
     "metadata": {},
     "output_type": "execute_result"
    }
   ],
   "source": [
    "art['pages']"
   ]
  },
  {
   "cell_type": "code",
   "execution_count": 115,
   "metadata": {},
   "outputs": [
    {
     "data": {
      "text/plain": [
       "'1,2,5'"
      ]
     },
     "execution_count": 115,
     "metadata": {},
     "output_type": "execute_result"
    }
   ],
   "source": [
    "art['article-number']"
   ]
  },
  {
   "cell_type": "code",
   "execution_count": 36,
   "metadata": {},
   "outputs": [
    {
     "name": "stdout",
     "output_type": "stream",
     "text": [
      "Copy the next table and paste into the Copy sheet of:\n",
      "               <a href=\"https://goo.gl/WnSY7M\">\"Formato revista\"</a>,<br/>\n",
      "               and fill the empy fields in that Copy sheet.<br/>\n",
      "               Fill (or fix) for ISSN Colciencias, journal country, city and language at: \n",
      "               <a href=\"https://goo.gl/5nfX7c\">https://goo.gl/5nfX7c</a><br/><table border=\"1\"><tr><td><strong>Título del artículo</strong></td><td> Fermion dark matter from SO(10) GUTs </td></tr>\n",
      "<tr><td><strong>Nombre de la revista</strong></td><td> Physical Review D </td></tr>\n",
      "<tr><td><strong>DOI</strong></td><td> 10.1103/physrevd.93.013012 </td></tr>\n",
      "<tr><td><strong>Institución que publica</strong></td><td> American Physical Society (APS) </td></tr>\n",
      "<tr><td><strong>País</strong></td><td> Estados Unidos </td></tr>\n",
      "<tr><td><strong>Ciudad</strong></td><td> Nueva York </td></tr>\n",
      "<tr><td><strong>ISSN Colciencias</strong></td><td> 1550-7998 </td></tr>\n",
      "<tr><td><strong>Idioma</strong></td><td>  </td></tr>\n",
      "<tr><td><strong>Año</strong></td><td> 2,0,1,6 </td></tr>\n",
      "<tr><td><strong>Mes</strong></td><td> 1 </td></tr>\n",
      "<tr><td><strong>Día</strong></td><td> 1,3 </td></tr>\n",
      "<tr><td><strong>Volumen</strong></td><td> 9,3 </td></tr>\n",
      "<tr><td><strong>Número</strong></td><td> 0,1,3,0,1,2 </td></tr>\n",
      "<tr><td><strong>Nro páginas</strong></td><td>  </td></tr>\n",
      "<tr><td><strong>Tiraje</strong></td><td>  </td></tr>\n",
      "<tr><td><strong>Revista</strong></td><td>  </td></tr>\n",
      "<tr><td><strong>Fotocopia</strong></td><td>  </td></tr>\n",
      "<tr><td><strong>Otro</strong></td><td>  </td></tr>\n",
      "<tr><td><strong>Fecha presentación: Año</strong></td><td> 2,0,1,6 </td></tr>\n",
      "<tr><td><strong>Fecha presentación: Mes</strong></td><td> 0,2 </td></tr>\n",
      "<tr><td><strong>Fecha presentación: Día</strong></td><td> 0,7 </td></tr>\n",
      "<tr><td><strong>Autores</strong></td><td> Carolina Arbeláez <br/>\n",
      "Robinson Longas <br/>\n",
      "Diego Restrepo <br/>\n",
      "Oscar Zapata <br/>\n",
      " </td></tr>\n",
      "<tr><td><strong>Clasificación Colciencias</strong></td><td> A1 </td></tr>\n",
      "<tr><td><strong>ISSN</strong></td><td> [u'2470-0010', u'2470-0029'] </td></tr>\n",
      "<tr><td><strong>URL</strong></td><td> <a href=\"http://link.aps.org/article/10.1103/PhysRevD.93.013012\">http://link.aps.org/article/10.1103/PhysRevD.93.013012</a> </td></tr>\n",
      "</table>\n",
      "<br/>xml output at http://gfif.udea.edu.co/python/revista.xml <br/>\n",
      "<br/>Jason output at http://gfif.udea.edu.co/python/revista.json <br/>\n",
      "<br/><br/>Code at <a href=\"https://github.com/restrepo/webpy\">Github</a></br>\n"
     ]
    }
   ],
   "source": [
    "run revista.py '10.1103/PhysRevD.93.013012'"
   ]
  },
  {
   "cell_type": "code",
   "execution_count": 32,
   "metadata": {},
   "outputs": [],
   "source": [
    "A=get_doi('10.1103/PhysRevD.93.013012')"
   ]
  },
  {
   "cell_type": "code",
   "execution_count": 44,
   "metadata": {},
   "outputs": [],
   "source": [
    "B=get_doi('10.1103/PhysRevD.93.013012',crossref=True)"
   ]
  },
  {
   "cell_type": "code",
   "execution_count": 35,
   "metadata": {},
   "outputs": [
    {
     "name": "stdout",
     "output_type": "stream",
     "text": [
      "[u'DOI', u'subtitle', u'issued', u'prefix', u'author', u'reference-count', u'ISSN', u'member', u'source', u'score', u'deposited', u'indexed', u'type', u'published-online', u'URL', u'volume', u'link', u'publisher', u'license', u'created', u'issue', u'title', u'container-title', u'funder', u'article-number']\n"
     ]
    }
   ],
   "source": [
    "print A.keys()"
   ]
  },
  {
   "cell_type": "code",
   "execution_count": 47,
   "metadata": {},
   "outputs": [
    {
     "name": "stdout",
     "output_type": "stream",
     "text": [
      "[u'DOI', u'subtitle', u'issued', u'prefix', u'author', u'reference-count', u'ISSN', u'member', u'source', u'score', u'deposited', u'indexed', u'type', u'published-online', u'URL', u'volume', u'link', u'publisher', u'license', u'created', u'issue', u'title', u'container-title', u'funder', u'article-number']\n"
     ]
    }
   ],
   "source": [
    "print B.keys()"
   ]
  },
  {
   "cell_type": "code",
   "execution_count": 40,
   "metadata": {},
   "outputs": [
    {
     "name": "stdout",
     "output_type": "stream",
     "text": [
      "[u'status', u'message-version', u'message', u'message-type']\n"
     ]
    }
   ],
   "source": [
    "print B.keys()"
   ]
  },
  {
   "cell_type": "code",
   "execution_count": 43,
   "metadata": {},
   "outputs": [
    {
     "data": {
      "text/plain": [
       "u'work'"
      ]
     },
     "execution_count": 43,
     "metadata": {},
     "output_type": "execute_result"
    }
   ],
   "source": [
    "B['message-type']"
   ]
  },
  {
   "cell_type": "code",
   "execution_count": 88,
   "metadata": {},
   "outputs": [
    {
     "name": "stdout",
     "output_type": "stream",
     "text": [
      "<?xml version=\"1.0\" encoding=\"UTF-8\"?>\n",
      "<?xml-stylesheet type=\"text/xsl\" media=\"screen\" href=\"/~d/styles/atom10full.xsl\"?><?xml-stylesheet type=\"text/css\" media=\"screen\" href=\"http://feeds.feedburner.com/~d/styles/itemcontent.css\"?>\n",
      "<feed xmlns=\"http://www.w3.org/2005/Atom\" xmlns:openSearch=\"http://a9.com/-/spec/opensearchrss/1.0/\" xmlns:blogger=\"http://schemas.google.com/blogger/2008\" xmlns:georss=\"http://www.georss.org/georss\" xmlns:gd=\"http://schemas.google.com/g/2005\" xmlns:thr=\"http://purl.org/syndication/thread/1.0\" xmlns:feedburner=\"http://rssnamespace.org/feedburner/ext/1.0\">\n",
      "<entry>\n",
      "<title type=\"text\">Título del artículo</title><published>Fermion dark matter from SO(10) GUTs</published></entry>\n",
      "<entry>\n",
      "<title type=\"text\">Nombre de la revista</title><published>Physical Review D</published></entry>\n",
      "<entry>\n",
      "<title type=\"text\">DOI</title><published>10.1103/physrevd.93.013012</published></entry>\n",
      "<entry>\n",
      "<title type=\"text\">Institución que publica</title><published>American Physical Society (APS)</published></entry>\n",
      "<entry>\n",
      "<title type=\"text\">País</title><published>Estados Unidos</published></entry>\n",
      "<entry>\n",
      "<title type=\"text\">Ciudad</title><published>Nueva York</published></entry>\n",
      "<entry>\n",
      "<title type=\"text\">ISSN Colciencias</title><published>1550-7998</published></entry>\n",
      "<entry>\n",
      "<title type=\"text\">Idioma</title><published>Inglés</published></entry>\n",
      "<entry>\n",
      "<title type=\"text\">Año</title><published>2,0,1,6</published></entry>\n",
      "<entry>\n",
      "<title type=\"text\">Mes</title><published>1</published></entry>\n",
      "<entry>\n",
      "<title type=\"text\">Día</title><published>1,3</published></entry>\n",
      "<entry>\n",
      "<title type=\"text\">Volumen</title><published>9,3</published></entry>\n",
      "<entry>\n",
      "<title type=\"text\">Número</title><published>0,1,3,0,1,2</published></entry>\n",
      "<entry>\n",
      "<title type=\"text\">Nro páginas</title><published></published></entry>\n",
      "<entry>\n",
      "<title type=\"text\">Tiraje</title><published></published></entry>\n",
      "<entry>\n",
      "<title type=\"text\">Revista</title><published></published></entry>\n",
      "<entry>\n",
      "<title type=\"text\">Fotocopia</title><published></published></entry>\n",
      "<entry>\n",
      "<title type=\"text\">Otro</title><published></published></entry>\n",
      "<entry>\n",
      "<title type=\"text\">Fecha presentación: Año</title><published>2,0,1,6</published></entry>\n",
      "<entry>\n",
      "<title type=\"text\">Fecha presentación: Mes</title><published>0,2</published></entry>\n",
      "<entry>\n",
      "<title type=\"text\">Fecha presentación: Día</title><published>0,2</published></entry>\n",
      "<entry>\n",
      "<title type=\"text\">Autores</title><published>Carolina Arbeláez <br/>\n",
      "Robinson Longas <br/>\n",
      "Diego Restrepo <br/>\n",
      "Oscar Zapata <br/>\n",
      "</published></entry>\n",
      "<entry>\n",
      "<title type=\"text\">Clasificación Colciencias</title><published>A1</published></entry>\n",
      "<entry>\n",
      "<title type=\"text\">ISSN</title><published>[u'2470-0010', u'2470-0029']</published></entry>\n",
      "<entry>\n",
      "<title type=\"text\">URL</title><published><a href=\"http://link.aps.org/article/10.1103/PhysRevD.93.013012\">http://link.aps.org/article/10.1103/PhysRevD.93.013012</a></published></entry>\n",
      "</feed>\n",
      "\n"
     ]
    }
   ],
   "source": [
    "print ro"
   ]
  },
  {
   "cell_type": "code",
   "execution_count": 52,
   "metadata": {
    "collapsed": true
   },
   "outputs": [],
   "source": [
    "art['container-title']='European Physical Journal C'"
   ]
  },
  {
   "cell_type": "code",
   "execution_count": 53,
   "metadata": {
    "collapsed": true
   },
   "outputs": [],
   "source": [
    "publindex=read_google_cvs(gss_key='1sAN9w7QYxmONArmhfWMOFoebmGKf1qnkKdHy4OAsjD0',gss_query='select+*')\n",
    "art['ISSN_colciencias']=publindex[publindex.TITULO==art['container-title']].ISSN.values[0]\n",
    "art['ISSN_type']=publindex[publindex.TITULO==art['container-title']]['CATEGORIA'].values[0]\n",
    "art['country']=publindex[publindex.TITULO==art['container-title']]['country'].values[0]\n",
    "art['city']=publindex[publindex.TITULO==art['container-title']]['city'].values[0]\n",
    "art['language']=publindex[publindex.TITULO==art['container-title']]['language'].values[0].decode('utf-8')"
   ]
  },
  {
   "cell_type": "code",
   "execution_count": 55,
   "metadata": {},
   "outputs": [],
   "source": [
    "aa=art.language"
   ]
  },
  {
   "cell_type": "code",
   "execution_count": 58,
   "metadata": {},
   "outputs": [
    {
     "name": "stdout",
     "output_type": "stream",
     "text": [
      "Inglés\n"
     ]
    }
   ],
   "source": [
    "print aa.decode('utf-8')"
   ]
  },
  {
   "cell_type": "code",
   "execution_count": 59,
   "metadata": {},
   "outputs": [
    {
     "name": "stdout",
     "output_type": "stream",
     "text": [
      "Inglés\n"
     ]
    }
   ],
   "source": [
    "print aa"
   ]
  },
  {
   "cell_type": "code",
   "execution_count": 65,
   "metadata": {
    "collapsed": true
   },
   "outputs": [],
   "source": [
    "import time"
   ]
  },
  {
   "cell_type": "code",
   "execution_count": 71,
   "metadata": {},
   "outputs": [],
   "source": []
  },
  {
   "cell_type": "code",
   "execution_count": 72,
   "metadata": {},
   "outputs": [
    {
     "name": "stdout",
     "output_type": "stream",
     "text": [
      "2016 2 2\n"
     ]
    }
   ],
   "source": []
  },
  {
   "cell_type": "code",
   "execution_count": 73,
   "metadata": {},
   "outputs": [
    {
     "data": {
      "text/plain": [
       "time.struct_time(tm_year=2016, tm_mon=2, tm_mday=2, tm_hour=2, tm_min=18, tm_sec=56, tm_wday=1, tm_yday=33, tm_isdst=0)"
      ]
     },
     "execution_count": 73,
     "metadata": {},
     "output_type": "execute_result"
    }
   ],
   "source": [
    "tl"
   ]
  },
  {
   "cell_type": "code",
   "execution_count": 75,
   "metadata": {},
   "outputs": [],
   "source": [
    "if tl.tm_mon<10:\n",
    "    month='0'+str(tl.tm_mon)"
   ]
  },
  {
   "cell_type": "code",
   "execution_count": 76,
   "metadata": {},
   "outputs": [
    {
     "data": {
      "text/plain": [
       "'02'"
      ]
     },
     "execution_count": 76,
     "metadata": {},
     "output_type": "execute_result"
    }
   ],
   "source": [
    "month"
   ]
  },
  {
   "cell_type": "code",
   "execution_count": 122,
   "metadata": {},
   "outputs": [
    {
     "data": {
      "text/plain": [
       "dict"
      ]
     },
     "execution_count": 122,
     "metadata": {},
     "output_type": "execute_result"
    }
   ],
   "source": [
    "type(r.json())"
   ]
  },
  {
   "cell_type": "code",
   "execution_count": null,
   "metadata": {
    "collapsed": true
   },
   "outputs": [],
   "source": [
    "import jason"
   ]
  },
  {
   "cell_type": "code",
   "execution_count": 7,
   "metadata": {
    "collapsed": true
   },
   "outputs": [],
   "source": [
    "r=requests.get('http://api.crossref.org/works/10.1037/0003-066X.59.1.29')"
   ]
  },
  {
   "cell_type": "code",
   "execution_count": 6,
   "metadata": {},
   "outputs": [
    {
     "data": {
      "text/plain": [
       "{u'message': {u'DOI': u'10.1037/0003-066x.59.1.29',\n",
       "  u'ISSN': [u'1935-990X', u'0003-066X'],\n",
       "  u'URL': u'http://dx.doi.org/10.1037/0003-066x.59.1.29',\n",
       "  u'alternative-id': [u'2004-10043-004'],\n",
       "  u'author': [{u'affiliation': [], u'family': u'Ray', u'given': u'Oakley'}],\n",
       "  u'container-title': [u'American Psychologist'],\n",
       "  u'created': {u'date-parts': [[2004, 1, 21]],\n",
       "   u'date-time': u'2004-01-21T14:31:19Z',\n",
       "   u'timestamp': 1074695479000},\n",
       "  u'deposited': {u'date-parts': [[2011, 8, 21]],\n",
       "   u'date-time': u'2011-08-21T11:01:40Z',\n",
       "   u'timestamp': 1313924500000},\n",
       "  u'indexed': {u'date-parts': [[2015, 12, 27]],\n",
       "   u'date-time': u'2015-12-27T00:40:15Z',\n",
       "   u'timestamp': 1451176815789},\n",
       "  u'issue': u'1',\n",
       "  u'issued': {u'date-parts': [[2004]]},\n",
       "  u'member': u'http://id.crossref.org/member/15',\n",
       "  u'page': u'29-40',\n",
       "  u'prefix': u'http://id.crossref.org/prefix/10.1037',\n",
       "  u'published-print': {u'date-parts': [[2004]]},\n",
       "  u'publisher': u'American Psychological Association (APA)',\n",
       "  u'reference-count': 105,\n",
       "  u'score': 1.0,\n",
       "  u'source': u'CrossRef',\n",
       "  u'subject': [u'Psychology(all)'],\n",
       "  u'subtitle': [],\n",
       "  u'title': [u'How the Mind Hurts and Heals the Body.'],\n",
       "  u'type': u'journal-article',\n",
       "  u'volume': u'59'},\n",
       " u'message-type': u'work',\n",
       " u'message-version': u'1.0.0',\n",
       " u'status': u'ok'}"
      ]
     },
     "execution_count": 6,
     "metadata": {},
     "output_type": "execute_result"
    }
   ],
   "source": [
    "r.json()"
   ]
  },
  {
   "cell_type": "code",
   "execution_count": 142,
   "metadata": {},
   "outputs": [],
   "source": [
    "def citedby(doi='10.1007/JHEP11(2013)011'):\n",
    "    import time\n",
    "    import requests\n",
    "    urldoi='http://dx.doi.org/'\n",
    "    doi=doi.replace(urldoi,'')\n",
    "    r=requests.get('https://scholar.google.com/scholar?q=%s' %urldoi+doi)\n",
    "    time.sleep(2)\n",
    "    sep='\">Cited by'\n",
    "    if r.text.find(sep)!=-1:\n",
    "        rr=r.text.split(sep)\n",
    "        return {'number':rr[1].split('</a>')[0],\\\n",
    "                 'url':'https://scholar.google.com%s' %rr[0].split('<a href=\"')[-1]}\n",
    "    else:\n",
    "        return {}"
   ]
  },
  {
   "cell_type": "code",
   "execution_count": 135,
   "metadata": {},
   "outputs": [
    {
     "data": {
      "text/plain": [
       "{'number': u' 22',\n",
       " 'url': u'https://scholar.google.com/scholar?cites=6285601477586304549&amp;as_sdt=2005&amp;sciodt=0,5&amp;hl=en&amp;oe=ASCII'}"
      ]
     },
     "execution_count": 135,
     "metadata": {},
     "output_type": "execute_result"
    }
   ],
   "source": [
    "citedby()"
   ]
  },
  {
   "cell_type": "code",
   "execution_count": 138,
   "metadata": {},
   "outputs": [
    {
     "data": {
      "text/plain": [
       "{}"
      ]
     },
     "execution_count": 138,
     "metadata": {},
     "output_type": "execute_result"
    }
   ],
   "source": [
    "citedby('10.1103/PhysRevD.93.015012')"
   ]
  },
  {
   "cell_type": "code",
   "execution_count": 143,
   "metadata": {},
   "outputs": [
    {
     "data": {
      "text/plain": [
       "{'number': u' 9',\n",
       " 'url': u'https://scholar.google.com/scholar?cites=16813189100786413419&amp;as_sdt=2005&amp;sciodt=0,5&amp;hl=en&amp;oe=ASCII'}"
      ]
     },
     "execution_count": 143,
     "metadata": {},
     "output_type": "execute_result"
    }
   ],
   "source": [
    "citedby('http://dx.doi.org/10.1103/PhysRevD.92.013005')"
   ]
  },
  {
   "cell_type": "code",
   "execution_count": 127,
   "metadata": {},
   "outputs": [],
   "source": [
    "if 1==1:\n",
    "    \n",
    "    #url=rr[0].split('<a href=\"')[1]\n",
    "    number"
   ]
  },
  {
   "cell_type": "code",
   "execution_count": 140,
   "metadata": {
    "collapsed": true
   },
   "outputs": [],
   "source": [
    "urldoi='http://dx.doi.org/'"
   ]
  },
  {
   "cell_type": "code",
   "execution_count": 141,
   "metadata": {},
   "outputs": [
    {
     "data": {
      "text/plain": [
       "'10.1007/JHEP11(2013)011'"
      ]
     },
     "execution_count": 141,
     "metadata": {},
     "output_type": "execute_result"
    }
   ],
   "source": [
    "doi.replace(urldoi,'')"
   ]
  },
  {
   "cell_type": "code",
   "execution_count": 131,
   "metadata": {},
   "outputs": [
    {
     "data": {
      "text/plain": [
       "u'https://scholar.google.com/scholar?cites=6285601477586304549&amp;as_sdt=2005&amp;sciodt=0,5&amp;hl=en&amp;oe=ASCII'"
      ]
     },
     "execution_count": 131,
     "metadata": {},
     "output_type": "execute_result"
    }
   ],
   "source": [
    "'https://scholar.google.com%s' %rr[0].split('<a href=\"')[-1]"
   ]
  },
  {
   "cell_type": "code",
   "execution_count": 117,
   "metadata": {},
   "outputs": [
    {
     "data": {
      "text/plain": [
       "33.333333333333336"
      ]
     },
     "execution_count": 117,
     "metadata": {},
     "output_type": "execute_result"
    }
   ],
   "source": [
    "2000/60."
   ]
  },
  {
   "cell_type": "code",
   "execution_count": 144,
   "metadata": {
    "collapsed": true
   },
   "outputs": [],
   "source": [
    "mkdir article"
   ]
  },
  {
   "cell_type": "code",
   "execution_count": null,
   "metadata": {
    "collapsed": true
   },
   "outputs": [],
   "source": []
  },
  {
   "cell_type": "code",
   "execution_count": 153,
   "metadata": {},
   "outputs": [
    {
     "name": "stdout",
     "output_type": "stream",
     "text": [
      "9\n",
      "<bound method DataFrame.to_string of   affiliation          family   given\n",
      "0          []        Restrepo   Diego\n",
      "1          []          Rivera  Andrés\n",
      "2          []  Sánchez-Peláez   Marta\n",
      "3          []          Zapata   Oscar\n",
      "4          []       Tangarife  Walter>\n"
     ]
    }
   ],
   "source": [
    "run article/article.py"
   ]
  },
  {
   "cell_type": "code",
   "execution_count": 179,
   "metadata": {
    "collapsed": true
   },
   "outputs": [],
   "source": [
    "q=requests.get('http://dx.doi.org/10.1103/PhysRevD.92.013005',\\\n",
    "                       headers ={'Accept': 'application/citeproc+json'})"
   ]
  },
  {
   "cell_type": "code",
   "execution_count": 181,
   "metadata": {},
   "outputs": [
    {
     "data": {
      "text/plain": [
       "404"
      ]
     },
     "execution_count": 181,
     "metadata": {},
     "output_type": "execute_result"
    }
   ],
   "source": [
    "r.status_code"
   ]
  },
  {
   "cell_type": "code",
   "execution_count": 178,
   "metadata": {},
   "outputs": [
    {
     "data": {
      "text/plain": [
       "<bound method Response.json of <Response [404]>>"
      ]
     },
     "execution_count": 178,
     "metadata": {},
     "output_type": "execute_result"
    }
   ],
   "source": [
    "r.json"
   ]
  },
  {
   "cell_type": "code",
   "execution_count": 182,
   "metadata": {},
   "outputs": [
    {
     "data": {
      "text/plain": [
       "200"
      ]
     },
     "execution_count": 182,
     "metadata": {},
     "output_type": "execute_result"
    }
   ],
   "source": [
    "q.status_codefor k in a.json.keys():\n",
    "    if type(a.json[k])==dict:\n",
    "        a.json[k]=pd.Series(a.json[k])\n",
    "        a.json[k]=keysdash2underscore(a.json[k])"
   ]
  },
  {
   "cell_type": "code",
   "execution_count": 134,
   "metadata": {},
   "outputs": [],
   "source": []
  },
  {
   "cell_type": "code",
   "execution_count": 52,
   "metadata": {},
   "outputs": [
    {
     "data": {
      "text/plain": [
       "Series([], dtype: float64)"
      ]
     },
     "execution_count": 52,
     "metadata": {},
     "output_type": "execute_result"
    }
   ],
   "source": [
    "a.citedby"
   ]
  },
  {
   "cell_type": "code",
   "execution_count": 8,
   "metadata": {},
   "outputs": [
    {
     "data": {
      "text/plain": [
       "u'https://scholar.google.com/scholar?cites=16813189100786413419&amp;as_sdt=2005&amp;sciodt=0,5&amp;hl=en&amp;oe=ASCII'"
      ]
     },
     "execution_count": 8,
     "metadata": {},
     "output_type": "execute_result"
    }
   ],
   "source": [
    "a.citedby.url"
   ]
  },
  {
   "cell_type": "code",
   "execution_count": 129,
   "metadata": {},
   "outputs": [
    {
     "data": {
      "text/plain": [
       "Index([u'DOI', u'ISSN', u'URL', u'article-number', u'author', u'container-title', u'created', u'deposited', u'funder', u'indexed', u'issue', u'issued', u'license', u'link', u'member', u'prefix', u'published-online', u'publisher', u'reference-count', u'score', u'source', u'subject', u'subtitle', u'title', u'type', u'volume', u'article_number', u'container_title', u'published_online', u'reference_count'], dtype='object')"
      ]
     },
     "execution_count": 129,
     "metadata": {},
     "output_type": "execute_result"
    }
   ],
   "source": [
    "a.json.keys()"
   ]
  },
  {
   "cell_type": "code",
   "execution_count": 135,
   "metadata": {},
   "outputs": [
    {
     "data": {
      "text/plain": [
       "u'Nuclear and High Energy Physics'"
      ]
     },
     "execution_count": 135,
     "metadata": {},
     "output_type": "execute_result"
    }
   ],
   "source": [
    "a.json.subject"
   ]
  },
  {
   "cell_type": "code",
   "execution_count": 136,
   "metadata": {},
   "outputs": [
    {
     "data": {
      "text/html": [
       "<div style=\"max-height:1000px;max-width:1500px;overflow:auto;\">\n",
       "<table border=\"1\" class=\"dataframe\">\n",
       "  <thead>\n",
       "    <tr style=\"text-align: right;\">\n",
       "      <th></th>\n",
       "      <th>URL</th>\n",
       "      <th>content-type</th>\n",
       "      <th>content-version</th>\n",
       "      <th>intended-application</th>\n",
       "    </tr>\n",
       "  </thead>\n",
       "  <tbody>\n",
       "    <tr>\n",
       "      <th>0</th>\n",
       "      <td> http://link.aps.org/article/10.1103/PhysRevD.92.013005</td>\n",
       "      <td> unspecified</td>\n",
       "      <td> vor</td>\n",
       "      <td> syndication</td>\n",
       "    </tr>\n",
       "  </tbody>\n",
       "</table>\n",
       "</div>"
      ],
      "text/plain": [
       "                                                      URL content-type  \\\n",
       "0  http://link.aps.org/article/10.1103/PhysRevD.92.013005  unspecified   \n",
       "\n",
       "  content-version intended-application  \n",
       "0             vor          syndication  "
      ]
     },
     "execution_count": 136,
     "metadata": {},
     "output_type": "execute_result"
    }
   ],
   "source": [
    "pd.DataFrame(a.json.link)"
   ]
  },
  {
   "cell_type": "code",
   "execution_count": 137,
   "metadata": {},
   "outputs": [
    {
     "data": {
      "text/html": [
       "<div style=\"max-height:1000px;max-width:1500px;overflow:auto;\">\n",
       "<table border=\"1\" class=\"dataframe\">\n",
       "  <thead>\n",
       "    <tr style=\"text-align: right;\">\n",
       "      <th></th>\n",
       "      <th>DOI</th>\n",
       "      <th>award</th>\n",
       "      <th>doi-asserted-by</th>\n",
       "      <th>name</th>\n",
       "    </tr>\n",
       "  </thead>\n",
       "  <tbody>\n",
       "    <tr>\n",
       "      <th>0</th>\n",
       "      <td> 10.13039/501100001742</td>\n",
       "      <td>                        [2012383]</td>\n",
       "      <td> publisher</td>\n",
       "      <td>              United States-Israel Binational Science Foundation</td>\n",
       "    </tr>\n",
       "    <tr>\n",
       "      <th>1</th>\n",
       "      <td> 10.13039/501100003977</td>\n",
       "      <td>                               []</td>\n",
       "      <td> publisher</td>\n",
       "      <td>                                       Israel Science Foundation</td>\n",
       "    </tr>\n",
       "    <tr>\n",
       "      <th>2</th>\n",
       "      <td>    10.13039/100007637</td>\n",
       "      <td> [111-565-842691, 111-556-934918]</td>\n",
       "      <td> publisher</td>\n",
       "      <td> Departamento Administrativo de Ciencia, Tecnología e Innovación</td>\n",
       "    </tr>\n",
       "  </tbody>\n",
       "</table>\n",
       "</div>"
      ],
      "text/plain": [
       "                     DOI                             award doi-asserted-by  \\\n",
       "0  10.13039/501100001742                         [2012383]       publisher   \n",
       "1  10.13039/501100003977                                []       publisher   \n",
       "2     10.13039/100007637  [111-565-842691, 111-556-934918]       publisher   \n",
       "\n",
       "                                                              name  \n",
       "0               United States-Israel Binational Science Foundation  \n",
       "1                                        Israel Science Foundation  \n",
       "2  Departamento Administrativo de Ciencia, Tecnología e Innovación  "
      ]
     },
     "execution_count": 137,
     "metadata": {},
     "output_type": "execute_result"
    }
   ],
   "source": [
    "a.json.funder"
   ]
  },
  {
   "cell_type": "code",
   "execution_count": 143,
   "metadata": {},
   "outputs": [
    {
     "data": {
      "text/plain": [
       "u'Restrepo'"
      ]
     },
     "execution_count": 143,
     "metadata": {},
     "output_type": "execute_result"
    }
   ],
   "source": [
    "a.json.author.ix[0].family"
   ]
  },
  {
   "cell_type": "code",
   "execution_count": 151,
   "metadata": {},
   "outputs": [
    {
     "data": {
      "text/plain": [
       "<bound method DataFrame.to_string of   affiliation          family   given\n",
       "0          []        Restrepo   Diego\n",
       "1          []          Rivera  Andrés\n",
       "2          []  Sánchez-Peláez   Marta\n",
       "3          []          Zapata   Oscar\n",
       "4          []       Tangarife  Walter>"
      ]
     },
     "execution_count": 151,
     "metadata": {},
     "output_type": "execute_result"
    }
   ],
   "source": [
    "a.json.author.to_string"
   ]
  },
  {
   "cell_type": "code",
   "execution_count": 41,
   "metadata": {},
   "outputs": [
    {
     "data": {
      "text/plain": [
       "date-parts          [[2015, 7, 9]]\n",
       "date-time     2015-07-09T17:51:16Z\n",
       "timestamp            1436464276000\n",
       "date_parts          [[2015, 7, 9]]\n",
       "date_time     2015-07-09T17:51:16Z\n",
       "dtype: object"
      ]
     },
     "execution_count": 41,
     "metadata": {},
     "output_type": "execute_result"
    }
   ],
   "source": [
    "e"
   ]
  },
  {
   "cell_type": "code",
   "execution_count": 32,
   "metadata": {
    "collapsed": true
   },
   "outputs": [],
   "source": [
    "if 1==1:\n",
    "    dfk=pd.DataFrame(d.keys(),columns=['keys'])\n",
    "    for k in dfk[dfk['keys'].str.contains('[A-Za-z]+-[A-Za-z]')].values:\n",
    "        d[k[0].replace('-','_')]=d[k[0]]"
   ]
  },
  {
   "cell_type": "code",
   "execution_count": 33,
   "metadata": {},
   "outputs": [
    {
     "data": {
      "text/plain": [
       "date-parts          [[2015, 7, 9]]\n",
       "date-time     2015-07-09T17:51:16Z\n",
       "timestamp            1436464276000\n",
       "date_parts          [[2015, 7, 9]]\n",
       "date_time     2015-07-09T17:51:16Z\n",
       "dtype: object"
      ]
     },
     "execution_count": 33,
     "metadata": {},
     "output_type": "execute_result"
    }
   ],
   "source": [
    "d"
   ]
  },
  {
   "cell_type": "code",
   "execution_count": 37,
   "metadata": {
    "collapsed": true
   },
   "outputs": [],
   "source": [
    "def keysdash2underscore(d):\n",
    "    '''\n",
    "    Convert keys with dash  to keys with underscore\n",
    "    '''\n",
    "    dfk=pd.DataFrame(d.keys(),columns=['keys'])\n",
    "    for k in dfk[dfk['keys'].str.contains('[A-Za-z]+-[A-Za-z]')].values:\n",
    "        d[k[0].replace('-','_')]=d[k[0]]\n",
    "        \n",
    "    return d"
   ]
  },
  {
   "cell_type": "code",
   "execution_count": 42,
   "metadata": {},
   "outputs": [
    {
     "data": {
      "text/plain": [
       "date-parts          [[2015, 7, 9]]\n",
       "date-time     2015-07-09T17:51:16Z\n",
       "timestamp            1436464276000\n",
       "date_parts          [[2015, 7, 9]]\n",
       "date_time     2015-07-09T17:51:16Z\n",
       "dtype: object"
      ]
     },
     "execution_count": 42,
     "metadata": {},
     "output_type": "execute_result"
    }
   ],
   "source": [
    "keysdash2underscore(e)"
   ]
  },
  {
   "cell_type": "code",
   "execution_count": 200,
   "metadata": {
    "collapsed": true
   },
   "outputs": [],
   "source": [
    "import requests\n",
    "issn='1539-3755'\n",
    "q='site:www.bioxbio.com/if/ %s' %issn\n",
    "\n",
    "r=requests.get('https://www.google.com.co/search?q=%s' %q)"
   ]
  },
  {
   "cell_type": "code",
   "execution_count": 201,
   "metadata": {},
   "outputs": [
    {
     "data": {
      "text/plain": [
       "u'<!doctype html><html itemscope=\"\" itemtype=\"http://schema.org/SearchResultsPage\" lang=\"es-419\"><head><meta content=\"text/html; charset=UTF-8\" http-equiv=\"Content-Type\"><meta content=\"/images/branding/googleg/1x/googleg_standard_color_128dp.png\" itemprop=\"image\"><link href=\"/images/branding/product/ico/googleg_lodp.ico\" rel=\"shortcut icon\"><title>site:www.bioxbio.com/if/ 1539-3755 - Buscar con Google</title><style>#gbar,#guser{font-size:13px;padding-top:1px !important;}#gbar{height:22px}#guser{padding-bottom:7px !important;text-align:right}.gbh,.gbd{border-top:1px solid #c9d7f1;font-size:1px}.gbh{height:0;position:absolute;top:24px;width:100%}@media all{.gb1{height:22px;margin-right:.5em;vertical-align:top}#gbar{float:left}}a.gb1,a.gb4{text-decoration:underline !important}a.gb1,a.gb4{color:#00c !important}.gbi .gb4{color:#dd8e27 !important}.gbf .gb4{color:#900 !important} </style><style>.star{float:left;margin-top:1px;overflow:hidden}._yhd{font-size:11px}.j{width:34em}body,td,div,.p,a{font-family:arial,sans-serif;tap-highlight-color:rgba(255,255,255,0)}body{margin:0}a img{border:0}#gbar{float:left;height:22px;padding-left:2px;font-size:13px}.gsfi,.gsfs{font-size:17px}.w,.q:active,.q:visited,.tbotu{color:#11c}a.gl{text-decoration:none}._Umd a:link{color:#0E1CB3}#foot{padding:0 8px}#foot a{white-space:nowrap}h3{font-size:16px;font-weight:normal;margin:0;padding:0}#res h3{display:inline}.hd{height:1px;position:absolute;top:-1000em}.g,body,html,table,.std{font-size:13px}.g{margin-bottom:23px;margin-top:0;zoom:1}ol li,ul li{list-style:none}h1,ol,ul,li{margin:0;padding:0}#mbEnd h2{font-weight:normal}.e{margin:2px 0 0.75em}#leftnav a{text-decoration:none}#leftnav h2{color:#767676;font-weight:normal;margin:0}#nav{border-collapse:collapse;margin-top:17px;text-align:left}#nav td{text-align:center}.nobr{white-space:nowrap}.ts{border-collapse:collapse}.s br{display:none}.csb{display:block;height:40px}.images_table td{line-height:17px;padding-bottom:16px}.images_table img{border:1px solid #ccc;padding:1px}#tbd,#abd{display:block;min-height:1px}#abd{padding-top:3px}#tbd li{display:inline}._ITd,._JTd{margin-bottom:8px}#tbd .tbt li{display:block;font-size:13px;line-height:1.2;padding-bottom:3px;padding-left:8px;text-indent:-8px}.tbos,.b{font-weight:bold}em{font-weight:bold;font-style:normal}.mime{color:#1a0dab;font-weight:bold;font-size:x-small}._lwd{right:-2px !important;overflow:hidden}.soc a{text-decoration:none}.soc{color:#808080}._AC a{text-decoration:none}._AC{color:#808080}._kgd{color:#e7711b}#_vBb{border:1px solid #e0e0e0;margin-left:-8px;margin-right:-8px;padding:15px 20px 5px}._m3b{font-size:32px}._eGc{color:#777;font-size:16px;margin-top:5px}._H0d{color:#777;font-size:14px;margin-top:5px}._HLh{border:1px solid #e0e0e0;padding-left:20px}._Tki{border:1px solid #e0e0e0;padding:5px 20px}#vob{border:1px solid #e0e0e0;padding:15px 15px}#_Nyc{font-size:22px;line-height:22px;padding-bottom:5px}#vob_st{line-height:1.24}._Tsb{border-width:1px;border-style:solid;border-color:#eee;background-color:#fff;position:relative;margin-bottom:26px}._Peb,._Qeb,._Usb{font-family:Arial;font-weight:lighter}._Peb{margin-bottom:5px}._Peb{font-size:xx-large}._Qeb{font-size:medium}._Usb{font-size:small}._Tsb{margin-left:-8px;margin-right:-15px;padding:20px 20px 24px}._rOc{border-spacing:0px 2px}._sOc{max-width:380px;text-overflow:ellipsis;white-space:nowrap;overflow:hidden;padding-left:0px}._v9b{padding-left:15px;white-space:nowrap;color:#666}._pOc{padding-left:0px}._rkc{color:#212121}._HOb{color:#878787}._lMf{color:#093}._jMf{color:#c00}._kMf{padding:1px}._CKg{color:#dd4b39}.gssb_a{padding:0 10px !important}.gssb_c{left:132px !important;right:295px !important;top:78px !important;width:572px !important}.gssb_c table{font-size:16px !important}.gssb_e{border:1px solid #ccc !important;border-top-color:#d9d9d9 !important}.gssb_i{background:#eee !important}#res{padding:0 8px}#rhs_block{padding-top:43px}#_FQd{padding:0 8px}#subform_ctrl{font-size:11px;height:17px;margin:5px 3px 0 17px}.taf{padding-bottom:3px}._chd{padding:20px 0 3px}._bhd{padding:20px 0 3px}#topstuff .e{padding-bottom:6px}.slk .sld{width:250px}.slk{margin-bottom:-3px}.slk ._z3b{padding-bottom:5px;width:250px}._QPd{margin-top:1px;margin-bottom:-11px}._zuc{color:#545454}._Auc{padding-top:2px;padding-bottom:1px}._Buc{padding-top:1px;margin-bottom:14px}.ac,.st{line-height:1.24}.mfr,#ofr{font-size:16px;margin:1em 0;padding:0 8px}._tLi{padding-bottom:25px}.s{color:#545454}.ac,._JEe{color:#545454}a.fl,._cD a,.osl a{color:#1a0dab;text-decoration:none}a:link{color:#1a0dab;cursor:pointer}#tads a:link{color:#1a0dab}#tads .soc a:link{color:#808080}#tads ._AC a:link{color:#808080}._AC a:link{color:#808080}._AC a:visited{color:#808080}._AC a:hover{color:#808080;text-decoration:underline}a:visited{color:#61C}.blg a{text-decoration:none}cite,cite a:link{color:#006621;font-style:normal}#tads cite{color:#006621}.kv{font-size:15px}.kvs{margin-top:1px}.kv,.kvs,.slp{display:block;margin-bottom:1px}.kt{border-spacing:2px 0;margin-top:1px}#mbEnd li{margin:20px 8px 0 0}.f{color:#808080}._pJb{color:#093}h4.r{display:inline;font-size:small;font-weight:normal}.g{line-height:1.2}._sPb{display:inline-block;vertical-align:top;overflow:hidden;position:relative}._Gnc{margin:0 0 2em 1.3em}._Gnc li{list-style-type:disc}.osl{color:#777;margin-top:4px}.r{font-size:16px;margin:0}.spell{font-size:16px}.spell_orig{font-size:13px}.spell_orig a{text-decoration:none}.spell_orig b i{font-style:normal;font-weight:normal}.th{border:1px solid #ebebeb}.ts td{padding:0}.videobox{padding-bottom:3px}.slk a{text-decoration:none}#leftnav a:hover,#leftnav .tbou a:hover,.slk h3 a,a:hover{text-decoration:underline}#mn{table-layout:fixed;width:100%}#leftnav a{color:#222;font-size:13px}#leftnav{padding:43px 4px 4px 0}.tbos{color:#dd4b39}._AEd{border-top:1px solid #efefef;font-size:13px;margin:10px 0 14px 10px;padding:0}.tbt{margin-bottom:28px}#tbd{padding:0 0 0 16px}.tbou a{color:#222}#center_col{border:0;padding:0 8px 0 0}#topstuff .e{padding-top:3px}#topstuff .sp_cnt{padding-top:6px}#ab_name{color:#dd4b39;font:20px \"Arial\";margin-left:15px}._fld{border-bottom:1px solid #dedede;height:56px;padding-top:1px}#resultStats{color:#999;font-size:13px;overflow:hidden;white-space:nowrap}.mslg>td{padding-right:1px;padding-top:2px}.slk .sld{margin-top:2px;padding:5px 0 5px 5px}._Mvd,.fmp{padding-top:3px}.close_btn{overflow:hidden}#fll a,#bfl a{color:#1a0dab !important;margin:0 12px;text-decoration:none !important}.ng{color:#dd4b39}#mss{margin:.33em 0 0;padding:0;display:table}._mY{display:inline-block;float:left;white-space:nowrap;padding-right:16px}#mss p{margin:0;padding-top:5px}.tn{border-bottom:1px solid #ebebeb;display:block;float:left;height:59px;line-height:54px;min-width:980px;padding:0;position:relative;white-space:nowrap}._UXb,a._UXb{color:#777;cursor:pointer;display:inline-block;font-family:arial,sans-serif;font-size:small;height:54px;line-height:54px;margin:0 8px;padding:0 8px;text-decoration:none;white-space:nowrap}._Ihd{border-bottom:3px solid #dd4b39;color:#dd4b39;font-weight:bold;margin:2px 8px 0}a._Jhd:hover{color:black;text-decoration:none;white-space:nowrap}body{margin:0;padding:0}._sxc{display:inline-block;float:left;margin-top:2px}._Hhd,a._Hhd{margin-left:1px}.sd{line-height:43px;padding:0 8px 0 9px}a:active,.osl a:active,.tbou a:active,#leftnav a:active{color:#dd4b39}#_Xud a:active,#bfl a:active{color:#dd4b39 !important}.csb{background:url(/images/nav_logo229.png) no-repeat;overflow:hidden}.close_btn{background:url(/images/nav_logo229.png) no-repeat -138px -84px;height:14px;width:14px;display:block}.star{background:url(/images/nav_logo229.png) no-repeat -94px -245px;height:13px;width:65px;display:block}.star div,.star span{background:url(/images/nav_logo229.png) no-repeat 0 -245px;height:13px;width:65px;display:block}._nBb{display:inline;margin:0 3px;outline-color:transparent;overflow:hidden;position:relative}._nBb>div{outline-color:transparent}._O0{border-color:transparent;border-style:solid dashed dashed;border-top-color:green;border-width:4px 4px 0 4px;cursor:pointer;display:inline-block;font-size:0;height:0;left:4px;line-height:0;outline-color:transparent;position:relative;top:-3px;width:0}._O0{margin-top:-4px}.am-dropdown-menu{display:block;background:#fff;border:1px solid #dcdcdc;font-size:13px;left:0;padding:0;position:absolute;right:auto;white-space:nowrap;z-index:3}._Ykb{list-style:none;white-space:nowrap}._Ykb:hover{background-color:#eee}a._Zkb{color:#333;cursor:pointer;display:block;padding:7px 18px;text-decoration:none}#tads a._Zkb{color:#333}.sfbgg{background:#f1f1f1;border-bottom:1px solid #e5e5e5;height:71px}#logocont{z-index:1;padding-left:4px;padding-top:4px}#logo{display:block;height:49px;margin-top:12px;margin-left:12px;overflow:hidden;position:relative;width:137px}#logo img{left:0;position:absolute;top:-41px}.lst-a{background:white;border:1px solid #d9d9d9;border-top-color:silver;width:570px}.lst-a:hover{border:1px solid #b9b9b9;border-top:1px solid #a0a0a0;box-shadow:inset 0 1px 2px rgba(0,0,0,0.1);-webkit-box-shadow:inset 0 1px 2px rgba(0,0,0,0.1);-moz-box-shadow:inset 0 1px 2px rgba(0,0,0,0.1)}.lst-td{border:none;padding:0}.tia input{border-right:none;padding-right:0}.tia{padding-right:0}.lst{background:none;border:none;color:#000;font:16px arial,sans-serif;float:left;height:22px;margin:0;padding:3px 6px 2px 9px;vertical-align:top;width:100%;word-break:break-all}.lst:focus{outline:none}.lst-b{background:none;border:none;height:26px;padding:0 6px 0 12px}.ds{border-right:1px solid #e7e7e7;position:relative;height:29px;margin-left:17px;z-index:100}.lsbb{background-image:-moz-linear-gradient(top,#4d90fe,#4787ed);background-image:-ms-linear-gradient(top,#4d90fe,#4787ed);background-image:-o-linear-gradient(top,#4d90fe,#4787ed);background-image:-webkit-gradient(linear,left top,left bottom,from(#4d90fe),to(#4787ed));background-image:-webkit-linear-gradient(top,#4d90fe,#4787ed);background-image:linear-gradient(top,#4d90fe,#4787ed);border:1px solid #3079ed;border-radius:2px;background-color:#4d90fe;height:27px;width:68px}.lsbb:hover{background-image:-moz-linear-gradient(top,#4d90fe,#357ae8);background-image:-ms-linear-gradient(top,#4d90fe,#357ae8);background-image:-o-linear-gradient(top,#4d90fe,#357ae8);background-image:-webkit-gradient(linear,left top,left bottom,from(#4d90fe),to(#357ae8));background-image:-webkit-linear-gradient(top,#4d90fe,#357ae8);background-color:#357ae8;background-image:linear-gradient(top,#4d90fe,#357ae8);border:1px solid #2f5bb7}.lsb{background:transparent;background-position:0 -343px;background-repeat:repeat-x;border:none;color:#000;cursor:default;font:15px arial,sans-serif;height:29px;margin:0;vertical-align:top;width:100%}.lsb:active{-moz-box-shadow:inset 0 1px 2px rgba(0,0,0,0.3);-webkit-box-shadow:inset 0 1px 2px rgba(0,0,0,0.3);box-shadow:inset 0 1px 2px rgba(0,0,0,0.3);background:transparent;color:transparent;overflow:hidden;position:relative;width:100%}.sbico{color:transparent;display:inline-block;height:15px;margin:0 auto;margin-top:2px;width:15px;overflow:hidden}</style><script>(function(){window.google={kEI:\\'7Ky6VoLrL4PWmAHE-br4Bw\\',kEXPI:\\'1350255,3700271,3700385,4028790,4029815,4031109,4032678,4033307,4036509,4036527,4038012,4039268,4042784,4042792,4043492,4044606,4045841,4046304,4048042,4048882,4049549,4049557,4050886,4050891,4050912,4051242,4051559,4051596,4052304,4052781,4053261,4054224,4054284,4054513,4055381,4055744,4056038,4057169,4057586,4057835,4057902,4058004,4058033,4058098,4058116,4058227,4058337,4058343,4059274,4059289,4059318,4059328,8300096,8300272,8300310,8300317,8502315,8502347,8502452,8502690,8502986,8503039,8503109,8503212,8503303,8503306,10200084,10201635\\',authuser:0,kscs:\\'c9c918f0_24\\'};google.kHL=\\'es-419\\';})();(function(){google.lc=[];google.li=0;google.getEI=function(a){for(var b;a&&(!a.getAttribute||!(b=a.getAttribute(\"eid\")));)a=a.parentNode;return b||google.kEI};google.getLEI=function(a){for(var b=null;a&&(!a.getAttribute||!(b=a.getAttribute(\"leid\")));)a=a.parentNode;return b};google.https=function(){return\"https:\"==window.location.protocol};google.ml=function(){return null};google.wl=function(a,b){try{google.ml(Error(a),!1,b)}catch(d){}};google.time=function(){return(new Date).getTime()};google.log=function(a,b,d,e,g){a=google.logUrl(a,b,d,e,g);if(\"\"!=a){b=new Image;var c=google.lc,f=google.li;c[f]=b;b.onerror=b.onload=b.onabort=function(){delete c[f]};window.google&&window.google.vel&&window.google.vel.lu&&window.google.vel.lu(a);b.src=a;google.li=f+1}};google.logUrl=function(a,b,d,e,g){var c=\"\",f=google.ls||\"\";if(!d&&-1==b.search(\"&ei=\")){var h=google.getEI(e),c=\"&ei=\"+h;-1==b.search(\"&lei=\")&&((e=google.getLEI(e))?c+=\"&lei=\"+e:h!=google.kEI&&(c+=\"&lei=\"+google.kEI))}a=d||\"/\"+(g||\"gen_204\")+\"?atyp=i&ct=\"+a+\"&cad=\"+b+c+f+\"&zx=\"+google.time();/^http:/i.test(a)&&google.https()&&(google.ml(Error(\"a\"),!1,{src:a,glmm:1}),a=\"\");return a};google.y={};google.x=function(a,b){google.y[a.id]=[a,b];return!1};google.load=function(a,b,d){google.x({id:a+k++},function(){google.load(a,b,d)})};var k=0;})();(function(){function b(){if(!google.dcl){google.dcl=!0;for(var a;a=c.shift();)a()}}var c=[function(){google.c&&google.tick(\"load\",\"dcl\")}];google.dcl=!1;google.dclc=function(a){google.dcl?a():c.push(a)};window.addEventListener?(document.addEventListener(\"DOMContentLoaded\",b,!1),window.addEventListener(\"load\",b,!1)):window.attachEvent&&window.attachEvent(\"onload\",b)})();</script><script type=\"text/javascript\"></script><script>(function(){var a=function(f){for(var g=f.parentElement,d=null,e=0;e<g.childNodes.length;e++){var h=g.childNodes[e];-1<(\" \"+h.className+\" \").indexOf(\" am-dropdown-menu \")&&(d=h)}\"none\"==d.style.display?(d.style.display=\"\",google.log(\"hpam\",\"&ved=\"+f.getAttribute(\"data-ved\"))):d.style.display=\"none\"},b=[\"google\",\"sham\"],c=this;b[0]in c||!c.execScript||c.execScript(\"var \"+b[0]);for(var k;b.length&&(k=b.shift());)b.length||void 0===a?c[k]?c=c[k]:c=c[k]={}:c[k]=a;}).call(window);</script></head><body class=\"hsrp\" bgcolor=\"#ffffff\" marginheight=\"0\" marginwidth=\"0\" topmargin=\"0\"><div id=gbar><nobr><b class=gb1>B\\xfasqueda</b> <a class=gb1 href=\"https://www.google.com.co/search?q=site:www.bioxbio.com/if/+1539-3755&um=1&ie=UTF-8&hl=es-419&tbm=isch&source=og&sa=N&tab=wi\">Im\\xe1genes</a> <a class=gb1 href=\"https://maps.google.com.co/maps?q=site:www.bioxbio.com/if/+1539-3755&um=1&ie=UTF-8&hl=es-419&sa=N&tab=wl\">Maps</a> <a class=gb1 href=\"https://play.google.com/?q=site:www.bioxbio.com/if/+1539-3755&um=1&ie=UTF-8&hl=es-419&sa=N&tab=w8\">Play</a> <a class=gb1 href=\"https://www.youtube.com/results?q=site:www.bioxbio.com/if/+1539-3755&um=1&ie=UTF-8&gl=CO&sa=N&tab=w1\">YouTube</a> <a class=gb1 href=\"https://news.google.com.co/nwshp?hl=es-419&tab=wn\">Noticias</a> <a class=gb1 href=\"https://mail.google.com/mail/?tab=wm\">Gmail</a> <a class=gb1 href=\"https://drive.google.com/?tab=wo\">Drive</a> <a class=gb1 style=\"text-decoration:none\" href=\"https://www.google.com.co/intl/es-419/options/\"><u>M\\xe1s</u> &raquo;</a></nobr></div><div id=guser width=100%><nobr><span id=gbn class=gbi></span><span id=gbf class=gbf></span><span id=gbe></span><a href=\"http://www.google.com.co/history/optout?hl=es-419\" class=gb4>Historial web</a> | <a  href=\"/preferences?hl=es-419\" class=gb4>Preferencias</a> | <a target=_top id=gb_70 href=\"https://accounts.google.com/ServiceLogin?hl=es-419&passive=true&continue=https://www.google.com.co/search%3Fq%3Dsite:www.bioxbio.com/if/%2B1539-3755\" class=gb4>Iniciar sesi\\xf3n</a></nobr></div><div class=gbh style=left:0></div><div class=gbh style=right:0></div><table id=\"mn\" border=\"0\" cellpadding=\"0\" cellspacing=\"0\" style=\"position:relative\"><tr><th width=\"132\"></th><th width=\"573\"></th><th width=\"278\"></th><th></th></tr><tr><td class=\"sfbgg\" valign=\"top\"><div id=\"logocont\"><h1><a href=\"/webhp?hl=es-419\" style=\"background:url(/images/nav_logo229.png) no-repeat 0 -41px;height:37px;width:95px;display:block\" id=\"logo\" title=\"Go to Google Home\"></a></h1></div></td><td class=\"sfbgg\" colspan=\"2\" valign=\"top\" style=\"padding-left:0px\"><form style=\"display:block;margin:0;background:none\" action=\"/search\" id=\"tsf\" method=\"GET\" name=\"gs\"><table border=\"0\" cellpadding=\"0\" cellspacing=\"0\" style=\"margin-top:20px;position:relative\"><tr><td><div class=\"lst-a\"><table cellpadding=\"0\" cellspacing=\"0\"><tr><td class=\"lst-td\" width=\"555\" valign=\"bottom\"><div style=\"position:relative;zoom:1\"><input class=\"lst\" value=\"site:www.bioxbio.com/if/ 1539-3755\" title=\"Buscar\" autocomplete=\"off\" id=\"sbhost\" maxlength=\"2048\" name=\"q\" type=\"text\"></div></td></tr></table></div></td><td><div class=\"ds\"><div class=\"lsbb\"><button class=\"lsb\" value=\"Buscar\" name=\"btnG\" type=\"submit\"><span class=\"sbico\" style=\"background:url(/images/nav_logo229.png) no-repeat -36px -111px;height:14px;width:13px;display:block\"></span></button></div></div></td></tr></table></form></td><td class=\"sfbgg\">&nbsp;</td></tr><tr style=\"position:relative\"><td><div style=\"border-bottom:1px solid #ebebeb;height:59px\"></div></td><td colspan=\"2\"><div class=\"tn\"><div class=\"_UXb _Ihd _sxc _Hhd\">Todos</div><div class=\"_sxc\"><a class=\"_UXb _Jhd\" href=\"/search?q=site:www.bioxbio.com/if/+1539-3755&amp;ie=UTF-8&amp;prmd=ivns&amp;source=lnms&amp;tbm=isch&amp;sa=X&amp;ved=0ahUKEwiCkYCJn-zKAhUDKyYKHcS8Dn8Q_AUIBQ\">Im\\xe1genes</a></div><div class=\"_sxc\"><a class=\"_UXb _Jhd\" href=\"/search?q=site:www.bioxbio.com/if/+1539-3755&amp;ie=UTF-8&amp;prmd=ivns&amp;source=lnms&amp;tbm=vid&amp;sa=X&amp;ved=0ahUKEwiCkYCJn-zKAhUDKyYKHcS8Dn8Q_AUIBg\">Videos</a></div><div class=\"_sxc\"><a class=\"_UXb _Jhd\" href=\"/search?q=site:www.bioxbio.com/if/+1539-3755&amp;ie=UTF-8&amp;prmd=ivns&amp;source=lnms&amp;tbm=nws&amp;sa=X&amp;ved=0ahUKEwiCkYCJn-zKAhUDKyYKHcS8Dn8Q_AUIBw\">Noticias</a></div><div class=\"_sxc\"><a class=\"_UXb _Jhd\" href=\"https://maps.google.com.co/maps?q=site:www.bioxbio.com/if/+1539-3755&amp;um=1&amp;ie=UTF-8&amp;sa=X&amp;ved=0ahUKEwiCkYCJn-zKAhUDKyYKHcS8Dn8Q_AUICA\">Maps</a></div><div class=\"_sxc\"><a class=\"_UXb _Jhd\" href=\"/search?q=site:www.bioxbio.com/if/+1539-3755&amp;ie=UTF-8&amp;prmd=ivns&amp;source=lnms&amp;tbm=bks&amp;sa=X&amp;ved=0ahUKEwiCkYCJn-zKAhUDKyYKHcS8Dn8Q_AUICQ\">Libros</a></div></div><div style=\"border-bottom:1px solid #ebebeb;height:59px\"></div></td><td><div style=\"border-bottom:1px solid #ebebeb;height:59px\"></div></td></tr><tbody data-jibp=\"h\" data-jiis=\"uc\" id=\"desktop-search\"><style>._Bu,._Bu a:link,._Bu a:visited,a._Bu:link,a._Bu:visited{color:#808080}._kBb{color:#61C}.ellip{overflow:hidden;text-overflow:ellipsis;white-space:nowrap}</style><tr><td id=\"leftnav\" valign=\"top\"><div><h2 class=\"hd\">Search Options</h2><ul class=\"med\" id=\"tbd\"><li><ul class=\"tbt\"><li class=\"tbos\" id=\"lr_\">Cualquier pa\\xeds</li><li class=\"tbou\" id=\"ctr_countryCO\"><a class=\"q\" href=\"/search?q=site:www.bioxbio.com/if/+1539-3755&amp;ie=UTF-8&amp;prmd=ivns&amp;source=lnt&amp;tbs=ctr:countryCO&amp;cr=countryCO&amp;sa=X&amp;ved=0ahUKEwiCkYCJn-zKAhUDKyYKHcS8Dn8QpwUIDg\">Pa\\xeds: Colombia</a></li></ul></li><li><ul class=\"tbt\"><li class=\"tbos\" id=\"lr_\">Cualquier idioma</li><li class=\"tbou\" id=\"lr_lang_1es\"><a class=\"q\" href=\"/search?q=site:www.bioxbio.com/if/+1539-3755&amp;ie=UTF-8&amp;prmd=ivns&amp;source=lnt&amp;tbs=lr:lang_1es&amp;lr=lang_es&amp;sa=X&amp;ved=0ahUKEwiCkYCJn-zKAhUDKyYKHcS8Dn8QpwUIDg\">P\\xe1ginas en espa\\xf1ol</a></li></ul></li><li><ul class=\"tbt\"><li class=\"tbos\" id=\"qdr_\">De cualquier fecha</li><li class=\"tbou\" id=\"qdr_h\"><a class=\"q\" href=\"/search?q=site:www.bioxbio.com/if/+1539-3755&amp;ie=UTF-8&amp;prmd=ivns&amp;source=lnt&amp;tbs=qdr:h&amp;sa=X&amp;ved=0ahUKEwiCkYCJn-zKAhUDKyYKHcS8Dn8QpwUIDg\"> \\xdaltima hora</a></li><li class=\"tbou\" id=\"qdr_d\"><a class=\"q\" href=\"/search?q=site:www.bioxbio.com/if/+1539-3755&amp;ie=UTF-8&amp;prmd=ivns&amp;source=lnt&amp;tbs=qdr:d&amp;sa=X&amp;ved=0ahUKEwiCkYCJn-zKAhUDKyYKHcS8Dn8QpwUIDg\"> \\xdaltimas 24 horas</a></li><li class=\"tbou\" id=\"qdr_w\"><a class=\"q\" href=\"/search?q=site:www.bioxbio.com/if/+1539-3755&amp;ie=UTF-8&amp;prmd=ivns&amp;source=lnt&amp;tbs=qdr:w&amp;sa=X&amp;ved=0ahUKEwiCkYCJn-zKAhUDKyYKHcS8Dn8QpwUIDg\"> \\xdaltima semana</a></li><li class=\"tbou\" id=\"qdr_m\"><a class=\"q\" href=\"/search?q=site:www.bioxbio.com/if/+1539-3755&amp;ie=UTF-8&amp;prmd=ivns&amp;source=lnt&amp;tbs=qdr:m&amp;sa=X&amp;ved=0ahUKEwiCkYCJn-zKAhUDKyYKHcS8Dn8QpwUIDg\"> \\xdaltimo mes</a></li><li class=\"tbou\" id=\"qdr_y\"><a class=\"q\" href=\"/search?q=site:www.bioxbio.com/if/+1539-3755&amp;ie=UTF-8&amp;prmd=ivns&amp;source=lnt&amp;tbs=qdr:y&amp;sa=X&amp;ved=0ahUKEwiCkYCJn-zKAhUDKyYKHcS8Dn8QpwUIDg\"> \\xdaltimo a\\xf1o</a></li></ul></li><li><ul class=\"tbt\"><li class=\"tbos\" id=\"li_\">Todos los resultados</li><li class=\"tbou\" id=\"li_1\"><a class=\"q\" href=\"/search?q=site:www.bioxbio.com/if/+1539-3755&amp;ie=UTF-8&amp;prmd=ivns&amp;source=lnt&amp;tbs=li:1&amp;sa=X&amp;ved=0ahUKEwiCkYCJn-zKAhUDKyYKHcS8Dn8QpwUIDg\">Palabra por palabra</a></li></ul></li></ul></div></td><td valign=\"top\"><div id=\"center_col\"><div class=\"sd\" id=\"resultStats\">1 resultado</div><div id=\"res\"><div id=\"topstuff\"></div><div id=\"search\"><div id=\"ires\"><ol><div class=\"g\"><h3 class=\"r\"><a href=\"/url?q=http://www.bioxbio.com/if/html/PHYS-REV-E.html&amp;sa=U&amp;ved=0ahUKEwiCkYCJn-zKAhUDKyYKHcS8Dn8QFggTMAA&amp;usg=AFQjCNEmxn3gliUFsscptavN0CKu2LDdnw\">Physical Review E Impact Factor (IF)|2015|2014|2013 - BioxBio</a></h3><div class=\"s\"><div class=\"kv\" style=\"margin-bottom:2px\"><cite>www.bioxbio.com/if/html/PHYS-REV-E.html</cite><div class=\"_nBb\"><div style=\"display:inline\" onclick=\"google.sham(this);\" aria-expanded=\"false\" aria-haspopup=\"true\" tabindex=\"0\" data-ved=\"0ahUKEwiCkYCJn-zKAhUDKyYKHcS8Dn8Q7B0IFDAA\"><span class=\"_O0\"></span></div><div style=\"display:none\" class=\"am-dropdown-menu\" role=\"menu\" tabindex=\"-1\"><ul><li class=\"_Ykb\"><a class=\"_Zkb\" href=\"/url?q=http://webcache.googleusercontent.com/search%3Fq%3Dcache:aBwD1EmfhwoJ:http://www.bioxbio.com/if/html/PHYS-REV-E.html%252Bsite:www.bioxbio.com/if/%2B1539-3755%26hl%3Des-419%26%26ct%3Dclnk&amp;sa=U&amp;ved=0ahUKEwiCkYCJn-zKAhUDKyYKHcS8Dn8QIAgWMAA&amp;usg=AFQjCNF2DsdK-JsoKFWLHLdmYKONnH4R_Q\">En cach\\xe9</a></li><li class=\"_Ykb\"><a class=\"_Zkb\" href=\"/search?ie=UTF-8&amp;q=related:www.bioxbio.com/if/html/PHYS-REV-E.html&amp;tbo=1&amp;sa=X&amp;ved=0ahUKEwiCkYCJn-zKAhUDKyYKHcS8Dn8QHwgXMAA\">Similares</a></li></ul></div></div></div><span class=\"st\">Physical Review E (PHYS REV E) impact factors: 2.288(2014), 2.326(2013), <br>\\n2.313(2012), 2.255(2011), 2.352(2010). ISSN: <b>1539-3755</b>, 1550-2376.</span><br></div></div></ol></div></div></div></div><div id=\"foot\"><p class=\"_cD\" id=\"bfl\" style=\"margin:19px 0 0;text-align:center\"><a href=\"/advanced_search?q=site:www.bioxbio.com/if/+1539-3755&amp;ie=UTF-8&amp;prmd=ivns\">B\\xfasqueda avanzada</a><a href=\"/support/websearch/bin/answer.py?answer=134479&amp;hl=es-419\">Ayuda de b\\xfasqueda</a> <a href=\"/tools/feedback/survey/html?productId=196&amp;query=site:www.bioxbio.com/if/+1539-3755&amp;hl=es-419\">Enviar comentarios</a></p><div class=\"_cD\" id=\"fll\" style=\"margin:19px auto 19px auto;text-align:center\"><a href=\"/\">P\\xe1gina principal de Google</a> <a href=\"/intl/es-419/ads\">Programas de publicidad</a> <a href=\"/intl/es-419/policies/privacy/\">Privacidad</a> <a href=\"/intl/es-419/policies/terms/\">Condiciones</a> <a href=\"/intl/es-419/about.html\">Acerca de Google</a></div></div></td><td id=\"rhs_block\" valign=\"top\"></td></tr></tbody></table><script type=\"text/javascript\">(function(){var eventid=\\'7Ky6VoLrL4PWmAHE-br4Bw\\';google.kEI = eventid;})();</script><script src=\"/xjs/_/js/k=xjs.hp.en_US.7wpkBpWphJA.O/m=sb_he,d/rt=j/d=1/t=zcms/rs=ACT90oEsGYAoIrVwrHrJeJ6q1a7Zoj-UCg\"></script><script type=\"text/javascript\">google.ac&&google.ac.c({\"agen\":true,\"cgen\":true,\"client\":\"heirloom-serp\",\"dh\":true,\"dhqt\":true,\"ds\":\"\",\"fl\":true,\"host\":\"google.com.co\",\"isbh\":28,\"jam\":0,\"jsonp\":true,\"msgs\":{\"cibl\":\"Borrar b\\xfasqueda\",\"dym\":\"Quiz\\xe1s quisiste decir:\",\"lcky\":\"Me siento con suerte\",\"lml\":\"M\\xe1s informaci\\xf3n\",\"oskt\":\"Herramientas de introducci\\xf3n de texto\",\"psrc\":\"Se ha eliminado esta b\\xfasqueda de tu \\\\u003Ca href=\\\\\"/history\\\\\"\\\\u003EHistorial web\\\\u003C/a\\\\u003E\",\"psrl\":\"Eliminar\",\"sbit\":\"Buscar por im\\xe1genes\",\"srch\":\"Buscar con Google\"},\"ovr\":{},\"pq\":\"site:www.bioxbio.com/if/ 1539-3755\",\"refpd\":true,\"rfs\":[],\"scd\":10,\"sce\":5,\"stok\":\"yAGvRqMhe42c1qND_Dghy76Mtpc\"})</script><script>(function(){window.google.cdo={height:0,width:0};(function(){var a=window.innerWidth,b=window.innerHeight;if(!a||!b)var c=window.document,d=\"CSS1Compat\"==c.compatMode?c.documentElement:c.body,a=d.clientWidth,b=d.clientHeight;a&&b&&(a!=google.cdo.width||b!=google.cdo.height)&&google.log(\"\",\"\",\"/client_204?&atyp=i&biw=\"+a+\"&bih=\"+b+\"&ei=\"+google.kEI);})();})();</script></body></html>'"
      ]
     },
     "execution_count": 201,
     "metadata": {},
     "output_type": "execute_result"
    }
   ],
   "source": [
    "r.text"
   ]
  },
  {
   "cell_type": "code",
   "execution_count": 202,
   "metadata": {},
   "outputs": [],
   "source": [
    "if r.status_code==200:\n",
    "    rr=r.text"
   ]
  },
  {
   "cell_type": "code",
   "execution_count": 204,
   "metadata": {},
   "outputs": [],
   "source": [
    "from IPython.core.display import HTML\n",
    "#HTML(rr)"
   ]
  },
  {
   "cell_type": "code",
   "execution_count": 301,
   "metadata": {},
   "outputs": [
    {
     "data": {
      "text/html": [
       "<div style=\"max-height:1000px;max-width:1500px;overflow:auto;\">\n",
       "<table border=\"1\" class=\"dataframe\">\n",
       "  <thead>\n",
       "    <tr style=\"text-align: right;\">\n",
       "      <th></th>\n",
       "      <th>IF</th>\n",
       "      <th>Year</th>\n",
       "    </tr>\n",
       "  </thead>\n",
       "  <tbody>\n",
       "    <tr>\n",
       "      <th>0</th>\n",
       "      <td>  4.643</td>\n",
       "      <td> 2014</td>\n",
       "    </tr>\n",
       "    <tr>\n",
       "      <th>1</th>\n",
       "      <td>  4.864</td>\n",
       "      <td> 2013</td>\n",
       "    </tr>\n",
       "    <tr>\n",
       "      <th>2</th>\n",
       "      <td>  4.691</td>\n",
       "      <td> 2012</td>\n",
       "    </tr>\n",
       "    <tr>\n",
       "      <th>3</th>\n",
       "      <td>  4.558</td>\n",
       "      <td> 2011</td>\n",
       "    </tr>\n",
       "    <tr>\n",
       "      <th>4</th>\n",
       "      <td>  4.964</td>\n",
       "      <td> 2010</td>\n",
       "    </tr>\n",
       "  </tbody>\n",
       "</table>\n",
       "</div>"
      ],
      "text/plain": [
       "       IF  Year\n",
       "0   4.643  2014\n",
       "1   4.864  2013\n",
       "2   4.691  2012\n",
       "3   4.558  2011\n",
       "4   4.964  2010"
      ]
     },
     "execution_count": 301,
     "metadata": {},
     "output_type": "execute_result"
    }
   ],
   "source": [
    "a.impact_factor"
   ]
  },
  {
   "cell_type": "code",
   "execution_count": 306,
   "metadata": {},
   "outputs": [],
   "source": [
    "r=requests.get('https://scholar.google.com/scholar?q=%s' %a.urldoi+a.doi)\n"
   ]
  },
  {
   "cell_type": "code",
   "execution_count": 307,
   "metadata": {},
   "outputs": [
    {
     "data": {
      "text/plain": [
       "u'<!DOCTYPE html PUBLIC \"-//W3C//DTD HTML 4.01 Transitional//EN\">\\n<html>\\n<head><meta http-equiv=\"content-type\" content=\"text/html; charset=utf-8\"><meta name=\"viewport\" content=\"initial-scale=1\"><title>https://scholar.google.com/scholar?q=http://dx.doi.org/10.1103/PhysRevD.92.013005</title></head>\\n<body style=\"font-family: arial, sans-serif; background-color: #fff; color: #000; padding:20px; font-size:18px;\" onload=\"e=document.getElementById(\\'captcha\\');if(e){e.focus();}\">\\n<div style=\"max-width:400px;\">\\n <hr noshade size=\"1\" style=\"color:#ccc; background-color:#ccc;\"><br>\\n \\n  To continue, please type the characters below:<br><br>\\n  <img src=\"/sorry/image?id=4043321238969849112&amp;q=CGMSBMgYETYYjYzrtQUiGQDxp4NL10iX9K2wL89yq_u826qDN89mfLM&amp;hl=en\" border=\"1\" alt=\"Please enable images\"><br><br><form action=\"CaptchaRedirect\" method=\"get\"><input type=\"hidden\" name=\"continue\" value=\"https://scholar.google.com/scholar?q=http://dx.doi.org/10.1103/PhysRevD.92.013005\"><input type=\"hidden\" name=\"id\" value=\"4043321238969849112\"><input type=\"text\" name=\"captcha\" value=\"\" id=\"captcha\" size=\"12\" style=\"font-size:16px; padding:3px 0 3px 5px; margin-left:0px;\"><input type=\"submit\" name=\"submit\" value=\"Submit\" style=\"font-size:18px; padding:4px 0;\"><br><br><br></form>\\n  <hr noshade size=\"1\" style=\"color:#ccc; background-color:#ccc;\">\\n  \\n   <div style=\"font-size:13px;\">\\n    <b>About this page</b><br><br>Our systems have detected unusual traffic from your computer network.  This page checks to see if it&#39;s really you sending the requests, and not a robot.  <a href=\"#\" onclick=\"document.getElementById(\\'infoDiv\\').style.display=\\'block\\';\">Why did this happen?</a><br><br>\\n    <div id=\"infoDiv\" style=\"display:none; background-color:#eee; padding:10px; margin:0 0 15px 0; line-height:1.4em;\">\\n     This page appears when Google automatically detects requests coming from your computer network which appear to be in violation of the <a href=\"//www.google.com/policies/terms/\">Terms of Service</a>. The block will expire shortly after those requests stop.  In the meantime, solving the above CAPTCHA will let you continue to use our services.<br><br>This traffic may have been sent by malicious software, a browser plug-in, or a script that sends automated requests.  If you share your network connection, ask your administrator for help &mdash; a different computer using the same IP address may be responsible.  <a href=\"//support.google.com/websearch/answer/86640\">Learn more</a><br><br>Sometimes you may be asked to solve the CAPTCHA if you are using advanced terms that robots are known to use, or sending requests very quickly.\\n    </div>\\n  \\n  \\n \\n \\n IP address: 200.24.17.54<br>Time: 2016-02-10T05:09:39Z<br>URL: https://scholar.google.com/scholar?q=http://dx.doi.org/10.1103/PhysRevD.92.013005<br>\\n </div>\\n</div>\\n</body>\\n</html>\\n'"
      ]
     },
     "execution_count": 307,
     "metadata": {},
     "output_type": "execute_result"
    }
   ],
   "source": [
    "r.text"
   ]
  },
  {
   "cell_type": "code",
   "execution_count": 290,
   "metadata": {},
   "outputs": [
    {
     "name": "stdout",
     "output_type": "stream",
     "text": [
      "site:www.bioxbio.com/if/ 1935-990X\n",
      "1935-990X\n"
     ]
    },
    {
     "data": {
      "text/html": [
       "<div style=\"max-height:1000px;max-width:1500px;overflow:auto;\">\n",
       "<table border=\"1\" class=\"dataframe\">\n",
       "  <thead>\n",
       "    <tr style=\"text-align: right;\">\n",
       "      <th></th>\n",
       "      <th>IF</th>\n",
       "      <th>Year</th>\n",
       "    </tr>\n",
       "  </thead>\n",
       "  <tbody>\n",
       "    <tr>\n",
       "      <th>0</th>\n",
       "      <td>  6.100</td>\n",
       "      <td> 2014</td>\n",
       "    </tr>\n",
       "    <tr>\n",
       "      <th>1</th>\n",
       "      <td>   5.45</td>\n",
       "      <td> 2013</td>\n",
       "    </tr>\n",
       "    <tr>\n",
       "      <th>2</th>\n",
       "      <td>      -</td>\n",
       "      <td> 2012</td>\n",
       "    </tr>\n",
       "    <tr>\n",
       "      <th>3</th>\n",
       "      <td>      -</td>\n",
       "      <td> 2011</td>\n",
       "    </tr>\n",
       "    <tr>\n",
       "      <th>4</th>\n",
       "      <td>      -</td>\n",
       "      <td> 2010</td>\n",
       "    </tr>\n",
       "  </tbody>\n",
       "</table>\n",
       "</div>"
      ],
      "text/plain": [
       "       IF  Year\n",
       "0   6.100  2014\n",
       "1    5.45  2013\n",
       "2       -  2012\n",
       "3       -  2011\n",
       "4       -  2010"
      ]
     },
     "execution_count": 290,
     "metadata": {},
     "output_type": "execute_result"
    }
   ],
   "source": [
    "issn='1935-990X'\n",
    "q='site:www.bioxbio.com/if/ %s' %issn\n",
    "print q\n",
    "ImpactFactor(issn)\n"
   ]
  },
  {
   "cell_type": "code",
   "execution_count": 282,
   "metadata": {},
   "outputs": [],
   "source": [
    "rd=google_search(q)"
   ]
  },
  {
   "cell_type": "code",
   "execution_count": 283,
   "metadata": {},
   "outputs": [
    {
     "data": {
      "text/plain": [
       "{u'responseData': {u'cursor': {u'currentPageIndex': 0,\n",
       "   u'estimatedResultCount': u'1',\n",
       "   u'moreResultsUrl': u'http://www.google.com/search?oe=utf8&ie=utf8&source=uds&start=0&hl=en&q=site:www.bioxbio.com/if/+1935-990X',\n",
       "   u'pages': [{u'label': 1, u'start': u'0'}],\n",
       "   u'resultCount': u'1',\n",
       "   u'searchResultTime': u'0.14'},\n",
       "  u'results': [{u'GsearchResultClass': u'GwebSearch',\n",
       "    u'cacheUrl': u'http://www.google.com/search?q=cache:6fDzjsl1KOAJ:www.bioxbio.com',\n",
       "    u'content': u'American Psychologist (AM PSYCHOL) impact factors: 6.100(2014), 5.45(2013), \\n-(2012), -(2011), -(2010). ISSN: 0003-066X, <b>1935</b>-<b>990X</b>.',\n",
       "    u'title': u'American Psychologist Impact Factor (IF)|2015|2014|2013 <b>...</b> - BioxBio',\n",
       "    u'titleNoFormatting': u'American Psychologist Impact Factor (IF)|2015|2014|2013 ... - BioxBio',\n",
       "    u'unescapedUrl': u'http://www.bioxbio.com/if/html/AM-PSYCHOL.html',\n",
       "    u'url': u'http://www.bioxbio.com/if/html/AM-PSYCHOL.html',\n",
       "    u'visibleUrl': u'www.bioxbio.com'}]},\n",
       " u'responseDetails': None,\n",
       " u'responseStatus': 200}"
      ]
     },
     "execution_count": 283,
     "metadata": {},
     "output_type": "execute_result"
    }
   ],
   "source": [
    "rd"
   ]
  },
  {
   "cell_type": "code",
   "execution_count": 285,
   "metadata": {},
   "outputs": [
    {
     "name": "stdout",
     "output_type": "stream",
     "text": [
      "       IF  Year\n",
      "0   2.288  2014\n",
      "1   2.326  2013\n",
      "2   2.313  2012\n",
      "3   2.255  2011\n",
      "4   2.352  2010\n"
     ]
    }
   ],
   "source": [
    "if 1==1:\n",
    "    ifdf=pd.DataFrame()\n",
    "    IF=''\n",
    "    if rd:\n",
    "        if rd.has_key('responseData'): # if exits, is a dict\n",
    "            if rd['responseData'].has_key('results'): \n",
    "                if len(rd['responseData']['results'])>0:\n",
    "                    if rd['responseData']['results'][0].has_key('content'):\n",
    "                        IF=r.json()['responseData']['results'][0]['content']\n",
    "        \n",
    "        if IF:\n",
    "            IF=IF.replace('\\n','').split('impact factors:')\n",
    "            if len(IF)>0:\n",
    "                IF=IF[1].split('. ISSN')[0].split(',') #always works for a string\n",
    "                IF=[ify.replace(')','').split('(') for ify in  IF]\n",
    "                if len(IF[0])==2:\n",
    "                    ifdf=pd.DataFrame(IF,columns=['IF','Year'])\n",
    "                    \n",
    "    print  ifdf"
   ]
  },
  {
   "cell_type": "code",
   "execution_count": 286,
   "metadata": {},
   "outputs": [
    {
     "data": {
      "text/plain": [
       "[[u' 2.288', u'2014'],\n",
       " [u' 2.326', u'2013'],\n",
       " [u' 2.313', u'2012'],\n",
       " [u' 2.255', u'2011'],\n",
       " [u' 2.352', u'2010']]"
      ]
     },
     "execution_count": 286,
     "metadata": {},
     "output_type": "execute_result"
    }
   ],
   "source": [
    "IF"
   ]
  },
  {
   "cell_type": "code",
   "execution_count": 222,
   "metadata": {},
   "outputs": [
    {
     "data": {
      "text/plain": [
       "'a'"
      ]
     },
     "execution_count": 222,
     "metadata": {},
     "output_type": "execute_result"
    }
   ],
   "source": [
    "a.strip()"
   ]
  },
  {
   "cell_type": "code",
   "execution_count": 309,
   "metadata": {},
   "outputs": [
    {
     "data": {
      "text/plain": [
       "16.666666666666668"
      ]
     },
     "execution_count": 309,
     "metadata": {},
     "output_type": "execute_result"
    }
   ],
   "source": [
    "1000/60."
   ]
  },
  {
   "cell_type": "code",
   "execution_count": null,
   "metadata": {
    "collapsed": true
   },
   "outputs": [],
   "source": []
  }
 ],
 "metadata": {
  "kernelspec": {
   "display_name": "Python 3",
   "language": "python",
   "name": "python3"
  },
  "language_info": {
   "codemirror_mode": {
    "name": "ipython",
    "version": 3
   },
   "file_extension": ".py",
   "mimetype": "text/x-python",
   "name": "python",
   "nbconvert_exporter": "python",
   "pygments_lexer": "ipython3",
   "version": "3.5.3"
  }
 },
 "nbformat": 4,
 "nbformat_minor": 1
}
