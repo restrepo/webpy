{
 "cells": [
  {
   "cell_type": "code",
   "execution_count": 77,
   "metadata": {
    "collapsed": false
   },
   "outputs": [
    {
     "data": {
      "text/html": [
       "/usr/local/lib/python2.7/dist-packages/pandas/core/ops.py:535: UnicodeWarning: Unicode equal comparison failed to convert both arguments to Unicode - interpreting them as being unequal\n",
       "  result = lib.scalar_compare(x, y, op)\n",
       "Traceback (most recent call last):\n",
       "  File \"./revista.py\", line 161, in <module>\n",
       "    ro=OUTPUT(art,Oouput)\n",
       "NameError: name 'Oouput' is not defined"
      ],
      "text/plain": [
       "<IPython.core.display.HTML object>"
      ]
     },
     "execution_count": 77,
     "metadata": {},
     "output_type": "execute_result"
    }
   ],
   "source": [
    "from IPython.core.display import HTML\n",
    "import commands\n",
    "html=commands.getoutput('./revista.py 10.1103/PhysRevD.93.015012')\n",
    "HTML(html)"
   ]
  },
  {
   "cell_type": "code",
   "execution_count": 84,
   "metadata": {
    "collapsed": false
   },
   "outputs": [],
   "source": [
    "run revista.py '10.1103/PhysRevD.93.015012'"
   ]
  },
  {
   "cell_type": "code",
   "execution_count": 85,
   "metadata": {
    "collapsed": false
   },
   "outputs": [
    {
     "name": "stdout",
     "output_type": "stream",
     "text": [
      "<?xml version=\"1.0\" encoding=\"UTF-8\"?>\n",
      "<?xml-stylesheet type=\"text/xsl\" media=\"screen\" href=\"/~d/styles/atom10full.xsl\"?><?xml-stylesheet type=\"text/css\" media=\"screen\" href=\"http://feeds.feedburner.com/~d/styles/itemcontent.css\"?>\n",
      "<feed xmlns=\"http://www.w3.org/2005/Atom\" xmlns:openSearch=\"http://a9.com/-/spec/opensearchrss/1.0/\" xmlns:blogger=\"http://schemas.google.com/blogger/2008\" xmlns:georss=\"http://www.georss.org/georss\" xmlns:gd=\"http://schemas.google.com/g/2005\" xmlns:thr=\"http://purl.org/syndication/thread/1.0\" xmlns:feedburner=\"http://rssnamespace.org/feedburner/ext/1.0\">\n",
      "<entry>\n",
      "<title type=\"text\">Título del artículo</title><published>Diboson anomaly: Heavy Higgs resonance and QCD vectorlike exotics</published></entry>\n",
      "<entry>\n",
      "<title type=\"text\">Nombre de la revista</title><published>Physical Review D</published></entry>\n",
      "<entry>\n",
      "<title type=\"text\">DOI</title><published>10.1103/physrevd.93.015012</published></entry>\n",
      "<entry>\n",
      "<title type=\"text\">Institución que publica</title><published>American Physical Society (APS)</published></entry>\n",
      "<entry>\n",
      "<title type=\"text\">País</title><published>Estados Unidos</published></entry>\n",
      "<entry>\n",
      "<title type=\"text\">Ciudad</title><published>Nueva York</published></entry>\n",
      "<entry>\n",
      "<title type=\"text\">ISSN Colciencias</title><published>1550-7998</published></entry>\n",
      "<entry>\n",
      "<title type=\"text\">Idioma</title><published>Inglés</published></entry>\n",
      "<entry>\n",
      "<title type=\"text\">Año</title><published>2,0,1,6</published></entry>\n",
      "<entry>\n",
      "<title type=\"text\">Mes</title><published>1</published></entry>\n",
      "<entry>\n",
      "<title type=\"text\">Día</title><published>2,1</published></entry>\n",
      "<entry>\n",
      "<title type=\"text\">Volumen</title><published>9,3</published></entry>\n",
      "<entry>\n",
      "<title type=\"text\">Número</title><published>0,1,5,0,1,2</published></entry>\n",
      "<entry>\n",
      "<title type=\"text\">Nro páginas</title><published></published></entry>\n",
      "<entry>\n",
      "<title type=\"text\">Tiraje</title><published></published></entry>\n",
      "<entry>\n",
      "<title type=\"text\">Revista</title><published></published></entry>\n",
      "<entry>\n",
      "<title type=\"text\">Fotocopia</title><published></published></entry>\n",
      "<entry>\n",
      "<title type=\"text\">Otro</title><published></published></entry>\n",
      "<entry>\n",
      "<title type=\"text\">Fecha presentación: Año</title><published>2,0,1,6</published></entry>\n",
      "<entry>\n",
      "<title type=\"text\">Fecha presentación: Mes</title><published>0,2</published></entry>\n",
      "<entry>\n",
      "<title type=\"text\">Fecha presentación: Día</title><published>0,2</published></entry>\n",
      "<entry>\n",
      "<title type=\"text\">Autores</title><published>D. Aristizabal Sierra <br/>\n",
      "J. Herrero-Garcia <br/>\n",
      "D. Restrepo <br/>\n",
      "A. Vicente <br/>\n",
      "</published></entry>\n",
      "<entry>\n",
      "<title type=\"text\">Clasificación Colciencias</title><published>A1</published></entry>\n",
      "<entry>\n",
      "<title type=\"text\">ISSN</title><published>[u'2470-0010', u'2470-0029']</published></entry>\n",
      "<entry>\n",
      "<title type=\"text\">URL</title><published><a href=\"http://link.aps.org/article/10.1103/PhysRevD.93.015012\">http://link.aps.org/article/10.1103/PhysRevD.93.015012</a></published></entry>\n",
      "</feed>\n",
      "\n"
     ]
    }
   ],
   "source": [
    "print ro"
   ]
  },
  {
   "cell_type": "code",
   "execution_count": 81,
   "metadata": {
    "collapsed": false
   },
   "outputs": [],
   "source": [
    "f=open('revista.xml','w')\n",
    "f.write(ro.encode('utf-8'))\n",
    "f.close()"
   ]
  },
  {
   "cell_type": "code",
   "execution_count": 86,
   "metadata": {
    "collapsed": true
   },
   "outputs": [],
   "source": [
    "run revista.py '10.1103/PhysRevD.93.013012'"
   ]
  },
  {
   "cell_type": "code",
   "execution_count": 88,
   "metadata": {
    "collapsed": false
   },
   "outputs": [
    {
     "name": "stdout",
     "output_type": "stream",
     "text": [
      "<?xml version=\"1.0\" encoding=\"UTF-8\"?>\n",
      "<?xml-stylesheet type=\"text/xsl\" media=\"screen\" href=\"/~d/styles/atom10full.xsl\"?><?xml-stylesheet type=\"text/css\" media=\"screen\" href=\"http://feeds.feedburner.com/~d/styles/itemcontent.css\"?>\n",
      "<feed xmlns=\"http://www.w3.org/2005/Atom\" xmlns:openSearch=\"http://a9.com/-/spec/opensearchrss/1.0/\" xmlns:blogger=\"http://schemas.google.com/blogger/2008\" xmlns:georss=\"http://www.georss.org/georss\" xmlns:gd=\"http://schemas.google.com/g/2005\" xmlns:thr=\"http://purl.org/syndication/thread/1.0\" xmlns:feedburner=\"http://rssnamespace.org/feedburner/ext/1.0\">\n",
      "<entry>\n",
      "<title type=\"text\">Título del artículo</title><published>Fermion dark matter from SO(10) GUTs</published></entry>\n",
      "<entry>\n",
      "<title type=\"text\">Nombre de la revista</title><published>Physical Review D</published></entry>\n",
      "<entry>\n",
      "<title type=\"text\">DOI</title><published>10.1103/physrevd.93.013012</published></entry>\n",
      "<entry>\n",
      "<title type=\"text\">Institución que publica</title><published>American Physical Society (APS)</published></entry>\n",
      "<entry>\n",
      "<title type=\"text\">País</title><published>Estados Unidos</published></entry>\n",
      "<entry>\n",
      "<title type=\"text\">Ciudad</title><published>Nueva York</published></entry>\n",
      "<entry>\n",
      "<title type=\"text\">ISSN Colciencias</title><published>1550-7998</published></entry>\n",
      "<entry>\n",
      "<title type=\"text\">Idioma</title><published>Inglés</published></entry>\n",
      "<entry>\n",
      "<title type=\"text\">Año</title><published>2,0,1,6</published></entry>\n",
      "<entry>\n",
      "<title type=\"text\">Mes</title><published>1</published></entry>\n",
      "<entry>\n",
      "<title type=\"text\">Día</title><published>1,3</published></entry>\n",
      "<entry>\n",
      "<title type=\"text\">Volumen</title><published>9,3</published></entry>\n",
      "<entry>\n",
      "<title type=\"text\">Número</title><published>0,1,3,0,1,2</published></entry>\n",
      "<entry>\n",
      "<title type=\"text\">Nro páginas</title><published></published></entry>\n",
      "<entry>\n",
      "<title type=\"text\">Tiraje</title><published></published></entry>\n",
      "<entry>\n",
      "<title type=\"text\">Revista</title><published></published></entry>\n",
      "<entry>\n",
      "<title type=\"text\">Fotocopia</title><published></published></entry>\n",
      "<entry>\n",
      "<title type=\"text\">Otro</title><published></published></entry>\n",
      "<entry>\n",
      "<title type=\"text\">Fecha presentación: Año</title><published>2,0,1,6</published></entry>\n",
      "<entry>\n",
      "<title type=\"text\">Fecha presentación: Mes</title><published>0,2</published></entry>\n",
      "<entry>\n",
      "<title type=\"text\">Fecha presentación: Día</title><published>0,2</published></entry>\n",
      "<entry>\n",
      "<title type=\"text\">Autores</title><published>Carolina Arbeláez <br/>\n",
      "Robinson Longas <br/>\n",
      "Diego Restrepo <br/>\n",
      "Oscar Zapata <br/>\n",
      "</published></entry>\n",
      "<entry>\n",
      "<title type=\"text\">Clasificación Colciencias</title><published>A1</published></entry>\n",
      "<entry>\n",
      "<title type=\"text\">ISSN</title><published>[u'2470-0010', u'2470-0029']</published></entry>\n",
      "<entry>\n",
      "<title type=\"text\">URL</title><published><a href=\"http://link.aps.org/article/10.1103/PhysRevD.93.013012\">http://link.aps.org/article/10.1103/PhysRevD.93.013012</a></published></entry>\n",
      "</feed>\n",
      "\n"
     ]
    }
   ],
   "source": [
    "print ro"
   ]
  },
  {
   "cell_type": "code",
   "execution_count": 52,
   "metadata": {
    "collapsed": true
   },
   "outputs": [],
   "source": [
    "art['container-title']='European Physical Journal C'"
   ]
  },
  {
   "cell_type": "code",
   "execution_count": 53,
   "metadata": {
    "collapsed": true
   },
   "outputs": [],
   "source": [
    "publindex=read_google_cvs(gss_key='1sAN9w7QYxmONArmhfWMOFoebmGKf1qnkKdHy4OAsjD0',gss_query='select+*')\n",
    "art['ISSN_colciencias']=publindex[publindex.TITULO==art['container-title']].ISSN.values[0]\n",
    "art['ISSN_type']=publindex[publindex.TITULO==art['container-title']]['CATEGORIA'].values[0]\n",
    "art['country']=publindex[publindex.TITULO==art['container-title']]['country'].values[0]\n",
    "art['city']=publindex[publindex.TITULO==art['container-title']]['city'].values[0]\n",
    "art['language']=publindex[publindex.TITULO==art['container-title']]['language'].values[0].decode('utf-8')"
   ]
  },
  {
   "cell_type": "code",
   "execution_count": 55,
   "metadata": {
    "collapsed": false
   },
   "outputs": [],
   "source": [
    "aa=art.language"
   ]
  },
  {
   "cell_type": "code",
   "execution_count": 58,
   "metadata": {
    "collapsed": false
   },
   "outputs": [
    {
     "name": "stdout",
     "output_type": "stream",
     "text": [
      "Inglés\n"
     ]
    }
   ],
   "source": [
    "print aa.decode('utf-8')"
   ]
  },
  {
   "cell_type": "code",
   "execution_count": 59,
   "metadata": {
    "collapsed": false
   },
   "outputs": [
    {
     "name": "stdout",
     "output_type": "stream",
     "text": [
      "Inglés\n"
     ]
    }
   ],
   "source": [
    "print aa"
   ]
  },
  {
   "cell_type": "code",
   "execution_count": 65,
   "metadata": {
    "collapsed": true
   },
   "outputs": [],
   "source": [
    "import time"
   ]
  },
  {
   "cell_type": "code",
   "execution_count": 71,
   "metadata": {
    "collapsed": false
   },
   "outputs": [],
   "source": []
  },
  {
   "cell_type": "code",
   "execution_count": 72,
   "metadata": {
    "collapsed": false
   },
   "outputs": [
    {
     "name": "stdout",
     "output_type": "stream",
     "text": [
      "2016 2 2\n"
     ]
    }
   ],
   "source": []
  },
  {
   "cell_type": "code",
   "execution_count": 73,
   "metadata": {
    "collapsed": false
   },
   "outputs": [
    {
     "data": {
      "text/plain": [
       "time.struct_time(tm_year=2016, tm_mon=2, tm_mday=2, tm_hour=2, tm_min=18, tm_sec=56, tm_wday=1, tm_yday=33, tm_isdst=0)"
      ]
     },
     "execution_count": 73,
     "metadata": {},
     "output_type": "execute_result"
    }
   ],
   "source": [
    "tl"
   ]
  },
  {
   "cell_type": "code",
   "execution_count": 75,
   "metadata": {
    "collapsed": false
   },
   "outputs": [],
   "source": [
    "if tl.tm_mon<10:\n",
    "    month='0'+str(tl.tm_mon)"
   ]
  },
  {
   "cell_type": "code",
   "execution_count": 76,
   "metadata": {
    "collapsed": false
   },
   "outputs": [
    {
     "data": {
      "text/plain": [
       "'02'"
      ]
     },
     "execution_count": 76,
     "metadata": {},
     "output_type": "execute_result"
    }
   ],
   "source": [
    "month"
   ]
  },
  {
   "cell_type": "code",
   "execution_count": null,
   "metadata": {
    "collapsed": true
   },
   "outputs": [],
   "source": []
  }
 ],
 "metadata": {
  "kernelspec": {
   "display_name": "Python 2",
   "language": "python",
   "name": "python2"
  },
  "language_info": {
   "codemirror_mode": {
    "name": "ipython",
    "version": 2
   },
   "file_extension": ".py",
   "mimetype": "text/x-python",
   "name": "python",
   "nbconvert_exporter": "python",
   "pygments_lexer": "ipython2",
   "version": "2.7.9"
  }
 },
 "nbformat": 4,
 "nbformat_minor": 0
}
