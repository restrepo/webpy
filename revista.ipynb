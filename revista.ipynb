{
 "cells": [
  {
   "cell_type": "code",
   "execution_count": 11,
   "metadata": {
    "collapsed": false
   },
   "outputs": [],
   "source": [
    "from IPython.core.display import HTML\n",
    "import commands\n",
    "html=commands.getoutput('./revista.py 10.1103/PhysRevD.93.015012')"
   ]
  },
  {
   "cell_type": "code",
   "execution_count": 12,
   "metadata": {
    "collapsed": false
   },
   "outputs": [
    {
     "data": {
      "text/html": [
       "<table><tr><td><strong>Título del articulo</strong></td><td> Diboson anomaly: Heavy Higgs resonance and QCD vectorlike exotics </td></tr>\n",
       "<tr><td><strong>Nombre de la revista</strong></td><td> Physical Review D </td></tr>\n",
       "<tr><td><strong>Autores</strong></td><td> D. Aristizabal Sierra <br/>\n",
       "J. Herrero-Garcia <br/>\n",
       "D. Restrepo <br/>\n",
       "A. Vicente <br/>\n",
       " </td></tr>\n",
       "<tr><td><strong>Indexacion</strong></td><td> ISI, Scopus </td></tr>\n",
       "<tr><td><strong>DOI</strong></td><td> 10.1103/physrevd.93.015012 </td></tr>\n",
       "<tr><td><strong>ISSN Colciencias</strong></td><td>  </td></tr>\n",
       "<tr><td><strong>Clasificacion Colciencias</strong></td><td>  </td></tr>\n",
       "<tr><td><strong>ISSN</strong></td><td> [u'2470-0010', u'2470-0029'] </td></tr>\n",
       "<tr><td><strong>URL</strong></td><td> <a href=\"http://link.aps.org/article/10.1103/PhysRevD.93.015012\">http://link.aps.org/article/10.1103/PhysRevD.93.015012</a> </td></tr>\n",
       "</table>\n",
       "<strong>Abstract:</strong> </strong>(APS)<br/><span>The ATLAS Collaboration (and also CMS) has recently reported an excess over Standard Model expectations for gauge boson pair production in the invariant mass region 1.8–2.2 TeV. In light of these results, we argue that such a signal might be the first manifestation of the production and further decay of a heavy CP-even Higgs resulting from a type-I two Higgs doublet model. We demonstrate that in the presence of colored vectorlike fermions, its gluon fusion production cross section is strongly enhanced, with the enhancement depending on the color representation of the new fermion states. Our findings show that barring the color triplet case, any QCD “exotic” representation can fit the ATLAS result in fairly large portions of the parameter space. We have found that if the diboson excess is confirmed and this mechanism is indeed responsible for it, then the LHC Run-2 should find (i) a CP-odd scalar with mass below ∼2.3  TeV, (ii) new colored states with masses below ∼2  TeV, (iii) no statistically significant diboson events in the W±Z channel, (iv) events in the triboson channels W±W∓Z and ZZZ with invariant mass amounting to the mass of the CP-odd scalar.<br/></span><a href=\"#\" onclick=\"toggle_abstract(event, this)\"><strong>"
      ],
      "text/plain": [
       "<IPython.core.display.HTML object>"
      ]
     },
     "execution_count": 12,
     "metadata": {},
     "output_type": "execute_result"
    }
   ],
   "source": [
    "HTML(html)"
   ]
  },
  {
   "cell_type": "markdown",
   "metadata": {},
   "source": [
    "<strong>T\\xc3\\xadtulo del articulo:</strong> Diboson anomaly: Heavy Higgs resonance and QCD vectorlike exotics <br/>\\n<strong>Nombre de la revista:</strong> Physical Review D <br/>\\n<strong>Autores:</strong> <strong>Autores:</strong> D. Aristizabal Sierra <br/>\\n<strong>Autores:</strong> J. Herrero-Garcia <br/>\\n<strong>Autores:</strong> D. Restrepo <br/>\\n<strong>Autores:</strong> A. Vicente <br/>\\n <br/>\\n<strong>Indexacion:</strong> ISI, Scopus <br/>\\n<strong>DOI:</strong> 10.1103/physrevd.93.015012 <br/>\\n<strong>ISSN Colciencias:</strong>  <br/>\\n<strong>Clasificacion Colciencias:</strong>  <br/>\\n<strong>ISSN:</strong> [u\\'2470-0010\\', u\\'2470-0029\\'] <br/>\\n<strong>URL:</strong> <a href=\"http://link.aps.org/article/10.1103/PhysRevD.93.015012\">http://link.aps.org/article/10.1103/PhysRevD.93.015012</a> <br/>\\n\\n<strong>Abstract:</strong> </strong>(APS)<br/><span>The ATLAS Collaboration (and also CMS) has recently reported an excess over Standard Model expectations for gauge boson pair production in the invariant mass region 1.8\\xe2\\x80\\x932.2\\xc2\\xa0TeV. In light of these results, we argue that such a signal might be the first manifestation of the production and further decay of a heavy CP-even Higgs resulting from a type-I two Higgs doublet model. We demonstrate that in the presence of colored vectorlike fermions, its gluon fusion production cross section is strongly enhanced, with the enhancement depending on the color representation of the new fermion states. Our findings show that barring the color triplet case, any QCD \\xe2\\x80\\x9cexotic\\xe2\\x80\\x9d representation can fit the ATLAS result in fairly large portions of the parameter space. We have found that if the diboson excess is confirmed and this mechanism is indeed responsible for it, then the LHC Run-2 should find (i)\\xc2\\xa0a CP-odd scalar with mass below \\xe2\\x88\\xbc2.3\\xe2\\x80\\x89\\xe2\\x80\\x89TeV, (ii)\\xc2\\xa0new colored states with masses below \\xe2\\x88\\xbc2\\xe2\\x80\\x89\\xe2\\x80\\x89TeV, (iii)\\xc2\\xa0no statistically significant diboson events in the W\\xc2\\xb1Z channel, (iv)\\xc2\\xa0events in the triboson channels W\\xc2\\xb1W\\xe2\\x88\\x93Z and ZZZ with invariant mass amounting to the mass of the CP-odd scalar.<br/></span><a href=\"#\" onclick=\"toggle_abstract(event, this)\"><strong>"
   ]
  },
  {
   "cell_type": "code",
   "execution_count": null,
   "metadata": {
    "collapsed": true
   },
   "outputs": [],
   "source": []
  }
 ],
 "metadata": {
  "kernelspec": {
   "display_name": "Python 2",
   "language": "python",
   "name": "python2"
  },
  "language_info": {
   "codemirror_mode": {
    "name": "ipython",
    "version": 2
   },
   "file_extension": ".py",
   "mimetype": "text/x-python",
   "name": "python",
   "nbconvert_exporter": "python",
   "pygments_lexer": "ipython2",
   "version": "2.7.9"
  }
 },
 "nbformat": 4,
 "nbformat_minor": 0
}
