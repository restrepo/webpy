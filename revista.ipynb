{
 "cells": [
  {
   "cell_type": "code",
   "execution_count": 46,
   "metadata": {
    "collapsed": false
   },
   "outputs": [
    {
     "data": {
      "text/html": [
       "/usr/local/lib/python2.7/dist-packages/pandas/core/ops.py:535: UnicodeWarning: Unicode equal comparison failed to convert both arguments to Unicode - interpreting them as being unequal\n",
       "  result = lib.scalar_compare(x, y, op)\n",
       "<table><tr><td><strong>Título del artículo</strong></td><td> Diboson anomaly: Heavy Higgs resonance and QCD vectorlike exotics </td></tr>\n",
       "<tr><td><strong>Nombre de la revista</strong></td><td> Physical Review D </td></tr>\n",
       "<tr><td><strong>DOI</strong></td><td> 10.1103/physrevd.93.015012 </td></tr>\n",
       "<tr><td><strong>Institución que publica</strong></td><td> American Physical Society (APS) </td></tr>\n",
       "<tr><td><strong>País</strong></td><td>  </td></tr>\n",
       "<tr><td><strong>Ciudad</strong></td><td>  </td></tr>\n",
       "<tr><td><strong>ISSN Colciencias</strong></td><td> 1550-7998 </td></tr>\n",
       "<tr><td><strong>Indexación</strong></td><td> ISI, Scopus </td></tr>\n",
       "<tr><td><strong>Idioma</strong></td><td>  </td></tr>\n",
       "<tr><td><strong>Año</strong></td><td> 2,0,1,6 </td></tr>\n",
       "<tr><td><strong>Mes</strong></td><td> 1 </td></tr>\n",
       "<tr><td><strong>Día</strong></td><td> 2,1 </td></tr>\n",
       "<tr><td><strong>Volumen</strong></td><td> 9,3 </td></tr>\n",
       "<tr><td><strong>Número</strong></td><td> 0,1,5,0,1,2 </td></tr>\n",
       "<tr><td><strong>Autores</strong></td><td> D. Aristizabal Sierra <br/>\n",
       "J. Herrero-Garcia <br/>\n",
       "D. Restrepo <br/>\n",
       "A. Vicente <br/>\n",
       " </td></tr>\n",
       "<tr><td><strong>Clasificación Colciencias</strong></td><td> A1 </td></tr>\n",
       "<tr><td><strong>ISSN</strong></td><td> [u'2470-0010', u'2470-0029'] </td></tr>\n",
       "<tr><td><strong>URL</strong></td><td> <a href=\"http://link.aps.org/article/10.1103/PhysRevD.93.015012\">http://link.aps.org/article/10.1103/PhysRevD.93.015012</a> </td></tr>\n",
       "</table>\n",
       "<strong>Abstract:</strong> </strong>(APS)<br/><span>The ATLAS Collaboration (and also CMS) has recently reported an excess over Standard Model expectations for gauge boson pair production in the invariant mass region 1.8–2.2 TeV. In light of these results, we argue that such a signal might be the first manifestation of the production and further decay of a heavy CP-even Higgs resulting from a type-I two Higgs doublet model. We demonstrate that in the presence of colored vectorlike fermions, its gluon fusion production cross section is strongly enhanced, with the enhancement depending on the color representation of the new fermion states. Our findings show that barring the color triplet case, any QCD “exotic” representation can fit the ATLAS result in fairly large portions of the parameter space. We have found that if the diboson excess is confirmed and this mechanism is indeed responsible for it, then the LHC Run-2 should find (i) a CP-odd scalar with mass below ∼2.3  TeV, (ii) new colored states with masses below ∼2  TeV, (iii) no statistically significant diboson events in the W±Z channel, (iv) events in the triboson channels W±W∓Z and ZZZ with invariant mass amounting to the mass of the CP-odd scalar.<br/></span><a href=\"#\" onclick=\"toggle_abstract(event, this)\"><strong>"
      ],
      "text/plain": [
       "<IPython.core.display.HTML object>"
      ]
     },
     "execution_count": 46,
     "metadata": {},
     "output_type": "execute_result"
    }
   ],
   "source": [
    "from IPython.core.display import HTML\n",
    "import commands\n",
    "html=commands.getoutput('./revista.py 10.1103/PhysRevD.93.015012')\n",
    "HTML(html)"
   ]
  },
  {
   "cell_type": "code",
   "execution_count": 19,
   "metadata": {
    "collapsed": false
   },
   "outputs": [
    {
     "name": "stdout",
     "output_type": "stream",
     "text": [
      "<table><tr><td><strong>Título del articulo</strong></td><td> Diboson anomaly: Heavy Higgs resonance and QCD vectorlike exotics </td></tr>\n",
      "<tr><td><strong>Nombre de la revista</strong></td><td> Physical Review D </td></tr>\n",
      "<tr><td><strong>DOI</strong></td><td> 10.1103/physrevd.93.015012 </td></tr>\n",
      "<tr><td><strong>Autores</strong></td><td> D. Aristizabal Sierra <br/>\n",
      "J. Herrero-Garcia <br/>\n",
      "D. Restrepo <br/>\n",
      "A. Vicente <br/>\n",
      " </td></tr>\n",
      "<tr><td><strong>Indexacion</strong></td><td> ISI, Scopus </td></tr>\n",
      "<tr><td><strong>ISSN Colciencias</strong></td><td>  </td></tr>\n",
      "<tr><td><strong>Clasificacion Colciencias</strong></td><td>  </td></tr>\n",
      "<tr><td><strong>ISSN</strong></td><td> [u'2470-0010', u'2470-0029'] </td></tr>\n",
      "<tr><td><strong>URL</strong></td><td> <a href=\"http://link.aps.org/article/10.1103/PhysRevD.93.015012\">http://link.aps.org/article/10.1103/PhysRevD.93.015012</a> </td></tr>\n",
      "</table>\n",
      "<strong>Abstract:</strong> </strong>(APS)<br/><span>The ATLAS Collaboration (and also CMS) has recently reported an excess over Standard Model expectations for gauge boson pair production in the invariant mass region 1.8–2.2 TeV. In light of these results, we argue that such a signal might be the first manifestation of the production and further decay of a heavy CP-even Higgs resulting from a type-I two Higgs doublet model. We demonstrate that in the presence of colored vectorlike fermions, its gluon fusion production cross section is strongly enhanced, with the enhancement depending on the color representation of the new fermion states. Our findings show that barring the color triplet case, any QCD “exotic” representation can fit the ATLAS result in fairly large portions of the parameter space. We have found that if the diboson excess is confirmed and this mechanism is indeed responsible for it, then the LHC Run-2 should find (i) a CP-odd scalar with mass below ∼2.3  TeV, (ii) new colored states with masses below ∼2  TeV, (iii) no statistically significant diboson events in the W±Z channel, (iv) events in the triboson channels W±W∓Z and ZZZ with invariant mass amounting to the mass of the CP-odd scalar.<br/></span><a href=\"#\" onclick=\"toggle_abstract(event, this)\"><strong>\n"
     ]
    }
   ],
   "source": [
    "run revista.py '10.1103/PhysRevD.93.015012'"
   ]
  },
  {
   "cell_type": "code",
   "execution_count": 20,
   "metadata": {
    "collapsed": false
   },
   "outputs": [
    {
     "data": {
      "text/plain": [
       "DOI                                                                                                                                                                                                                                                                                                                                                                                                                                                                                                 10.1103/physrevd.93.015012\n",
       "ISSN                                                                                                                                                                                                                                                                                                                                                                                                                                                                                                    [2470-0010, 2470-0029]\n",
       "URL                                                                                                                                                                                                                                                                                                                                                                                                                                                                               http://dx.doi.org/10.1103/PhysRevD.93.015012\n",
       "article-number                                                                                                                                                                                                                                                                                                                                                                                                                                                                                                          015012\n",
       "author                                                                                                                                                                                                                                             [{u'affiliation': [], u'given': u'D.', u'family': u'Aristizabal Sierra'}, {u'affiliation': [], u'given': u'J.', u'family': u'Herrero-Garcia'}, {u'affiliation': [], u'given': u'D.', u'family': u'Restrepo'}, {u'affiliation': [], u'given': u'A.', u'family': u'Vicente'}]\n",
       "container-title                                                                                                                                                                                                                                                                                                                                                                                                                                                                                              Physical Review D\n",
       "created                                                                                                                                                                                                                                                                                                                                                                                                                   {u'timestamp': 1453473557000, u'date-time': u'2016-01-22T14:39:17Z', u'date-parts': [[2016, 1, 22]]}\n",
       "deposited                                                                                                                                                                                                                                                                                                                                                                                                                 {u'timestamp': 1453730525000, u'date-time': u'2016-01-25T14:02:05Z', u'date-parts': [[2016, 1, 25]]}\n",
       "funder              [{u'doi-asserted-by': u'publisher', u'DOI': u'10.13039/501100003359', u'name': u'Generalitat Valenciana', u'award': [u'FPA2011-22975', u'PROMETEOII/2014/084']}, {u'doi-asserted-by': u'publisher', u'DOI': u'10.13039/501100003329', u'name': u'Ministerio de Economía y Competitividad', u'award': [u'SEV-2014-0398', u'CSD2009-00064', u'FPA2014-58183-P']}, {u'doi-asserted-by': u'publisher', u'DOI': u'10.13039/501100002661', u'name': u'Fonds De La Recherche Scientifique - FNRS', u'award': []}]\n",
       "indexed                                                                                                                                                                                                                                                                                                                                                                                                                   {u'timestamp': 1453979931321, u'date-time': u'2016-01-28T11:18:51Z', u'date-parts': [[2016, 1, 28]]}\n",
       "issue                                                                                                                                                                                                                                                                                                                                                                                                                                                                                                                        1\n",
       "issued                                                                                                                                                                                                                                                                                                                                                                                                                                                                                        {u'date-parts': [[2016, 1, 21]]}\n",
       "license                                                                                                                                                                                                                                                                                       [{u'delay-in-days': 0, u'start': {u'timestamp': 1453334400000, u'date-time': u'2016-01-21T00:00:00Z', u'date-parts': [[2016, 1, 21]]}, u'content-version': u'vor', u'URL': u'http://link.aps.org/licenses/aps-default-license'}]\n",
       "link                                                                                                                                                                                                                                                                                                                                               [{u'intended-application': u'syndication', u'URL': u'http://link.aps.org/article/10.1103/PhysRevD.93.015012', u'content-version': u'vor', u'content-type': u'unspecified'}]\n",
       "member                                                                                                                                                                                                                                                                                                                                                                                                                                                                                        http://id.crossref.org/member/16\n",
       "prefix                                                                                                                                                                                                                                                                                                                                                                                                                                                                                   http://id.crossref.org/prefix/10.1103\n",
       "published-online                                                                                                                                                                                                                                                                                                                                                                                                                                                                              {u'date-parts': [[2016, 1, 21]]}\n",
       "publisher                                                                                                                                                                                                                                                                                                                                                                                                                                                                                      American Physical Society (APS)\n",
       "reference-count                                                                                                                                                                                                                                                                                                                                                                                                                                                                                                             59\n",
       "score                                                                                                                                                                                                                                                                                                                                                                                                                                                                                                                        1\n",
       "source                                                                                                                                                                                                                                                                                                                                                                                                                                                                                                                CrossRef\n",
       "subtitle                                                                                                                                                                                                                                                                                                                                                                                                                                                                                                                    []\n",
       "title                                                                                                                                                                                                                                                                                                                                                                                                                                                        Diboson anomaly: Heavy Higgs resonance and QCD vectorlike exotics\n",
       "type                                                                                                                                                                                                                                                                                                                                                                                                                                                                                                           journal-article\n",
       "volume                                                                                                                                                                                                                                                                                                                                                                                                                                                                                                                      93\n",
       "ISSN_colciencias                                                                                                                                                                                                                                                                                                                                                                                                                                                                                                              \n",
       "ISSN_type                                                                                                                                                                                                                                                                                                                                                                                                                                                                                                                     \n",
       "autores                                                                                                                                                                                                                                                                                                                                                                                                                            D. Aristizabal Sierra <br/>\\nJ. Herrero-Garcia <br/>\\nD. Restrepo <br/>\\nA. Vicente <br/>\\n\n",
       "indexacion                                                                                                                                                                                                                                                                                                                                                                                                                                                                                                         ISI, Scopus\n",
       "redirect                                                                                                                                                                                                                                                                                                                                                                                           <a href=\"http://link.aps.org/article/10.1103/PhysRevD.93.015012\">http://link.aps.org/article/10.1103/PhysRevD.93.015012</a>\n",
       "dtype: object"
      ]
     },
     "execution_count": 20,
     "metadata": {},
     "output_type": "execute_result"
    }
   ],
   "source": [
    "art"
   ]
  },
  {
   "cell_type": "code",
   "execution_count": null,
   "metadata": {
    "collapsed": true
   },
   "outputs": [],
   "source": []
  }
 ],
 "metadata": {
  "kernelspec": {
   "display_name": "Python 2",
   "language": "python",
   "name": "python2"
  },
  "language_info": {
   "codemirror_mode": {
    "name": "ipython",
    "version": 2
   },
   "file_extension": ".py",
   "mimetype": "text/x-python",
   "name": "python",
   "nbconvert_exporter": "python",
   "pygments_lexer": "ipython2",
   "version": "2.7.9"
  }
 },
 "nbformat": 4,
 "nbformat_minor": 0
}
