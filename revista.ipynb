{
 "cells": [
  {
   "cell_type": "code",
   "execution_count": 77,
   "metadata": {
    "collapsed": false
   },
   "outputs": [
    {
     "data": {
      "text/html": [
       "/usr/local/lib/python2.7/dist-packages/pandas/core/ops.py:535: UnicodeWarning: Unicode equal comparison failed to convert both arguments to Unicode - interpreting them as being unequal\n",
       "  result = lib.scalar_compare(x, y, op)\n",
       "Traceback (most recent call last):\n",
       "  File \"./revista.py\", line 161, in <module>\n",
       "    ro=OUTPUT(art,Oouput)\n",
       "NameError: name 'Oouput' is not defined"
      ],
      "text/plain": [
       "<IPython.core.display.HTML object>"
      ]
     },
     "execution_count": 77,
     "metadata": {},
     "output_type": "execute_result"
    }
   ],
   "source": [
    "from IPython.core.display import HTML\n",
    "import commands\n",
    "html=commands.getoutput('./revista.py 10.1103/PhysRevD.93.015012')\n",
    "HTML(html)"
   ]
  },
  {
   "cell_type": "code",
   "execution_count": 125,
   "metadata": {
    "collapsed": false
   },
   "outputs": [
    {
     "name": "stdout",
     "output_type": "stream",
     "text": [
      "Copy the next table and paste into the Copy sheet of:\n",
      "               <a href=\"https://goo.gl/WnSY7M\">\"Formato revista\"</a>,<br/>\n",
      "               and fill the empy fields in that Copy sheet.<br/>\n",
      "               Fill (or fix) for ISSN Colciencias, journal country, city and language at: \n",
      "               <a href=\"https://goo.gl/5nfX7c\">https://goo.gl/5nfX7c</a><br/><table border=\"1\"><tr><td><strong>Título del artículo</strong></td><td> Intersubband linear and nonlinear optical response of the delta-doped SiGe quantum well </td></tr>\n",
      "<tr><td><strong>Nombre de la revista</strong></td><td> Superlattices and Microstructures </td></tr>\n",
      "<tr><td><strong>DOI</strong></td><td> 10.1016/j.spmi.2015.05.039 </td></tr>\n",
      "<tr><td><strong>Institución que publica</strong></td><td> Elsevier BV </td></tr>\n",
      "<tr><td><strong>País</strong></td><td> Holanda </td></tr>\n",
      "<tr><td><strong>Ciudad</strong></td><td> Amsterdam </td></tr>\n",
      "<tr><td><strong>ISSN Colciencias</strong></td><td> 0749-6036 </td></tr>\n",
      "<tr><td><strong>Idioma</strong></td><td> Inglés </td></tr>\n",
      "<tr><td><strong>Año</strong></td><td> 2,0,1,5 </td></tr>\n",
      "<tr><td><strong>Mes</strong></td><td> 1,1 </td></tr>\n",
      "<tr><td><strong>Día</strong></td><td>  </td></tr>\n",
      "<tr><td><strong>Volumen</strong></td><td> 8,7 </td></tr>\n",
      "<tr><td><strong>Número</strong></td><td> 1,2,5 </td></tr>\n",
      "<tr><td><strong>Nro páginas</strong></td><td> 5 </td></tr>\n",
      "<tr><td><strong>Tiraje</strong></td><td>  </td></tr>\n",
      "<tr><td><strong>Revista</strong></td><td>  </td></tr>\n",
      "<tr><td><strong>Fotocopia</strong></td><td>  </td></tr>\n",
      "<tr><td><strong>Otro</strong></td><td>  </td></tr>\n",
      "<tr><td><strong>Fecha presentación: Año</strong></td><td> 2,0,1,6 </td></tr>\n",
      "<tr><td><strong>Fecha presentación: Mes</strong></td><td> 0,2 </td></tr>\n",
      "<tr><td><strong>Fecha presentación: Día</strong></td><td> 0,3 </td></tr>\n",
      "<tr><td><strong>Autores</strong></td><td> C.A. Duque <br/>\n",
      "V. Akimov <br/>\n",
      "R. Demediuk <br/>\n",
      "V. Belykh <br/>\n",
      "A. Tiutiunnyk <br/>\n",
      "A.L. Morales <br/>\n",
      "R.L. Restrepo <br/>\n",
      "M.E. Mora-Ramos <br/>\n",
      "O. Fomina <br/>\n",
      "V. Tulupenko <br/>\n",
      " </td></tr>\n",
      "<tr><td><strong>Clasificación Colciencias</strong></td><td> A2 </td></tr>\n",
      "<tr><td><strong>ISSN</strong></td><td> [u'0749-6036'] </td></tr>\n",
      "<tr><td><strong>URL</strong></td><td> <a href=\"http://api.elsevier.com/content/article/PII:S0749603615300185?httpAccept=text/xml\">http://api.elsevier.com/content/article/PII:S0749603615300185?httpAccept=text/xml</a> </td></tr>\n",
      "</table>\n",
      "<br/>Jason output at http://gfif.udea.edu.co/python/revista.xml<br/>\n",
      "<br/>Jason output at http://gfif.udea.edu.co/python/revista.json<br/>\n"
     ]
    }
   ],
   "source": [
    "run revista.py '10.1016/j.spmi.2015.05.039'"
   ]
  },
  {
   "cell_type": "code",
   "execution_count": 117,
   "metadata": {
    "collapsed": false
   },
   "outputs": [
    {
     "name": "stdout",
     "output_type": "stream",
     "text": [
      "<?xml version=\"1.0\" encoding=\"UTF-8\"?>\n",
      "<?xml-stylesheet type=\"text/xsl\" media=\"screen\" href=\"/~d/styles/atom10full.xsl\"?><?xml-stylesheet type=\"text/css\" media=\"screen\" href=\"http://feeds.feedburner.com/~d/styles/itemcontent.css\"?>\n",
      "<feed xmlns=\"http://www.w3.org/2005/Atom\" xmlns:openSearch=\"http://a9.com/-/spec/opensearchrss/1.0/\" xmlns:blogger=\"http://schemas.google.com/blogger/2008\" xmlns:georss=\"http://www.georss.org/georss\" xmlns:gd=\"http://schemas.google.com/g/2005\" xmlns:thr=\"http://purl.org/syndication/thread/1.0\" xmlns:feedburner=\"http://rssnamespace.org/feedburner/ext/1.0\">\n",
      "<entry>\n",
      "<title type=\"text\">Título del artículo</title><published>Intersubband linear and nonlinear optical response of the delta-doped SiGe quantum well</published></entry>\n",
      "<entry>\n",
      "<title type=\"text\">Nombre de la revista</title><published>Superlattices and Microstructures</published></entry>\n",
      "<entry>\n",
      "<title type=\"text\">DOI</title><published>10.1016/j.spmi.2015.05.039</published></entry>\n",
      "<entry>\n",
      "<title type=\"text\">Institución que publica</title><published>Elsevier BV</published></entry>\n",
      "<entry>\n",
      "<title type=\"text\">País</title><published>Holanda</published></entry>\n",
      "<entry>\n",
      "<title type=\"text\">Ciudad</title><published>Amsterdam</published></entry>\n",
      "<entry>\n",
      "<title type=\"text\">ISSN Colciencias</title><published>0749-6036</published></entry>\n",
      "<entry>\n",
      "<title type=\"text\">Idioma</title><published>Inglés</published></entry>\n",
      "<entry>\n",
      "<title type=\"text\">Año</title><published>2,0,1,5</published></entry>\n",
      "<entry>\n",
      "<title type=\"text\">Mes</title><published>1,1</published></entry>\n",
      "<entry>\n",
      "<title type=\"text\">Día</title><published></published></entry>\n",
      "<entry>\n",
      "<title type=\"text\">Volumen</title><published>8,7</published></entry>\n",
      "<entry>\n",
      "<title type=\"text\">Número</title><published>1,2,5</published></entry>\n",
      "<entry>\n",
      "<title type=\"text\">Nro páginas</title><published>5</published></entry>\n",
      "<entry>\n",
      "<title type=\"text\">Tiraje</title><published></published></entry>\n",
      "<entry>\n",
      "<title type=\"text\">Revista</title><published></published></entry>\n",
      "<entry>\n",
      "<title type=\"text\">Fotocopia</title><published></published></entry>\n",
      "<entry>\n",
      "<title type=\"text\">Otro</title><published></published></entry>\n",
      "<entry>\n",
      "<title type=\"text\">Fecha presentación: Año</title><published>2,0,1,6</published></entry>\n",
      "<entry>\n",
      "<title type=\"text\">Fecha presentación: Mes</title><published>0,2</published></entry>\n",
      "<entry>\n",
      "<title type=\"text\">Fecha presentación: Día</title><published>0,2</published></entry>\n",
      "<entry>\n",
      "<title type=\"text\">Autores</title><published>C.A. Duque <br/>\n",
      "V. Akimov <br/>\n",
      "R. Demediuk <br/>\n",
      "V. Belykh <br/>\n",
      "A. Tiutiunnyk <br/>\n",
      "A.L. Morales <br/>\n",
      "R.L. Restrepo <br/>\n",
      "M.E. Mora-Ramos <br/>\n",
      "O. Fomina <br/>\n",
      "V. Tulupenko <br/>\n",
      "</published></entry>\n",
      "<entry>\n",
      "<title type=\"text\">Clasificación Colciencias</title><published>A2</published></entry>\n",
      "<entry>\n",
      "<title type=\"text\">ISSN</title><published>[u'0749-6036']</published></entry>\n",
      "<entry>\n",
      "<title type=\"text\">URL</title><published><a href=\"http://api.elsevier.com/content/article/PII:S0749603615300185?httpAccept=text/xml\">http://api.elsevier.com/content/article/PII:S0749603615300185?httpAccept=text/xml</a></published></entry>\n",
      "</feed>\n",
      "\n"
     ]
    }
   ],
   "source": [
    "print ro['udea_xml']"
   ]
  },
  {
   "cell_type": "code",
   "execution_count": 95,
   "metadata": {
    "collapsed": false
   },
   "outputs": [
    {
     "name": "stdout",
     "output_type": "stream",
     "text": [
      "<?xml version=\"1.0\" encoding=\"UTF-8\"?>\r\n",
      "<?xml-stylesheet type=\"text/xsl\" media=\"screen\" href=\"/~d/styles/atom10full.xsl\"?><?xml-stylesheet type=\"text/css\" media=\"screen\" href=\"http://feeds.feedburner.com/~d/styles/itemcontent.css\"?>\r\n",
      "<feed xmlns=\"http://www.w3.org/2005/Atom\" xmlns:openSearch=\"http://a9.com/-/spec/opensearchrss/1.0/\" xmlns:blogger=\"http://schemas.google.com/blogger/2008\" xmlns:georss=\"http://www.georss.org/georss\" xmlns:gd=\"http://schemas.google.com/g/2005\" xmlns:thr=\"http://purl.org/syndication/thread/1.0\" xmlns:feedburner=\"http://rssnamespace.org/feedburner/ext/1.0\">\r\n",
      "<entry>\r\n",
      "<title type=\"text\">Título del artículo</title><published>Fermion dark matter from SO(10) GUTs</published></entry>\r\n",
      "<entry>\r\n",
      "<title type=\"text\">Nombre de la revista</title><published>Physical Review D</published></entry>\r\n",
      "<entry>\r\n",
      "<title type=\"text\">DOI</title><published>10.1103/physrevd.93.013012</published></entry>\r\n",
      "<entry>\r\n",
      "<title type=\"text\">Institución que publica</title><published>American Physical Society (APS)</published></entry>\r\n",
      "<entry>\r\n",
      "<title type=\"text\">País</title><published>Estados Unidos</published></entry>\r\n",
      "<entry>\r\n",
      "<title type=\"text\">Ciudad</title><published>Nueva York</published></entry>\r\n",
      "<entry>\r\n",
      "<title type=\"text\">ISSN Colciencias</title><published>1550-7998</published></entry>\r\n",
      "<entry>\r\n",
      "<title type=\"text\">Idioma</title><published>Inglés</published></entry>\r\n",
      "<entry>\r\n",
      "<title type=\"text\">Año</title><published>2,0,1,6</published></entry>\r\n",
      "<entry>\r\n",
      "<title type=\"text\">Mes</title><published>1</published></entry>\r\n",
      "<entry>\r\n",
      "<title type=\"text\">Día</title><published>1,3</published></entry>\r\n",
      "<entry>\r\n",
      "<title type=\"text\">Volumen</title><published>9,3</published></entry>\r\n",
      "<entry>\r\n",
      "<title type=\"text\">Número</title><published>0,1,3,0,1,2</published></entry>\r\n",
      "<entry>\r\n",
      "<title type=\"text\">Nro páginas</title><published></published></entry>\r\n",
      "<entry>\r\n",
      "<title type=\"text\">Tiraje</title><published></published></entry>\r\n",
      "<entry>\r\n",
      "<title type=\"text\">Revista</title><published></published></entry>\r\n",
      "<entry>\r\n",
      "<title type=\"text\">Fotocopia</title><published></published></entry>\r\n",
      "<entry>\r\n",
      "<title type=\"text\">Otro</title><published></published></entry>\r\n",
      "<entry>\r\n",
      "<title type=\"text\">Fecha presentación: Año</title><published>2,0,1,6</published></entry>\r\n",
      "<entry>\r\n",
      "<title type=\"text\">Fecha presentación: Mes</title><published>0,2</published></entry>\r\n",
      "<entry>\r\n",
      "<title type=\"text\">Fecha presentación: Día</title><published>0,2</published></entry>\r\n",
      "<entry>\r\n",
      "<title type=\"text\">Autores</title><published>Carolina Arbeláez <br/>\r\n",
      "Robinson Longas <br/>\r\n",
      "Diego Restrepo <br/>\r\n",
      "Oscar Zapata <br/>\r\n",
      "</published></entry>\r\n",
      "<entry>\r\n",
      "<title type=\"text\">Clasificación Colciencias</title><published>A1</published></entry>\r\n",
      "<entry>\r\n",
      "<title type=\"text\">ISSN</title><published>[u'2470-0010', u'2470-0029']</published></entry>\r\n",
      "<entry>\r\n",
      "<title type=\"text\">URL</title><published><a href=\"http://link.aps.org/article/10.1103/PhysRevD.93.013012\">http://link.aps.org/article/10.1103/PhysRevD.93.013012</a></published></entry>\r\n",
      "</feed>\r\n"
     ]
    }
   ],
   "source": [
    "%cat revista.xml"
   ]
  },
  {
   "cell_type": "code",
   "execution_count": 119,
   "metadata": {
    "collapsed": false
   },
   "outputs": [
    {
     "data": {
      "text/plain": [
       "{u'DOI': u'10.1016/j.spmi.2015.05.039',\n",
       " u'ISSN': [u'0749-6036'],\n",
       " 'ISSN_colciencias': '0749-6036',\n",
       " 'ISSN_type': 'A2',\n",
       " u'URL': u'http://dx.doi.org/10.1016/j.spmi.2015.05.039',\n",
       " u'alternative-id': [u'S0749603615300185'],\n",
       " 'article-number': '1,2,5',\n",
       " u'assertion': [{u'label': u'This article is maintained by',\n",
       "   u'name': u'publisher',\n",
       "   u'value': u'Elsevier'},\n",
       "  {u'label': u'Article Title',\n",
       "   u'name': u'articletitle',\n",
       "   u'value': u'Intersubband linear and nonlinear optical response of the delta-doped SiGe quantum well'},\n",
       "  {u'label': u'Journal Title',\n",
       "   u'name': u'journaltitle',\n",
       "   u'value': u'Superlattices and Microstructures'},\n",
       "  {u'label': u'CrossRef DOI link to publisher maintained version',\n",
       "   u'name': u'articlelink',\n",
       "   u'value': u'http://dx.doi.org/10.1016/j.spmi.2015.05.039'},\n",
       "  {u'label': u'Content Type', u'name': u'content_type', u'value': u'article'},\n",
       "  {u'label': u'Copyright',\n",
       "   u'name': u'copyright',\n",
       "   u'value': u'Copyright \\xa9 2015 Elsevier Ltd. All rights reserved.'}],\n",
       " u'author': [{u'affiliation': [], u'family': u'Duque', u'given': u'C.A.'},\n",
       "  {u'affiliation': [], u'family': u'Akimov', u'given': u'V.'},\n",
       "  {u'affiliation': [], u'family': u'Demediuk', u'given': u'R.'},\n",
       "  {u'affiliation': [], u'family': u'Belykh', u'given': u'V.'},\n",
       "  {u'affiliation': [], u'family': u'Tiutiunnyk', u'given': u'A.'},\n",
       "  {u'affiliation': [], u'family': u'Morales', u'given': u'A.L.'},\n",
       "  {u'affiliation': [], u'family': u'Restrepo', u'given': u'R.L.'},\n",
       "  {u'affiliation': [], u'family': u'Mora-Ramos', u'given': u'M.E.'},\n",
       "  {u'affiliation': [], u'family': u'Fomina', u'given': u'O.'},\n",
       "  {u'affiliation': [], u'family': u'Tulupenko', u'given': u'V.'}],\n",
       " 'autores': u'C.A. Duque <br/>\\nV. Akimov <br/>\\nR. Demediuk <br/>\\nV. Belykh <br/>\\nA. Tiutiunnyk <br/>\\nA.L. Morales <br/>\\nR.L. Restrepo <br/>\\nM.E. Mora-Ramos <br/>\\nO. Fomina <br/>\\nV. Tulupenko <br/>\\n',\n",
       " 'city': u'Amsterdam',\n",
       " u'container-title': u'Superlattices and Microstructures',\n",
       " 'country': u'Holanda',\n",
       " u'created': {u'date-parts': [[2015, 5, 30]],\n",
       "  u'date-time': u'2015-05-30T16:02:08Z',\n",
       "  u'timestamp': 1433001728000},\n",
       " 'date-day': '0,2',\n",
       " 'date-month': '0,2',\n",
       " 'date-year': '2,0,1,6',\n",
       " 'day': '',\n",
       " u'deposited': {u'date-parts': [[2015, 12, 1]],\n",
       "  u'date-time': u'2015-12-01T16:12:06Z',\n",
       "  u'timestamp': 1448986326000},\n",
       " 'fotocopia': '',\n",
       " 'indexacion': 'ISI, Scopus',\n",
       " u'indexed': {u'date-parts': [[2015, 12, 22]],\n",
       "  u'date-time': u'2015-12-22T17:32:13Z',\n",
       "  u'timestamp': 1450805533691},\n",
       " u'issued': {u'date-parts': [[2015, 11]]},\n",
       " 'language': u'Ingl\\xe9s',\n",
       " u'license': [{u'URL': u'http://www.elsevier.com/tdm/userlicense/1.0/',\n",
       "   u'content-version': u'tdm',\n",
       "   u'delay-in-days': 0,\n",
       "   u'start': {u'date-parts': [[2015, 11, 1]],\n",
       "    u'date-time': u'2015-11-01T00:00:00Z',\n",
       "    u'timestamp': 1446336000000}}],\n",
       " u'link': [{u'URL': u'http://api.elsevier.com/content/article/PII:S0749603615300185?httpAccept=text/xml',\n",
       "   u'content-type': u'text/xml',\n",
       "   u'content-version': u'vor',\n",
       "   u'intended-application': u'text-mining'},\n",
       "  {u'URL': u'http://api.elsevier.com/content/article/PII:S0749603615300185?httpAccept=text/plain',\n",
       "   u'content-type': u'text/plain',\n",
       "   u'content-version': u'vor',\n",
       "   u'intended-application': u'text-mining'}],\n",
       " u'member': u'http://id.crossref.org/member/78',\n",
       " 'month': '1,1',\n",
       " 'otro': '',\n",
       " u'page': u'125-130',\n",
       " 'pages': '5',\n",
       " u'prefix': u'http://id.crossref.org/prefix/10.1016',\n",
       " u'published-print': {u'date-parts': [[2015, 11]]},\n",
       " u'publisher': u'Elsevier BV',\n",
       " 'redirect': u'<a href=\"http://api.elsevier.com/content/article/PII:S0749603615300185?httpAccept=text/xml\">http://api.elsevier.com/content/article/PII:S0749603615300185?httpAccept=text/xml</a>',\n",
       " u'reference-count': 13,\n",
       " 'revista': '',\n",
       " u'score': 1.0,\n",
       " u'source': u'CrossRef',\n",
       " u'subject': [u'Electrical and Electronic Engineering',\n",
       "  u'Materials Science(all)',\n",
       "  u'Condensed Matter Physics'],\n",
       " u'subtitle': [],\n",
       " 'tiraje': '',\n",
       " u'title': u'Intersubband linear and nonlinear optical response of the delta-doped SiGe quantum well',\n",
       " u'type': u'journal-article',\n",
       " u'update-policy': u'http://dx.doi.org/10.1016/elsevier_cm_policy',\n",
       " u'volume': '8,7',\n",
       " 'year': '2,0,1,5'}"
      ]
     },
     "execution_count": 119,
     "metadata": {},
     "output_type": "execute_result"
    }
   ],
   "source": [
    "art.to_dict()"
   ]
  },
  {
   "cell_type": "code",
   "execution_count": 113,
   "metadata": {
    "collapsed": false
   },
   "outputs": [],
   "source": [
    "if 'page' in art.keys():\n",
    "    pages=art['page'].split('-')\n",
    "    if len(pages)==2:\n",
    "        art['pages']=','.join(list(str( -eval(art['page']) ) ))\n",
    "        \n",
    "    if not 'article-number' in art.keys():\n",
    "        art['article-number']=','.join(list(str(pages[0])))"
   ]
  },
  {
   "cell_type": "code",
   "execution_count": 114,
   "metadata": {
    "collapsed": false
   },
   "outputs": [
    {
     "data": {
      "text/plain": [
       "'5'"
      ]
     },
     "execution_count": 114,
     "metadata": {},
     "output_type": "execute_result"
    }
   ],
   "source": [
    "art['pages']"
   ]
  },
  {
   "cell_type": "code",
   "execution_count": 115,
   "metadata": {
    "collapsed": false
   },
   "outputs": [
    {
     "data": {
      "text/plain": [
       "'1,2,5'"
      ]
     },
     "execution_count": 115,
     "metadata": {},
     "output_type": "execute_result"
    }
   ],
   "source": [
    "art['article-number']"
   ]
  },
  {
   "cell_type": "code",
   "execution_count": 123,
   "metadata": {
    "collapsed": false
   },
   "outputs": [
    {
     "name": "stdout",
     "output_type": "stream",
     "text": [
      "Copy the next table and paste into the Copy sheet of:\n",
      "               <a href=\"https://goo.gl/WnSY7M\">\"Formato revista\"</a>,<br/>\n",
      "               and fill the empy fields in that Copy sheet.<br/>\n",
      "               Fill (or fix) for ISSN Colciencias, journal country, city and language at: \n",
      "               <a href=\"https://goo.gl/5nfX7c\">https://goo.gl/5nfX7c</a><br/><table border=\"1\"><tr><td><strong>Título del artículo</strong></td><td> Fermion dark matter from SO(10) GUTs </td></tr>\n",
      "<tr><td><strong>Nombre de la revista</strong></td><td> Physical Review D </td></tr>\n",
      "<tr><td><strong>DOI</strong></td><td> 10.1103/physrevd.93.013012 </td></tr>\n",
      "<tr><td><strong>Institución que publica</strong></td><td> American Physical Society (APS) </td></tr>\n",
      "<tr><td><strong>País</strong></td><td> Estados Unidos </td></tr>\n",
      "<tr><td><strong>Ciudad</strong></td><td> Nueva York </td></tr>\n",
      "<tr><td><strong>ISSN Colciencias</strong></td><td> 1550-7998 </td></tr>\n",
      "<tr><td><strong>Idioma</strong></td><td> Inglés </td></tr>\n",
      "<tr><td><strong>Año</strong></td><td> 2,0,1,6 </td></tr>\n",
      "<tr><td><strong>Mes</strong></td><td> 1 </td></tr>\n",
      "<tr><td><strong>Día</strong></td><td> 1,3 </td></tr>\n",
      "<tr><td><strong>Volumen</strong></td><td> 9,3 </td></tr>\n",
      "<tr><td><strong>Número</strong></td><td> 0,1,3,0,1,2 </td></tr>\n",
      "<tr><td><strong>Nro páginas</strong></td><td>  </td></tr>\n",
      "<tr><td><strong>Tiraje</strong></td><td>  </td></tr>\n",
      "<tr><td><strong>Revista</strong></td><td>  </td></tr>\n",
      "<tr><td><strong>Fotocopia</strong></td><td>  </td></tr>\n",
      "<tr><td><strong>Otro</strong></td><td>  </td></tr>\n",
      "<tr><td><strong>Fecha presentación: Año</strong></td><td> 2,0,1,6 </td></tr>\n",
      "<tr><td><strong>Fecha presentación: Mes</strong></td><td> 0,2 </td></tr>\n",
      "<tr><td><strong>Fecha presentación: Día</strong></td><td> 0,3 </td></tr>\n",
      "<tr><td><strong>Autores</strong></td><td> Carolina Arbeláez <br/>\n",
      "Robinson Longas <br/>\n",
      "Diego Restrepo <br/>\n",
      "Oscar Zapata <br/>\n",
      " </td></tr>\n",
      "<tr><td><strong>Clasificación Colciencias</strong></td><td> A1 </td></tr>\n",
      "<tr><td><strong>ISSN</strong></td><td> [u'2470-0010', u'2470-0029'] </td></tr>\n",
      "<tr><td><strong>URL</strong></td><td> <a href=\"http://link.aps.org/article/10.1103/PhysRevD.93.013012\">http://link.aps.org/article/10.1103/PhysRevD.93.013012</a> </td></tr>\n",
      "</table>\n"
     ]
    },
    {
     "ename": "NameError",
     "evalue": "name 'xname' is not defined",
     "output_type": "error",
     "traceback": [
      "\u001b[1;31m---------------------------------------------------------------------------\u001b[0m",
      "\u001b[1;31mNameError\u001b[0m                                 Traceback (most recent call last)",
      "\u001b[1;32m/var/www/python/revista.py\u001b[0m in \u001b[0;36m<module>\u001b[1;34m()\u001b[0m\n\u001b[0;32m    173\u001b[0m             \u001b[0mro\u001b[0m\u001b[1;33m=\u001b[0m\u001b[0mOUTPUT\u001b[0m\u001b[1;33m(\u001b[0m\u001b[0mart\u001b[0m\u001b[1;33m,\u001b[0m\u001b[0moutput\u001b[0m\u001b[1;33m=\u001b[0m\u001b[0moutput\u001b[0m\u001b[1;33m)\u001b[0m\u001b[1;33m\u001b[0m\u001b[0m\n\u001b[0;32m    174\u001b[0m             \u001b[1;32mprint\u001b[0m \u001b[0mro\u001b[0m\u001b[1;33m[\u001b[0m\u001b[1;34m'udea_html'\u001b[0m\u001b[1;33m]\u001b[0m\u001b[1;33m.\u001b[0m\u001b[0mencode\u001b[0m\u001b[1;33m(\u001b[0m\u001b[1;34m'utf-8'\u001b[0m\u001b[1;33m)\u001b[0m\u001b[1;33m\u001b[0m\u001b[0m\n\u001b[1;32m--> 175\u001b[1;33m             \u001b[0mf\u001b[0m\u001b[1;33m=\u001b[0m\u001b[0mopen\u001b[0m\u001b[1;33m(\u001b[0m\u001b[0mxname\u001b[0m\u001b[1;33m,\u001b[0m\u001b[1;34m'w'\u001b[0m\u001b[1;33m)\u001b[0m\u001b[1;33m\u001b[0m\u001b[0m\n\u001b[0m\u001b[0;32m    176\u001b[0m             \u001b[0mf\u001b[0m\u001b[1;33m.\u001b[0m\u001b[0mwrite\u001b[0m\u001b[1;33m(\u001b[0m\u001b[0mro\u001b[0m\u001b[1;33m[\u001b[0m\u001b[1;34m'udea_xml'\u001b[0m\u001b[1;33m]\u001b[0m\u001b[1;33m.\u001b[0m\u001b[0mencode\u001b[0m\u001b[1;33m(\u001b[0m\u001b[1;34m'utf-8'\u001b[0m\u001b[1;33m)\u001b[0m\u001b[1;33m)\u001b[0m\u001b[1;33m\u001b[0m\u001b[0m\n\u001b[0;32m    177\u001b[0m             \u001b[0mf\u001b[0m\u001b[1;33m.\u001b[0m\u001b[0mclose\u001b[0m\u001b[1;33m(\u001b[0m\u001b[1;33m)\u001b[0m\u001b[1;33m\u001b[0m\u001b[0m\n",
      "\u001b[1;31mNameError\u001b[0m: name 'xname' is not defined"
     ]
    }
   ],
   "source": [
    "run revista.py '10.1103/PhysRevD.93.013012'"
   ]
  },
  {
   "cell_type": "code",
   "execution_count": 88,
   "metadata": {
    "collapsed": false
   },
   "outputs": [
    {
     "name": "stdout",
     "output_type": "stream",
     "text": [
      "<?xml version=\"1.0\" encoding=\"UTF-8\"?>\n",
      "<?xml-stylesheet type=\"text/xsl\" media=\"screen\" href=\"/~d/styles/atom10full.xsl\"?><?xml-stylesheet type=\"text/css\" media=\"screen\" href=\"http://feeds.feedburner.com/~d/styles/itemcontent.css\"?>\n",
      "<feed xmlns=\"http://www.w3.org/2005/Atom\" xmlns:openSearch=\"http://a9.com/-/spec/opensearchrss/1.0/\" xmlns:blogger=\"http://schemas.google.com/blogger/2008\" xmlns:georss=\"http://www.georss.org/georss\" xmlns:gd=\"http://schemas.google.com/g/2005\" xmlns:thr=\"http://purl.org/syndication/thread/1.0\" xmlns:feedburner=\"http://rssnamespace.org/feedburner/ext/1.0\">\n",
      "<entry>\n",
      "<title type=\"text\">Título del artículo</title><published>Fermion dark matter from SO(10) GUTs</published></entry>\n",
      "<entry>\n",
      "<title type=\"text\">Nombre de la revista</title><published>Physical Review D</published></entry>\n",
      "<entry>\n",
      "<title type=\"text\">DOI</title><published>10.1103/physrevd.93.013012</published></entry>\n",
      "<entry>\n",
      "<title type=\"text\">Institución que publica</title><published>American Physical Society (APS)</published></entry>\n",
      "<entry>\n",
      "<title type=\"text\">País</title><published>Estados Unidos</published></entry>\n",
      "<entry>\n",
      "<title type=\"text\">Ciudad</title><published>Nueva York</published></entry>\n",
      "<entry>\n",
      "<title type=\"text\">ISSN Colciencias</title><published>1550-7998</published></entry>\n",
      "<entry>\n",
      "<title type=\"text\">Idioma</title><published>Inglés</published></entry>\n",
      "<entry>\n",
      "<title type=\"text\">Año</title><published>2,0,1,6</published></entry>\n",
      "<entry>\n",
      "<title type=\"text\">Mes</title><published>1</published></entry>\n",
      "<entry>\n",
      "<title type=\"text\">Día</title><published>1,3</published></entry>\n",
      "<entry>\n",
      "<title type=\"text\">Volumen</title><published>9,3</published></entry>\n",
      "<entry>\n",
      "<title type=\"text\">Número</title><published>0,1,3,0,1,2</published></entry>\n",
      "<entry>\n",
      "<title type=\"text\">Nro páginas</title><published></published></entry>\n",
      "<entry>\n",
      "<title type=\"text\">Tiraje</title><published></published></entry>\n",
      "<entry>\n",
      "<title type=\"text\">Revista</title><published></published></entry>\n",
      "<entry>\n",
      "<title type=\"text\">Fotocopia</title><published></published></entry>\n",
      "<entry>\n",
      "<title type=\"text\">Otro</title><published></published></entry>\n",
      "<entry>\n",
      "<title type=\"text\">Fecha presentación: Año</title><published>2,0,1,6</published></entry>\n",
      "<entry>\n",
      "<title type=\"text\">Fecha presentación: Mes</title><published>0,2</published></entry>\n",
      "<entry>\n",
      "<title type=\"text\">Fecha presentación: Día</title><published>0,2</published></entry>\n",
      "<entry>\n",
      "<title type=\"text\">Autores</title><published>Carolina Arbeláez <br/>\n",
      "Robinson Longas <br/>\n",
      "Diego Restrepo <br/>\n",
      "Oscar Zapata <br/>\n",
      "</published></entry>\n",
      "<entry>\n",
      "<title type=\"text\">Clasificación Colciencias</title><published>A1</published></entry>\n",
      "<entry>\n",
      "<title type=\"text\">ISSN</title><published>[u'2470-0010', u'2470-0029']</published></entry>\n",
      "<entry>\n",
      "<title type=\"text\">URL</title><published><a href=\"http://link.aps.org/article/10.1103/PhysRevD.93.013012\">http://link.aps.org/article/10.1103/PhysRevD.93.013012</a></published></entry>\n",
      "</feed>\n",
      "\n"
     ]
    }
   ],
   "source": [
    "print ro"
   ]
  },
  {
   "cell_type": "code",
   "execution_count": 52,
   "metadata": {
    "collapsed": true
   },
   "outputs": [],
   "source": [
    "art['container-title']='European Physical Journal C'"
   ]
  },
  {
   "cell_type": "code",
   "execution_count": 53,
   "metadata": {
    "collapsed": true
   },
   "outputs": [],
   "source": [
    "publindex=read_google_cvs(gss_key='1sAN9w7QYxmONArmhfWMOFoebmGKf1qnkKdHy4OAsjD0',gss_query='select+*')\n",
    "art['ISSN_colciencias']=publindex[publindex.TITULO==art['container-title']].ISSN.values[0]\n",
    "art['ISSN_type']=publindex[publindex.TITULO==art['container-title']]['CATEGORIA'].values[0]\n",
    "art['country']=publindex[publindex.TITULO==art['container-title']]['country'].values[0]\n",
    "art['city']=publindex[publindex.TITULO==art['container-title']]['city'].values[0]\n",
    "art['language']=publindex[publindex.TITULO==art['container-title']]['language'].values[0].decode('utf-8')"
   ]
  },
  {
   "cell_type": "code",
   "execution_count": 55,
   "metadata": {
    "collapsed": false
   },
   "outputs": [],
   "source": [
    "aa=art.language"
   ]
  },
  {
   "cell_type": "code",
   "execution_count": 58,
   "metadata": {
    "collapsed": false
   },
   "outputs": [
    {
     "name": "stdout",
     "output_type": "stream",
     "text": [
      "Inglés\n"
     ]
    }
   ],
   "source": [
    "print aa.decode('utf-8')"
   ]
  },
  {
   "cell_type": "code",
   "execution_count": 59,
   "metadata": {
    "collapsed": false
   },
   "outputs": [
    {
     "name": "stdout",
     "output_type": "stream",
     "text": [
      "Inglés\n"
     ]
    }
   ],
   "source": [
    "print aa"
   ]
  },
  {
   "cell_type": "code",
   "execution_count": 65,
   "metadata": {
    "collapsed": true
   },
   "outputs": [],
   "source": [
    "import time"
   ]
  },
  {
   "cell_type": "code",
   "execution_count": 71,
   "metadata": {
    "collapsed": false
   },
   "outputs": [],
   "source": []
  },
  {
   "cell_type": "code",
   "execution_count": 72,
   "metadata": {
    "collapsed": false
   },
   "outputs": [
    {
     "name": "stdout",
     "output_type": "stream",
     "text": [
      "2016 2 2\n"
     ]
    }
   ],
   "source": []
  },
  {
   "cell_type": "code",
   "execution_count": 73,
   "metadata": {
    "collapsed": false
   },
   "outputs": [
    {
     "data": {
      "text/plain": [
       "time.struct_time(tm_year=2016, tm_mon=2, tm_mday=2, tm_hour=2, tm_min=18, tm_sec=56, tm_wday=1, tm_yday=33, tm_isdst=0)"
      ]
     },
     "execution_count": 73,
     "metadata": {},
     "output_type": "execute_result"
    }
   ],
   "source": [
    "tl"
   ]
  },
  {
   "cell_type": "code",
   "execution_count": 75,
   "metadata": {
    "collapsed": false
   },
   "outputs": [],
   "source": [
    "if tl.tm_mon<10:\n",
    "    month='0'+str(tl.tm_mon)"
   ]
  },
  {
   "cell_type": "code",
   "execution_count": 76,
   "metadata": {
    "collapsed": false
   },
   "outputs": [
    {
     "data": {
      "text/plain": [
       "'02'"
      ]
     },
     "execution_count": 76,
     "metadata": {},
     "output_type": "execute_result"
    }
   ],
   "source": [
    "month"
   ]
  },
  {
   "cell_type": "code",
   "execution_count": 122,
   "metadata": {
    "collapsed": false
   },
   "outputs": [
    {
     "data": {
      "text/plain": [
       "dict"
      ]
     },
     "execution_count": 122,
     "metadata": {},
     "output_type": "execute_result"
    }
   ],
   "source": [
    "type(r.json())"
   ]
  },
  {
   "cell_type": "code",
   "execution_count": null,
   "metadata": {
    "collapsed": true
   },
   "outputs": [],
   "source": [
    "import jason"
   ]
  }
 ],
 "metadata": {
  "kernelspec": {
   "display_name": "Python 2",
   "language": "python",
   "name": "python2"
  },
  "language_info": {
   "codemirror_mode": {
    "name": "ipython",
    "version": 2
   },
   "file_extension": ".py",
   "mimetype": "text/x-python",
   "name": "python",
   "nbconvert_exporter": "python",
   "pygments_lexer": "ipython2",
   "version": "2.7.9"
  }
 },
 "nbformat": 4,
 "nbformat_minor": 0
}
