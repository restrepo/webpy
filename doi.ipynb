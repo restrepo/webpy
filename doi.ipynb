{
 "cells": [
  {
   "cell_type": "code",
   "execution_count": 29,
   "metadata": {
    "collapsed": false
   },
   "outputs": [
    {
     "name": "stdout",
     "output_type": "stream",
     "text": [
      "Overwriting doi.py\n"
     ]
    }
   ],
   "source": [
    "%%writefile doi.py\n",
    "#!/usr/bin/env python\n",
    "'''\n",
    "Search doi by title and fist author surname\n",
    "    based on https://github.com/torfbolt/DOI-finder\n",
    "    See: http://www.crossref.org/guestquery/#textsearch\n",
    "'''\n",
    "def searchdoi(title='a model of  leptons', surname='Weinberg'):\n",
    "    import re\n",
    "    import urllib\n",
    "    from bs4 import BeautifulSoup\n",
    "    import httplib\n",
    "    \n",
    "    \"\"\"\n",
    "    based on https://github.com/torfbolt/DOI-finder\n",
    "    See: http://www.crossref.org/guestquery/\n",
    "    \n",
    "    Search for the metadata of given a title; e.g.  \"A model of  leptons\" \n",
    "   (case insensitive), and the Surname (only) for the first author, \n",
    "    e.g. Weinberg \n",
    "                      \n",
    "    returns a dictionary with the keys:\n",
    "\n",
    "       ['Article Title','Author','ISSN','Volume','Persistent Link','Year',\n",
    "        'Issue','Page','Journal Title'],\n",
    "\n",
    "       where 'Author' is really the surname of the first author\n",
    "    \"\"\"\n",
    "    title = re.sub(r\"\\$.*?\\$\",\"\",title) # better remove all math expressions\n",
    "    title = re.sub(r\"[^a-zA-Z0-9 ]\", \" \", title) #remove non standard characters\n",
    "    surname = re.sub(r\"[{}'\\\\]\",\"\", surname) #remove non standard characters\n",
    "    params = urllib.urlencode({\"titlesearch\":\"titlesearch\", \"auth2\" : surname, \"atitle2\" : title, \"multi_hit\" : \"on\", \"article_title_search\" : \"Search\", \"queryType\" : \"author-title\"})\n",
    "    headers = {\"User-Agent\": \"Mozilla/5.0\" , \"Accept\": \"text/html\", \"Content-Type\" : \"application/x-www-form-urlencoded\", \"Host\" : \"www.crossref.org\"}\n",
    "    conn = httplib.HTTPConnection(\"www.crossref.org:80\")\n",
    "    conn.request(\"POST\", \"/guestquery/\", params, headers)\n",
    "    response = conn.getresponse()\n",
    "    # print response.status, response.reason\n",
    "    data = response.read()\n",
    "    conn.close()\n",
    "    result = re.findall(r\"\\<table cellspacing=1 cellpadding=1 width=600 border=0\\>.*?\\<\\/table\\>\" ,data, re.DOTALL)\n",
    "    if (len(result) > 0):\n",
    "        html=urllib.unquote_plus(result[0])\n",
    "        #doi=re.sub('.*dx.doi.org\\/(.*)<\\/a>.*','\\\\1',doitmp)\n",
    "        if re.search('No DOI found',html):\n",
    "            html='<table><tr><td>No DOI found<td></tr></table>'\n",
    "    else:\n",
    "        doi={}\n",
    "        #return {}         \n",
    "\n",
    "    soup = BeautifulSoup(html)\n",
    "    table = soup.find(\"table\")\n",
    "\n",
    "    dataset = []\n",
    "    for row in table.find_all(\"tr\"):\n",
    "        for tdi in row.find_all(\"td\"):\n",
    "            dataset.append(tdi.get_text())\n",
    "            \n",
    "    if len(dataset)==20:\n",
    "        headings=dataset[:9]\n",
    "        datasets=dataset[10:-1]\n",
    "        doi=dict(zip(headings,datasets))\n",
    "        \n",
    "    else:\n",
    "        doi={}\n",
    "        \n",
    "    if doi:\n",
    "        if doi.has_key('ISSN') and doi.has_key('Persistent Link'):\n",
    "            doi['ISSN']=re.sub('([a-zA-Z0-9]{4})([a-zA-Z0-9]{4})','\\\\1-\\\\2',doi['ISSN'])\n",
    "            doi[u'DOI']=doi['Persistent Link']\n",
    "            \n",
    "    return doi\n",
    "\n",
    "if __name__ == \"__main__\":\n",
    "    import sys\n",
    "    title='';first_author_surname=''\n",
    "    if sys.argv[1]:\n",
    "        title=sys.argv[1]\n",
    "    if sys.argv[2]:\n",
    "        first_author_surname=sys.argv[2]\n",
    "        \n",
    "    d=searchdoi(title,first_author_surname)\n",
    "    ref='';sep=','\n",
    "    for k in ['Author','Article Title','Journal Title','Volume','Issue','Page','Year']:\n",
    "        if d.has_key(k):\n",
    "            if k=='Volume':\n",
    "                d[k]='<strong>%s</strong>' %d[k]\n",
    "            if k=='Year':\n",
    "                sep=''\n",
    "            ref=ref+d[k]+sep\n",
    "\n",
    "    if d.has_key('DOI'):\n",
    "        print '''\n",
    "            <br/>DOI: <a href=\"%s\">%s</a><br/>\n",
    "            Ref: %s<br/>\n",
    "            <br>\n",
    "            CODE at <a href=\"https://github.com/restrepo/webpy\">GitHub</a>: doi.py<br/><br/>\n",
    "        ''' %(d['DOI'],d['DOI'],ref)\n",
    "        print 'Official search at <a href=\"http://www.crossref.org/guestquery/#textsearch\">crossref</a>'\n",
    "    else:\n",
    "        print '<br/>DOI lookup failed: try in: <a href=\"http://www.crossref.org/guestquery/#textsearch\">crossref</a>'\n",
    "    \n",
    "        \n",
    "    \n",
    "    "
   ]
  },
  {
   "cell_type": "code",
   "execution_count": 27,
   "metadata": {
    "collapsed": false
   },
   "outputs": [
    {
     "name": "stdout",
     "output_type": "stream",
     "text": [
      "\n",
      "            DOI: http://dx.doi.org/10.1089/ast.2014.1147<br/>\n",
      "            Ref: Heller,Formation, Habitability, and Detection of Extrasolar Moons,Astrobiology,<strong>14</strong>,9,798,2014<br/>\n",
      "            <br>\n",
      "            CODE at https://github.com/restrepo/webpy: doi.py\n",
      "        \n"
     ]
    }
   ],
   "source": [
    "run doi.py \"Formation, habitability, and detection of extrasolar moons\" \"Heller\""
   ]
  },
  {
   "cell_type": "code",
   "execution_count": 20,
   "metadata": {
    "collapsed": false
   },
   "outputs": [
    {
     "data": {
      "text/plain": [
       "{u'Article Title': u'Formation, Habitability, and Detection of Extrasolar Moons',\n",
       " u'Author': u'Heller',\n",
       " u'DOI': u'http://dx.doi.org/10.1089/ast.2014.1147',\n",
       " u'ISSN': u'1531-1074',\n",
       " u'Issue': u'9',\n",
       " u'Journal Title': u'Astrobiology',\n",
       " u'Page': u'798',\n",
       " u'Persistent Link': u'http://dx.doi.org/10.1089/ast.2014.1147',\n",
       " u'Volume': u'14',\n",
       " u'Year': u'2014'}"
      ]
     },
     "execution_count": 20,
     "metadata": {},
     "output_type": "execute_result"
    }
   ],
   "source": [
    "d=searchdoi(\"Formation, habitability, and detection of extrasolar moons\",\"Heller\")\n",
    "d"
   ]
  },
  {
   "cell_type": "code",
   "execution_count": 23,
   "metadata": {
    "collapsed": false
   },
   "outputs": [
    {
     "name": "stdout",
     "output_type": "stream",
     "text": [
      "\n",
      "        DOI: http://dx.doi.org/10.1089/ast.2014.1147<br/>\n",
      "        Ref: Heller,Formation, Habitability, and Detection of Extrasolar Moons,Astrobiology,<strong>14</strong>,9,798,2014<br/>\n",
      "        <br>\n",
      "        CODE at https://github.com/restrepo/webpy: doi.py\n",
      "    \n"
     ]
    }
   ],
   "source": [
    "if 1==1:\n",
    "    ref='';sep=','\n",
    "    for k in ['Author','Article Title','Journal Title','Volume','Issue','Page','Year']:\n",
    "        if d.has_key(k):\n",
    "            if k=='Volume':\n",
    "                d[k]='<strong>%s</strong>' %d[k]\n",
    "            if k=='Year':\n",
    "                sep=''\n",
    "            ref=ref+d[k]+sep\n",
    "\n",
    "    print '''\n",
    "        DOI: %s<br/>\n",
    "        Ref: %s<br/>\n",
    "        <br>\n",
    "        CODE at https://github.com/restrepo/webpy: doi.py\n",
    "    ''' %(d['DOI'],ref)"
   ]
  },
  {
   "cell_type": "code",
   "execution_count": null,
   "metadata": {
    "collapsed": true
   },
   "outputs": [],
   "source": []
  }
 ],
 "metadata": {
  "kernelspec": {
   "display_name": "Python 2",
   "language": "python",
   "name": "python2"
  },
  "language_info": {
   "codemirror_mode": {
    "name": "ipython",
    "version": 2
   },
   "file_extension": ".py",
   "mimetype": "text/x-python",
   "name": "python",
   "nbconvert_exporter": "python",
   "pygments_lexer": "ipython2",
   "version": "2.7.9"
  }
 },
 "nbformat": 4,
 "nbformat_minor": 0
}
