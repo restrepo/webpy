{
 "cells": [
  {
   "cell_type": "code",
   "execution_count": 30,
   "metadata": {
    "collapsed": false
   },
   "outputs": [
    {
     "name": "stdout",
     "output_type": "stream",
     "text": [
      "Overwriting doi.py\n"
     ]
    }
   ],
   "source": [
    "%%writefile doi.py\n",
    "#!/usr/bin/env python\n",
    "'''\n",
    "Search doi by title and fist author surname\n",
    "    based on https://github.com/torfbolt/DOI-finder\n",
    "    See: http://www.crossref.org/guestquery/#textsearch\n",
    "'''\n",
    "def searchdoi(title='a model of  leptons', surname='Weinberg'):\n",
    "    import re\n",
    "    import urllib\n",
    "    from bs4 import BeautifulSoup\n",
    "    import httplib\n",
    "    \n",
    "    \"\"\"\n",
    "    based on https://github.com/torfbolt/DOI-finder\n",
    "    See: http://www.crossref.org/guestquery/\n",
    "    \n",
    "    Search for the metadata of given a title; e.g.  \"A model of  leptons\" \n",
    "   (case insensitive), and the Surname (only) for the first author, \n",
    "    e.g. Weinberg \n",
    "                      \n",
    "    returns a dictionary with the keys:\n",
    "\n",
    "       ['Article Title','Author','ISSN','Volume','Persistent Link','Year',\n",
    "        'Issue','Page','Journal Title'],\n",
    "\n",
    "       where 'Author' is really the surname of the first author\n",
    "    \"\"\"\n",
    "    title = re.sub(r\"\\$.*?\\$\",\"\",title) # better remove all math expressions\n",
    "    title = re.sub(r\"[^a-zA-Z0-9 ]\", \" \", title) #remove non standard characters\n",
    "    surname = re.sub(r\"[{}'\\\\]\",\"\", surname) #remove non standard characters\n",
    "    params = urllib.urlencode({\"titlesearch\":\"titlesearch\", \"auth2\" : surname, \"atitle2\" : title, \"multi_hit\" : \"on\", \"article_title_search\" : \"Search\", \"queryType\" : \"author-title\"})\n",
    "    headers = {\"User-Agent\": \"Mozilla/5.0\" , \"Accept\": \"text/html\", \"Content-Type\" : \"application/x-www-form-urlencoded\", \"Host\" : \"www.crossref.org\"}\n",
    "    conn = httplib.HTTPConnection(\"www.crossref.org:80\")\n",
    "    conn.request(\"POST\", \"/guestquery/\", params, headers)\n",
    "    response = conn.getresponse()\n",
    "    # print response.status, response.reason\n",
    "    data = response.read()\n",
    "    conn.close()\n",
    "    result = re.findall(r\"\\<table cellspacing=1 cellpadding=1 width=600 border=0\\>.*?\\<\\/table\\>\" ,data, re.DOTALL)\n",
    "    if (len(result) > 0):\n",
    "        html=urllib.unquote_plus(result[0])\n",
    "        #doi=re.sub('.*dx.doi.org\\/(.*)<\\/a>.*','\\\\1',doitmp)\n",
    "        if re.search('No DOI found',html):\n",
    "            html='<table><tr><td>No DOI found<td></tr></table>'\n",
    "    else:\n",
    "        doi={}\n",
    "        #return {}         \n",
    "\n",
    "    soup = BeautifulSoup(html)\n",
    "    table = soup.find(\"table\")\n",
    "\n",
    "    dataset = []\n",
    "    for row in table.find_all(\"tr\"):\n",
    "        for tdi in row.find_all(\"td\"):\n",
    "            dataset.append(tdi.get_text())\n",
    "            \n",
    "    if len(dataset)==20:\n",
    "        headings=dataset[:9]\n",
    "        datasets=dataset[10:-1]\n",
    "        doi=dict(zip(headings,datasets))\n",
    "        \n",
    "    else:\n",
    "        doi={}\n",
    "        \n",
    "    if doi:\n",
    "        if doi.has_key('ISSN') and doi.has_key('Persistent Link'):\n",
    "            doi['ISSN']=re.sub('([a-zA-Z0-9]{4})([a-zA-Z0-9]{4})','\\\\1-\\\\2',doi['ISSN'])\n",
    "            doi[u'DOI']=doi['Persistent Link']\n",
    "            \n",
    "    return doi\n",
    "\n",
    "if __name__ == \"__main__\":\n",
    "    import sys\n",
    "    title='';first_author_surname=''\n",
    "    if sys.argv[1]:\n",
    "        title=sys.argv[1]\n",
    "    if sys.argv[2]:\n",
    "        first_author_surname=sys.argv[2]\n",
    "        \n",
    "    d=searchdoi(title,first_author_surname)\n",
    "    ref='';sep=','\n",
    "    for k in ['Author','Article Title','Journal Title','Volume','Issue','Page','Year']:\n",
    "        if d.has_key(k):\n",
    "            if k=='Volume':\n",
    "                d[k]='<strong>%s</strong>' %d[k]\n",
    "            if k=='Year':\n",
    "                sep=''\n",
    "            ref=ref+d[k]+sep\n",
    "\n",
    "    if d.has_key('DOI'):\n",
    "        print '''\n",
    "            <br/>DOI: <a href=\"%s\">%s</a><br/>\n",
    "            Ref: %s<br/>\n",
    "            <br>\n",
    "            CODE at <a href=\"https://github.com/restrepo/webpy\">GitHub</a>: doi.py<br/><br/>\n",
    "        ''' %(d['DOI'],d['DOI'],ref)\n",
    "        print 'Official search at <a href=\"http://www.crossref.org/guestquery/#textsearch\">crossref</a>'\n",
    "    else:\n",
    "        print '<br/>DOI lookup failed: try in: <a href=\"http://www.crossref.org/guestquery/#textsearch\">crossref</a>'\n",
    "    \n",
    "        \n",
    "    \n",
    "    "
   ]
  },
  {
   "cell_type": "code",
   "execution_count": 27,
   "metadata": {
    "collapsed": false
   },
   "outputs": [
    {
     "name": "stdout",
     "output_type": "stream",
     "text": [
      "\n",
      "            DOI: http://dx.doi.org/10.1089/ast.2014.1147<br/>\n",
      "            Ref: Heller,Formation, Habitability, and Detection of Extrasolar Moons,Astrobiology,<strong>14</strong>,9,798,2014<br/>\n",
      "            <br>\n",
      "            CODE at https://github.com/restrepo/webpy: doi.py\n",
      "        \n"
     ]
    }
   ],
   "source": [
    "run doi.py \"Formation, habitability, and detection of extrasolar moons\" \"Heller\""
   ]
  },
  {
   "cell_type": "code",
   "execution_count": 20,
   "metadata": {
    "collapsed": false
   },
   "outputs": [
    {
     "data": {
      "text/plain": [
       "{u'Article Title': u'Formation, Habitability, and Detection of Extrasolar Moons',\n",
       " u'Author': u'Heller',\n",
       " u'DOI': u'http://dx.doi.org/10.1089/ast.2014.1147',\n",
       " u'ISSN': u'1531-1074',\n",
       " u'Issue': u'9',\n",
       " u'Journal Title': u'Astrobiology',\n",
       " u'Page': u'798',\n",
       " u'Persistent Link': u'http://dx.doi.org/10.1089/ast.2014.1147',\n",
       " u'Volume': u'14',\n",
       " u'Year': u'2014'}"
      ]
     },
     "execution_count": 20,
     "metadata": {},
     "output_type": "execute_result"
    }
   ],
   "source": [
    "d=searchdoi(\"Formation, habitability, and detection of extrasolar moons\",\"Heller\")\n",
    "d"
   ]
  },
  {
   "cell_type": "code",
   "execution_count": 23,
   "metadata": {
    "collapsed": false
   },
   "outputs": [
    {
     "name": "stdout",
     "output_type": "stream",
     "text": [
      "\n",
      "        DOI: http://dx.doi.org/10.1089/ast.2014.1147<br/>\n",
      "        Ref: Heller,Formation, Habitability, and Detection of Extrasolar Moons,Astrobiology,<strong>14</strong>,9,798,2014<br/>\n",
      "        <br>\n",
      "        CODE at https://github.com/restrepo/webpy: doi.py\n",
      "    \n"
     ]
    }
   ],
   "source": [
    "if 1==1:\n",
    "    ref='';sep=','\n",
    "    for k in ['Author','Article Title','Journal Title','Volume','Issue','Page','Year']:\n",
    "        if d.has_key(k):\n",
    "            if k=='Volume':\n",
    "                d[k]='<strong>%s</strong>' %d[k]\n",
    "            if k=='Year':\n",
    "                sep=''\n",
    "            ref=ref+d[k]+sep\n",
    "\n",
    "    print '''\n",
    "        DOI: %s<br/>\n",
    "        Ref: %s<br/>\n",
    "        <br>\n",
    "        CODE at https://github.com/restrepo/webpy: doi.py\n",
    "    ''' %(d['DOI'],ref)"
   ]
  },
  {
   "cell_type": "code",
   "execution_count": null,
   "metadata": {
    "collapsed": true
   },
   "outputs": [],
   "source": [
    " conn = httplib.HTTPConnection(\"www.crossref.org:80\")\n",
    "    conn.request(\"POST\", \"/guestquery/\", params, headers)"
   ]
  },
  {
   "cell_type": "code",
   "execution_count": 77,
   "metadata": {
    "collapsed": false
   },
   "outputs": [
    {
     "data": {
      "text/plain": [
       "-1"
      ]
     },
     "execution_count": 77,
     "metadata": {},
     "output_type": "execute_result"
    }
   ],
   "source": [
    "import  requests\n",
    "\n",
    "title=\"Formation, habitability, and detection of extrasolar moons\"; surname=\"Heller\"\n",
    "headers = {\"User-Agent\": \"Mozilla/5.0\" , \"Accept\": \"text/html\",\\\n",
    "               \"Content-Type\" : \"application/x-www-form-urlencoded\", \"Host\" : \"www.crossref.org\"}\n",
    "payload = dict(titlesearch=\"titlesearch\", auth2 = surname, atitle = title, multi_hit = \"on\",\\\n",
    "                   article_title_search = \"Search\", queryType = \"author-title\")\n",
    "r = requests.post('http://www.crossref.org/guestquery/', data=payload,headers=headers)\n",
    "r.text.find('http://dx.doi.org/10.1089/ast.2014.1147')"
   ]
  },
  {
   "cell_type": "code",
   "execution_count": 76,
   "metadata": {
    "collapsed": false
   },
   "outputs": [
    {
     "data": {
      "text/plain": [
       "25620"
      ]
     },
     "execution_count": 76,
     "metadata": {},
     "output_type": "execute_result"
    }
   ],
   "source": [
    "import urllib\n",
    "import httplib\n",
    "title=\"Formation, habitability, and detection of extrasolar moons\"; surname=\"Heller\"\n",
    "params = urllib.urlencode({\"titlesearch\":\"titlesearch\", \"auth2\" : surname, \"atitle2\" : title, \"multi_hit\" : \"on\", \"article_title_search\" : \"Search\", \"queryType\" : \"author-title\"})\n",
    "headers = {\"User-Agent\": \"Mozilla/5.0\" , \"Accept\": \"text/html\", \"Content-Type\" : \"application/x-www-form-urlencoded\", \"Host\" : \"www.crossref.org\"}\n",
    "conn = httplib.HTTPConnection(\"www.crossref.org:80\")\n",
    "conn.request(\"POST\", \"/guestquery/\", params, headers)\n",
    "response = conn.getresponse()\n",
    "r = response.read()\n",
    "r.find('http://dx.doi.org/10.1089/ast.2014.1147')"
   ]
  },
  {
   "cell_type": "code",
   "execution_count": 78,
   "metadata": {
    "collapsed": false
   },
   "outputs": [],
   "source": [
    "import mechanize\n",
    "browser = mechanize.Browser()\n",
    "browser.set_handle_robots(False)\n",
    "browser.addheaders = [('User-agent', 'Firefox')] \n",
    "browser.open(\"http://www.crossref.org/guestquery/\")\n",
    "assert browser.viewing_html()\n",
    "browser.select_form(name=\"form2\")\n",
    "# use only surname of first author\n",
    "browser[\"auth2\"] =  \"Heller\" #re.sub(r'[A-Z] ', ' ',\n",
    "#re.sub(r'[^a-zA-Z0-9 ]+', ' ', author).split(\"and\")[0])\n",
    "browser[\"atitle2\"] = \"Formation, habitability, and detection of extrasolar moons\" #re.sub(r'[^a-zA-Z0-9 ]+', ' ', title)\n",
    "response = browser.submit()\n",
    "sourcecode = response.get_data()"
   ]
  },
  {
   "cell_type": "code",
   "execution_count": 80,
   "metadata": {
    "collapsed": false
   },
   "outputs": [
    {
     "data": {
      "text/plain": [
       "25627"
      ]
     },
     "execution_count": 80,
     "metadata": {},
     "output_type": "execute_result"
    }
   ],
   "source": [
    "sourcecode.find('http://dx.doi.org/10.1089/ast.2014.1147')"
   ]
  },
  {
   "cell_type": "code",
   "execution_count": 90,
   "metadata": {
    "collapsed": false
   },
   "outputs": [
    {
     "ename": "FormNotFoundError",
     "evalue": "no form matching name 'form'",
     "output_type": "error",
     "traceback": [
      "\u001b[1;31m---------------------------------------------------------------------------\u001b[0m",
      "\u001b[1;31mFormNotFoundError\u001b[0m                         Traceback (most recent call last)",
      "\u001b[1;32m<ipython-input-90-a3b6eaa95bcc>\u001b[0m in \u001b[0;36m<module>\u001b[1;34m()\u001b[0m\n\u001b[0;32m      5\u001b[0m \u001b[0mbrowser\u001b[0m\u001b[1;33m.\u001b[0m\u001b[0mopen\u001b[0m\u001b[1;33m(\u001b[0m\u001b[1;34m\"http://gfif.udea.edu.co/python/doi.php\"\u001b[0m\u001b[1;33m)\u001b[0m\u001b[1;33m\u001b[0m\u001b[0m\n\u001b[0;32m      6\u001b[0m \u001b[1;32massert\u001b[0m \u001b[0mbrowser\u001b[0m\u001b[1;33m.\u001b[0m\u001b[0mviewing_html\u001b[0m\u001b[1;33m(\u001b[0m\u001b[1;33m)\u001b[0m\u001b[1;33m\u001b[0m\u001b[0m\n\u001b[1;32m----> 7\u001b[1;33m \u001b[0mbrowser\u001b[0m\u001b[1;33m.\u001b[0m\u001b[0mselect_form\u001b[0m\u001b[1;33m(\u001b[0m\u001b[0mname\u001b[0m\u001b[1;33m=\u001b[0m\u001b[1;34m\"form\"\u001b[0m\u001b[1;33m)\u001b[0m\u001b[1;33m\u001b[0m\u001b[0m\n\u001b[0m\u001b[0;32m      8\u001b[0m \u001b[1;31m# use only surname of first author\u001b[0m\u001b[1;33m\u001b[0m\u001b[1;33m\u001b[0m\u001b[0m\n\u001b[0;32m      9\u001b[0m \u001b[0mbrowser\u001b[0m\u001b[1;33m[\u001b[0m\u001b[1;34m\"title\"\u001b[0m\u001b[1;33m]\u001b[0m \u001b[1;33m=\u001b[0m \u001b[1;34m\"Formation, habitability, and detection of extrasolar moons\"\u001b[0m \u001b[1;31m#re.sub(r'[^a-zA-Z0-9 ]+', ' ', title)\u001b[0m\u001b[1;33m\u001b[0m\u001b[0m\n",
      "\u001b[1;32m/usr/lib/python2.7/dist-packages/mechanize/_mechanize.pyc\u001b[0m in \u001b[0;36mselect_form\u001b[1;34m(self, name, predicate, nr)\u001b[0m\n\u001b[0;32m    522\u001b[0m             \u001b[1;32mif\u001b[0m \u001b[0morig_nr\u001b[0m \u001b[1;32mis\u001b[0m \u001b[1;32mnot\u001b[0m \u001b[0mNone\u001b[0m\u001b[1;33m:\u001b[0m \u001b[0mdescription\u001b[0m\u001b[1;33m.\u001b[0m\u001b[0mappend\u001b[0m\u001b[1;33m(\u001b[0m\u001b[1;34m\"nr %d\"\u001b[0m \u001b[1;33m%\u001b[0m \u001b[0morig_nr\u001b[0m\u001b[1;33m)\u001b[0m\u001b[1;33m\u001b[0m\u001b[0m\n\u001b[0;32m    523\u001b[0m             \u001b[0mdescription\u001b[0m \u001b[1;33m=\u001b[0m \u001b[1;34m\", \"\u001b[0m\u001b[1;33m.\u001b[0m\u001b[0mjoin\u001b[0m\u001b[1;33m(\u001b[0m\u001b[0mdescription\u001b[0m\u001b[1;33m)\u001b[0m\u001b[1;33m\u001b[0m\u001b[0m\n\u001b[1;32m--> 524\u001b[1;33m             \u001b[1;32mraise\u001b[0m \u001b[0mFormNotFoundError\u001b[0m\u001b[1;33m(\u001b[0m\u001b[1;34m\"no form matching \"\u001b[0m\u001b[1;33m+\u001b[0m\u001b[0mdescription\u001b[0m\u001b[1;33m)\u001b[0m\u001b[1;33m\u001b[0m\u001b[0m\n\u001b[0m\u001b[0;32m    525\u001b[0m \u001b[1;33m\u001b[0m\u001b[0m\n\u001b[0;32m    526\u001b[0m     \u001b[1;32mdef\u001b[0m \u001b[0mclick\u001b[0m\u001b[1;33m(\u001b[0m\u001b[0mself\u001b[0m\u001b[1;33m,\u001b[0m \u001b[1;33m*\u001b[0m\u001b[0margs\u001b[0m\u001b[1;33m,\u001b[0m \u001b[1;33m**\u001b[0m\u001b[0mkwds\u001b[0m\u001b[1;33m)\u001b[0m\u001b[1;33m:\u001b[0m\u001b[1;33m\u001b[0m\u001b[0m\n",
      "\u001b[1;31mFormNotFoundError\u001b[0m: no form matching name 'form'"
     ]
    }
   ],
   "source": [
    "import mechanize\n",
    "browser = mechanize.Browser()\n",
    "browser.set_handle_robots(False)\n",
    "browser.addheaders = [('User-agent', 'Firefox')] \n",
    "browser.open(\"http://gfif.udea.edu.co/python/doi.php\")\n",
    "assert browser.viewing_html()\n",
    "browser.select_form(name=\"form\")\n",
    "# use only surname of first author\n",
    "browser[\"title\"] = \"Formation, habitability, and detection of extrasolar moons\" #re.sub(r'[^a-zA-Z0-9 ]+', ' ', title)\n",
    "browser[\"surname\"] =  \"Heller\" #re.sub(r'[A-Z] ', ' ',\n",
    "#re.sub(r'[^a-zA-Z0-9 ]+', ' ', author).split(\"and\")[0])\n",
    "response = browser.submit()\n",
    "sourcecode = response.get_data()"
   ]
  },
  {
   "cell_type": "code",
   "execution_count": 97,
   "metadata": {
    "collapsed": false
   },
   "outputs": [],
   "source": [
    "import requests\n",
    "\n",
    "URL = 'http://gfif.udea.edu.co/python/doi.php'\n",
    "payload = {\n",
    "    'surname':\"Heller\",\n",
    "    'title': \"Formation, habitability, and detection of extrasolar moons\",\n",
    "}\n",
    "\n",
    "session = requests.session()\n",
    "r = requests.post(URL, data=payload)"
   ]
  },
  {
   "cell_type": "code",
   "execution_count": 107,
   "metadata": {
    "collapsed": false
   },
   "outputs": [
    {
     "data": {
      "text/plain": [
       "u'http://gfif.udea.edu.co/python/doi.php'"
      ]
     },
     "execution_count": 107,
     "metadata": {},
     "output_type": "execute_result"
    }
   ],
   "source": [
    "r.url"
   ]
  },
  {
   "cell_type": "code",
   "execution_count": null,
   "metadata": {
    "collapsed": true
   },
   "outputs": [],
   "source": []
  }
 ],
 "metadata": {
  "kernelspec": {
   "display_name": "Python 2",
   "language": "python",
   "name": "python2"
  },
  "language_info": {
   "codemirror_mode": {
    "name": "ipython",
    "version": 2
   },
   "file_extension": ".py",
   "mimetype": "text/x-python",
   "name": "python",
   "nbconvert_exporter": "python",
   "pygments_lexer": "ipython2",
   "version": "2.7.9"
  }
 },
 "nbformat": 4,
 "nbformat_minor": 0
}
